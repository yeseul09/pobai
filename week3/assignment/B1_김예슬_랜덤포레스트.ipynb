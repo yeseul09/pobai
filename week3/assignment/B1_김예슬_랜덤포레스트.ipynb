{
 "cells": [
  {
   "cell_type": "markdown",
   "id": "4e7bb3a0-43de-423d-8abd-bceb9a856e6c",
   "metadata": {},
   "source": [
    "## 필요 함수 import"
   ]
  },
  {
   "cell_type": "code",
   "execution_count": 1,
   "id": "0f626491-6e10-4d68-ba5a-1a2e2da64e24",
   "metadata": {},
   "outputs": [],
   "source": [
    "import pandas as pd\n",
    "import numpy as np\n",
    "from sklearn.tree import export_graphviz\n",
    "import graphviz\n",
    "\n",
    "from sklearn.model_selection import train_test_split\n",
    "from sklearn.tree import DecisionTreeRegressor\n",
    "from sklearn.ensemble import RandomForestRegressor, GradientBoostingRegressor\n",
    "\n",
    "from models import *"
   ]
  },
  {
   "cell_type": "code",
   "execution_count": 2,
   "id": "14d96cea-6556-4abc-8166-c3bd224c7a88",
   "metadata": {},
   "outputs": [],
   "source": [
    "# 한글 폰트 깨지지 않게 하기\n",
    "rc('font', family='AppleGothic')\n",
    "plt.rcParams['axes.unicode_minus'] = False\n",
    "\n",
    "# 실행결과 경고메시지 출력 제외\n",
    "import warnings\n",
    "\n",
    "warnings.filterwarnings('ignore')"
   ]
  },
  {
   "cell_type": "markdown",
   "id": "1eda6245-d1f1-484c-97cc-6c6c811f35e9",
   "metadata": {},
   "source": [
    "## 데이터 불러오기 및 정제"
   ]
  },
  {
   "cell_type": "code",
   "execution_count": 3,
   "id": "01fbcb82-9404-470b-95d3-409909774bcd",
   "metadata": {},
   "outputs": [
    {
     "data": {
      "text/html": [
       "<div>\n",
       "<style scoped>\n",
       "    .dataframe tbody tr th:only-of-type {\n",
       "        vertical-align: middle;\n",
       "    }\n",
       "\n",
       "    .dataframe tbody tr th {\n",
       "        vertical-align: top;\n",
       "    }\n",
       "\n",
       "    .dataframe thead th {\n",
       "        text-align: right;\n",
       "    }\n",
       "</style>\n",
       "<table border=\"1\" class=\"dataframe\">\n",
       "  <thead>\n",
       "    <tr style=\"text-align: right;\">\n",
       "      <th></th>\n",
       "      <th>고객번호</th>\n",
       "      <th>성별</th>\n",
       "      <th>나이</th>\n",
       "      <th>BMI</th>\n",
       "      <th>자녀수</th>\n",
       "      <th>흡연여부</th>\n",
       "      <th>가입유형</th>\n",
       "      <th>납부유형</th>\n",
       "      <th>보장범위</th>\n",
       "      <th>납입기간</th>\n",
       "      <th>보험료</th>\n",
       "    </tr>\n",
       "  </thead>\n",
       "  <tbody>\n",
       "    <tr>\n",
       "      <th>0</th>\n",
       "      <td>ID100001</td>\n",
       "      <td>남성</td>\n",
       "      <td>19</td>\n",
       "      <td>27.9</td>\n",
       "      <td>0</td>\n",
       "      <td>1</td>\n",
       "      <td>홈쇼핑</td>\n",
       "      <td>은행</td>\n",
       "      <td>19</td>\n",
       "      <td>40</td>\n",
       "      <td>168849</td>\n",
       "    </tr>\n",
       "    <tr>\n",
       "      <th>1</th>\n",
       "      <td>ID100002</td>\n",
       "      <td>여성</td>\n",
       "      <td>18</td>\n",
       "      <td>33.8</td>\n",
       "      <td>1</td>\n",
       "      <td>0</td>\n",
       "      <td>인터넷</td>\n",
       "      <td>은행</td>\n",
       "      <td>10</td>\n",
       "      <td>40</td>\n",
       "      <td>17255</td>\n",
       "    </tr>\n",
       "    <tr>\n",
       "      <th>2</th>\n",
       "      <td>ID100003</td>\n",
       "      <td>여성</td>\n",
       "      <td>28</td>\n",
       "      <td>33.0</td>\n",
       "      <td>3</td>\n",
       "      <td>0</td>\n",
       "      <td>상담사</td>\n",
       "      <td>카드</td>\n",
       "      <td>12</td>\n",
       "      <td>30</td>\n",
       "      <td>44494</td>\n",
       "    </tr>\n",
       "    <tr>\n",
       "      <th>3</th>\n",
       "      <td>ID100004</td>\n",
       "      <td>여성</td>\n",
       "      <td>33</td>\n",
       "      <td>22.7</td>\n",
       "      <td>0</td>\n",
       "      <td>0</td>\n",
       "      <td>홈쇼핑</td>\n",
       "      <td>지로</td>\n",
       "      <td>15</td>\n",
       "      <td>30</td>\n",
       "      <td>219844</td>\n",
       "    </tr>\n",
       "    <tr>\n",
       "      <th>4</th>\n",
       "      <td>ID100005</td>\n",
       "      <td>여성</td>\n",
       "      <td>32</td>\n",
       "      <td>28.9</td>\n",
       "      <td>0</td>\n",
       "      <td>0</td>\n",
       "      <td>인터넷</td>\n",
       "      <td>카드</td>\n",
       "      <td>9</td>\n",
       "      <td>30</td>\n",
       "      <td>38668</td>\n",
       "    </tr>\n",
       "  </tbody>\n",
       "</table>\n",
       "</div>"
      ],
      "text/plain": [
       "       고객번호  성별  나이   BMI  자녀수  흡연여부 가입유형 납부유형  보장범위  납입기간     보험료\n",
       "0  ID100001  남성  19  27.9    0     1  홈쇼핑   은행    19    40  168849\n",
       "1  ID100002  여성  18  33.8    1     0  인터넷   은행    10    40   17255\n",
       "2  ID100003  여성  28  33.0    3     0  상담사   카드    12    30   44494\n",
       "3  ID100004  여성  33  22.7    0     0  홈쇼핑   지로    15    30  219844\n",
       "4  ID100005  여성  32  28.9    0     0  인터넷   카드     9    30   38668"
      ]
     },
     "execution_count": 3,
     "metadata": {},
     "output_type": "execute_result"
    }
   ],
   "source": [
    "raw_data = pd.read_csv(\"../../01.files/02.Bigsata_analysis/보험료.csv\", encoding = 'euc-kr')\n",
    "raw_data.head()"
   ]
  },
  {
   "cell_type": "code",
   "execution_count": 4,
   "id": "3cb1e290-5dcb-4be5-a0c6-deb2ea930e20",
   "metadata": {},
   "outputs": [
    {
     "data": {
      "text/html": [
       "<div>\n",
       "<style scoped>\n",
       "    .dataframe tbody tr th:only-of-type {\n",
       "        vertical-align: middle;\n",
       "    }\n",
       "\n",
       "    .dataframe tbody tr th {\n",
       "        vertical-align: top;\n",
       "    }\n",
       "\n",
       "    .dataframe thead th {\n",
       "        text-align: right;\n",
       "    }\n",
       "</style>\n",
       "<table border=\"1\" class=\"dataframe\">\n",
       "  <thead>\n",
       "    <tr style=\"text-align: right;\">\n",
       "      <th></th>\n",
       "      <th>나이</th>\n",
       "      <th>BMI</th>\n",
       "      <th>자녀수</th>\n",
       "      <th>흡연여부</th>\n",
       "      <th>보장범위</th>\n",
       "      <th>납입기간</th>\n",
       "      <th>보험료</th>\n",
       "      <th>성별_남성</th>\n",
       "      <th>성별_여성</th>\n",
       "      <th>가입유형_상담사</th>\n",
       "      <th>가입유형_인터넷</th>\n",
       "      <th>가입유형_홈쇼핑</th>\n",
       "      <th>납부유형_은행</th>\n",
       "      <th>납부유형_지로</th>\n",
       "      <th>납부유형_카드</th>\n",
       "    </tr>\n",
       "  </thead>\n",
       "  <tbody>\n",
       "    <tr>\n",
       "      <th>0</th>\n",
       "      <td>19</td>\n",
       "      <td>27.9</td>\n",
       "      <td>0</td>\n",
       "      <td>1</td>\n",
       "      <td>19</td>\n",
       "      <td>40</td>\n",
       "      <td>168849</td>\n",
       "      <td>1</td>\n",
       "      <td>0</td>\n",
       "      <td>0</td>\n",
       "      <td>0</td>\n",
       "      <td>1</td>\n",
       "      <td>1</td>\n",
       "      <td>0</td>\n",
       "      <td>0</td>\n",
       "    </tr>\n",
       "    <tr>\n",
       "      <th>1</th>\n",
       "      <td>18</td>\n",
       "      <td>33.8</td>\n",
       "      <td>1</td>\n",
       "      <td>0</td>\n",
       "      <td>10</td>\n",
       "      <td>40</td>\n",
       "      <td>17255</td>\n",
       "      <td>0</td>\n",
       "      <td>1</td>\n",
       "      <td>0</td>\n",
       "      <td>1</td>\n",
       "      <td>0</td>\n",
       "      <td>1</td>\n",
       "      <td>0</td>\n",
       "      <td>0</td>\n",
       "    </tr>\n",
       "    <tr>\n",
       "      <th>2</th>\n",
       "      <td>28</td>\n",
       "      <td>33.0</td>\n",
       "      <td>3</td>\n",
       "      <td>0</td>\n",
       "      <td>12</td>\n",
       "      <td>30</td>\n",
       "      <td>44494</td>\n",
       "      <td>0</td>\n",
       "      <td>1</td>\n",
       "      <td>1</td>\n",
       "      <td>0</td>\n",
       "      <td>0</td>\n",
       "      <td>0</td>\n",
       "      <td>0</td>\n",
       "      <td>1</td>\n",
       "    </tr>\n",
       "    <tr>\n",
       "      <th>3</th>\n",
       "      <td>33</td>\n",
       "      <td>22.7</td>\n",
       "      <td>0</td>\n",
       "      <td>0</td>\n",
       "      <td>15</td>\n",
       "      <td>30</td>\n",
       "      <td>219844</td>\n",
       "      <td>0</td>\n",
       "      <td>1</td>\n",
       "      <td>0</td>\n",
       "      <td>0</td>\n",
       "      <td>1</td>\n",
       "      <td>0</td>\n",
       "      <td>1</td>\n",
       "      <td>0</td>\n",
       "    </tr>\n",
       "    <tr>\n",
       "      <th>4</th>\n",
       "      <td>32</td>\n",
       "      <td>28.9</td>\n",
       "      <td>0</td>\n",
       "      <td>0</td>\n",
       "      <td>9</td>\n",
       "      <td>30</td>\n",
       "      <td>38668</td>\n",
       "      <td>0</td>\n",
       "      <td>1</td>\n",
       "      <td>0</td>\n",
       "      <td>1</td>\n",
       "      <td>0</td>\n",
       "      <td>0</td>\n",
       "      <td>0</td>\n",
       "      <td>1</td>\n",
       "    </tr>\n",
       "  </tbody>\n",
       "</table>\n",
       "</div>"
      ],
      "text/plain": [
       "   나이   BMI  자녀수  흡연여부  보장범위  납입기간     보험료  성별_남성  성별_여성  가입유형_상담사  가입유형_인터넷  \\\n",
       "0  19  27.9    0     1    19    40  168849      1      0         0         0   \n",
       "1  18  33.8    1     0    10    40   17255      0      1         0         1   \n",
       "2  28  33.0    3     0    12    30   44494      0      1         1         0   \n",
       "3  33  22.7    0     0    15    30  219844      0      1         0         0   \n",
       "4  32  28.9    0     0     9    30   38668      0      1         0         1   \n",
       "\n",
       "   가입유형_홈쇼핑  납부유형_은행  납부유형_지로  납부유형_카드  \n",
       "0         1        1        0        0  \n",
       "1         0        1        0        0  \n",
       "2         0        0        0        1  \n",
       "3         1        0        1        0  \n",
       "4         0        0        0        1  "
      ]
     },
     "execution_count": 4,
     "metadata": {},
     "output_type": "execute_result"
    }
   ],
   "source": [
    "# 이전 다중선형 회귀분석에서 사용한 데이터 사용 - get_dummy만 다름(drop_first = False)\n",
    "raw_data.dropna(inplace = True)\n",
    "raw_data.drop(['고객번호'], axis = 1, inplace = True)\n",
    "df = pd.get_dummies(raw_data)\n",
    "df.head()"
   ]
  },
  {
   "cell_type": "code",
   "execution_count": 5,
   "id": "9aef3ac3-1086-4c26-ae54-99309548f52f",
   "metadata": {},
   "outputs": [
    {
     "name": "stdout",
     "output_type": "stream",
     "text": [
      "df_train_x: (936, 14)\n",
      "df_test_x: (402, 14)\n",
      "df_train_y: (936,)\n",
      "df_test_y: (402,)\n"
     ]
    }
   ],
   "source": [
    "df_x = df.drop(['보험료'], axis = 1, inplace=False)\n",
    "df_y = df['보험료']\n",
    "\n",
    "df_train_x, df_test_x, df_train_y, df_test_y = train_test_split(df_x, df_y, test_size=0.3, random_state=777)\n",
    "\n",
    "print(\"df_train_x:\",df_train_x.shape)\n",
    "print(\"df_test_x:\",df_test_x.shape)\n",
    "print(\"df_train_y:\",df_train_y.shape)\n",
    "print(\"df_test_y:\",df_test_y.shape)"
   ]
  },
  {
   "cell_type": "markdown",
   "id": "18808eef-ed97-4736-82ea-ae324be4ee46",
   "metadata": {},
   "source": [
    "## Random Forest 모델"
   ]
  },
  {
   "cell_type": "code",
   "execution_count": 6,
   "id": "6fb27493-7d4e-4ddf-b060-3cc6facd9f27",
   "metadata": {},
   "outputs": [
    {
     "name": "stdout",
     "output_type": "stream",
     "text": [
      "Score on training set: 0.996\n",
      "Score on test set: 0.959\n"
     ]
    }
   ],
   "source": [
    "'''\n",
    "디폴트 값으로 정의된 모델을 기반으로 학습했을때,\n",
    "학습 데이터나 테스트 데이터셋에 대해 성능차이가 거의 없으며, 잘 학습된 모습을 보인다.\n",
    "\n",
    "파라미터의 조정 이후에도 성능을 계속 유지하거나 더 좋은 성능을 보이는지 확인해보도록 하겠다. \n",
    "\n",
    "\n",
    "'''\n",
    "model_name = 'rf'\n",
    "\n",
    "rf_uncustomized = RandomForestRegressor(random_state = 777)\n",
    "rf_uncustomized.fit(df_train_x, df_train_y)\n",
    "\n",
    "print(\"Score on training set: {:.3f}\".format(rf_uncustomized.score(df_train_x, df_train_y)))\n",
    "print(\"Score on test set: {:.3f}\".format(rf_uncustomized.score(df_test_x, df_test_y)))"
   ]
  },
  {
   "cell_type": "code",
   "execution_count": 7,
   "id": "6afad5d3-1150-4b51-aeca-0d76d96c97d5",
   "metadata": {},
   "outputs": [
    {
     "data": {
      "text/plain": [
       "{'bootstrap': True,\n",
       " 'ccp_alpha': 0.0,\n",
       " 'criterion': 'squared_error',\n",
       " 'max_depth': None,\n",
       " 'max_features': 1.0,\n",
       " 'max_leaf_nodes': None,\n",
       " 'max_samples': None,\n",
       " 'min_impurity_decrease': 0.0,\n",
       " 'min_samples_leaf': 1,\n",
       " 'min_samples_split': 2,\n",
       " 'min_weight_fraction_leaf': 0.0,\n",
       " 'n_estimators': 100,\n",
       " 'n_jobs': None,\n",
       " 'oob_score': False,\n",
       " 'random_state': 777,\n",
       " 'verbose': 0,\n",
       " 'warm_start': False}"
      ]
     },
     "execution_count": 7,
     "metadata": {},
     "output_type": "execute_result"
    }
   ],
   "source": [
    "rf_uncustomized.get_params()"
   ]
  },
  {
   "cell_type": "code",
   "execution_count": 8,
   "id": "e29c3850-df29-4405-9c3a-4a37d4b4672b",
   "metadata": {},
   "outputs": [],
   "source": [
    "# default 파라미터 세팅\n",
    "\n",
    "hyperparameters = {\n",
    "    'min_samples_leaf' : [1],\n",
    "    'min_samples_split' : [2],\n",
    "    'max_depth' : [None],\n",
    "    'n_estimators' : [100]\n",
    "}         "
   ]
  },
  {
   "cell_type": "markdown",
   "id": "320ededb-45f7-4606-aac1-96946172377b",
   "metadata": {},
   "source": [
    "#### 1. n_estimators 조정"
   ]
  },
  {
   "cell_type": "code",
   "execution_count": 9,
   "id": "b2d43b11-8cea-4777-91fe-e13f9a2bec4e",
   "metadata": {},
   "outputs": [
    {
     "data": {
      "image/png": "[encoded data removed]",
      "text/plain": [
       "<Figure size 640x480 with 1 Axes>"
      ]
     },
     "metadata": {},
     "output_type": "display_data"
    }
   ],
   "source": [
    "hyperparameters['n_estimators'] = [x * 10 for x in range(1,21)]\n",
    "df_score = run_models(hyperparameters, df_train_x, df_train_y, df_test_x, df_test_y, model_name, 'n_estimators', 1)"
   ]
  },
  {
   "cell_type": "code",
   "execution_count": 10,
   "id": "be1bd460-f389-4dbb-aa4a-8ab35e36d407",
   "metadata": {
    "scrolled": true
   },
   "outputs": [
    {
     "data": {
      "text/html": [
       "<div>\n",
       "<style scoped>\n",
       "    .dataframe tbody tr th:only-of-type {\n",
       "        vertical-align: middle;\n",
       "    }\n",
       "\n",
       "    .dataframe tbody tr th {\n",
       "        vertical-align: top;\n",
       "    }\n",
       "\n",
       "    .dataframe thead th {\n",
       "        text-align: right;\n",
       "    }\n",
       "</style>\n",
       "<table border=\"1\" class=\"dataframe\">\n",
       "  <thead>\n",
       "    <tr style=\"text-align: right;\">\n",
       "      <th></th>\n",
       "      <th>n_estimators</th>\n",
       "      <th>TrainScore</th>\n",
       "      <th>TestScore</th>\n",
       "    </tr>\n",
       "  </thead>\n",
       "  <tbody>\n",
       "    <tr>\n",
       "      <th>0</th>\n",
       "      <td>10</td>\n",
       "      <td>0.996</td>\n",
       "      <td>0.958</td>\n",
       "    </tr>\n",
       "    <tr>\n",
       "      <th>1</th>\n",
       "      <td>20</td>\n",
       "      <td>0.996</td>\n",
       "      <td>0.963</td>\n",
       "    </tr>\n",
       "    <tr>\n",
       "      <th>2</th>\n",
       "      <td>30</td>\n",
       "      <td>0.996</td>\n",
       "      <td>0.962</td>\n",
       "    </tr>\n",
       "    <tr>\n",
       "      <th>3</th>\n",
       "      <td>40</td>\n",
       "      <td>0.997</td>\n",
       "      <td>0.962</td>\n",
       "    </tr>\n",
       "    <tr>\n",
       "      <th>4</th>\n",
       "      <td>50</td>\n",
       "      <td>0.996</td>\n",
       "      <td>0.961</td>\n",
       "    </tr>\n",
       "    <tr>\n",
       "      <th>5</th>\n",
       "      <td>60</td>\n",
       "      <td>0.996</td>\n",
       "      <td>0.961</td>\n",
       "    </tr>\n",
       "    <tr>\n",
       "      <th>6</th>\n",
       "      <td>70</td>\n",
       "      <td>0.996</td>\n",
       "      <td>0.961</td>\n",
       "    </tr>\n",
       "    <tr>\n",
       "      <th>7</th>\n",
       "      <td>80</td>\n",
       "      <td>0.996</td>\n",
       "      <td>0.960</td>\n",
       "    </tr>\n",
       "    <tr>\n",
       "      <th>8</th>\n",
       "      <td>90</td>\n",
       "      <td>0.996</td>\n",
       "      <td>0.960</td>\n",
       "    </tr>\n",
       "    <tr>\n",
       "      <th>9</th>\n",
       "      <td>100</td>\n",
       "      <td>0.996</td>\n",
       "      <td>0.959</td>\n",
       "    </tr>\n",
       "    <tr>\n",
       "      <th>10</th>\n",
       "      <td>110</td>\n",
       "      <td>0.996</td>\n",
       "      <td>0.959</td>\n",
       "    </tr>\n",
       "    <tr>\n",
       "      <th>11</th>\n",
       "      <td>120</td>\n",
       "      <td>0.996</td>\n",
       "      <td>0.959</td>\n",
       "    </tr>\n",
       "    <tr>\n",
       "      <th>12</th>\n",
       "      <td>130</td>\n",
       "      <td>0.996</td>\n",
       "      <td>0.959</td>\n",
       "    </tr>\n",
       "    <tr>\n",
       "      <th>13</th>\n",
       "      <td>140</td>\n",
       "      <td>0.996</td>\n",
       "      <td>0.960</td>\n",
       "    </tr>\n",
       "    <tr>\n",
       "      <th>14</th>\n",
       "      <td>150</td>\n",
       "      <td>0.996</td>\n",
       "      <td>0.960</td>\n",
       "    </tr>\n",
       "    <tr>\n",
       "      <th>15</th>\n",
       "      <td>160</td>\n",
       "      <td>0.996</td>\n",
       "      <td>0.960</td>\n",
       "    </tr>\n",
       "    <tr>\n",
       "      <th>16</th>\n",
       "      <td>170</td>\n",
       "      <td>0.996</td>\n",
       "      <td>0.960</td>\n",
       "    </tr>\n",
       "    <tr>\n",
       "      <th>17</th>\n",
       "      <td>180</td>\n",
       "      <td>0.996</td>\n",
       "      <td>0.960</td>\n",
       "    </tr>\n",
       "    <tr>\n",
       "      <th>18</th>\n",
       "      <td>190</td>\n",
       "      <td>0.996</td>\n",
       "      <td>0.960</td>\n",
       "    </tr>\n",
       "    <tr>\n",
       "      <th>19</th>\n",
       "      <td>200</td>\n",
       "      <td>0.996</td>\n",
       "      <td>0.960</td>\n",
       "    </tr>\n",
       "  </tbody>\n",
       "</table>\n",
       "</div>"
      ],
      "text/plain": [
       "    n_estimators  TrainScore  TestScore\n",
       "0             10       0.996      0.958\n",
       "1             20       0.996      0.963\n",
       "2             30       0.996      0.962\n",
       "3             40       0.997      0.962\n",
       "4             50       0.996      0.961\n",
       "5             60       0.996      0.961\n",
       "6             70       0.996      0.961\n",
       "7             80       0.996      0.960\n",
       "8             90       0.996      0.960\n",
       "9            100       0.996      0.959\n",
       "10           110       0.996      0.959\n",
       "11           120       0.996      0.959\n",
       "12           130       0.996      0.959\n",
       "13           140       0.996      0.960\n",
       "14           150       0.996      0.960\n",
       "15           160       0.996      0.960\n",
       "16           170       0.996      0.960\n",
       "17           180       0.996      0.960\n",
       "18           190       0.996      0.960\n",
       "19           200       0.996      0.960"
      ]
     },
     "execution_count": 10,
     "metadata": {},
     "output_type": "execute_result"
    }
   ],
   "source": [
    "df_score.round(3)"
   ]
  },
  {
   "cell_type": "code",
   "execution_count": 11,
   "id": "ab532b30-e481-4851-bc84-6eff6de63260",
   "metadata": {},
   "outputs": [],
   "source": [
    "hyperparameters['n_estimators'] = [20]"
   ]
  },
  {
   "cell_type": "markdown",
   "id": "e783c39e-ec97-4b7f-ae28-1475a0255a18",
   "metadata": {},
   "source": [
    "1. n_estimators가 20일때 테스트 성능이 잠깐 상승했다가\n",
    "   이후로는 하락세와 상승세가 불규칙하게 나타나는 것을 볼 수 있음\n",
    "2. 따라서 n_estimators는 20을 선택함"
   ]
  },
  {
   "cell_type": "markdown",
   "id": "4d40e36e-d5c1-4274-8eae-e5094387022d",
   "metadata": {},
   "source": [
    "#### 2. min_samples_leaf 조정"
   ]
  },
  {
   "cell_type": "code",
   "execution_count": 12,
   "id": "587d8d94-c113-424f-9bb5-61178e08c2aa",
   "metadata": {},
   "outputs": [
    {
     "data": {
      "image/png": "[encoded data removed]",
      "text/plain": [
       "<Figure size 640x480 with 1 Axes>"
      ]
     },
     "metadata": {},
     "output_type": "display_data"
    }
   ],
   "source": [
    "hyperparameters['min_samples_leaf'] = [x for x in range(1,20)]\n",
    "df_score = run_models(hyperparameters, df_train_x, df_train_y, df_test_x, df_test_y, model_name, 'min_samples_leaf', 1)"
   ]
  },
  {
   "cell_type": "code",
   "execution_count": 13,
   "id": "48f4361e-fa1a-4f3c-aec6-128c8e827867",
   "metadata": {},
   "outputs": [
    {
     "data": {
      "text/html": [
       "<div>\n",
       "<style scoped>\n",
       "    .dataframe tbody tr th:only-of-type {\n",
       "        vertical-align: middle;\n",
       "    }\n",
       "\n",
       "    .dataframe tbody tr th {\n",
       "        vertical-align: top;\n",
       "    }\n",
       "\n",
       "    .dataframe thead th {\n",
       "        text-align: right;\n",
       "    }\n",
       "</style>\n",
       "<table border=\"1\" class=\"dataframe\">\n",
       "  <thead>\n",
       "    <tr style=\"text-align: right;\">\n",
       "      <th></th>\n",
       "      <th>min_samples_leaf</th>\n",
       "      <th>TrainScore</th>\n",
       "      <th>TestScore</th>\n",
       "    </tr>\n",
       "  </thead>\n",
       "  <tbody>\n",
       "    <tr>\n",
       "      <th>0</th>\n",
       "      <td>1</td>\n",
       "      <td>0.996</td>\n",
       "      <td>0.963</td>\n",
       "    </tr>\n",
       "    <tr>\n",
       "      <th>1</th>\n",
       "      <td>2</td>\n",
       "      <td>0.993</td>\n",
       "      <td>0.960</td>\n",
       "    </tr>\n",
       "    <tr>\n",
       "      <th>2</th>\n",
       "      <td>3</td>\n",
       "      <td>0.988</td>\n",
       "      <td>0.957</td>\n",
       "    </tr>\n",
       "    <tr>\n",
       "      <th>3</th>\n",
       "      <td>4</td>\n",
       "      <td>0.985</td>\n",
       "      <td>0.953</td>\n",
       "    </tr>\n",
       "    <tr>\n",
       "      <th>4</th>\n",
       "      <td>5</td>\n",
       "      <td>0.982</td>\n",
       "      <td>0.951</td>\n",
       "    </tr>\n",
       "    <tr>\n",
       "      <th>5</th>\n",
       "      <td>6</td>\n",
       "      <td>0.980</td>\n",
       "      <td>0.950</td>\n",
       "    </tr>\n",
       "    <tr>\n",
       "      <th>6</th>\n",
       "      <td>7</td>\n",
       "      <td>0.977</td>\n",
       "      <td>0.949</td>\n",
       "    </tr>\n",
       "    <tr>\n",
       "      <th>7</th>\n",
       "      <td>8</td>\n",
       "      <td>0.975</td>\n",
       "      <td>0.947</td>\n",
       "    </tr>\n",
       "    <tr>\n",
       "      <th>8</th>\n",
       "      <td>9</td>\n",
       "      <td>0.974</td>\n",
       "      <td>0.946</td>\n",
       "    </tr>\n",
       "    <tr>\n",
       "      <th>9</th>\n",
       "      <td>10</td>\n",
       "      <td>0.972</td>\n",
       "      <td>0.945</td>\n",
       "    </tr>\n",
       "    <tr>\n",
       "      <th>10</th>\n",
       "      <td>11</td>\n",
       "      <td>0.970</td>\n",
       "      <td>0.942</td>\n",
       "    </tr>\n",
       "    <tr>\n",
       "      <th>11</th>\n",
       "      <td>12</td>\n",
       "      <td>0.968</td>\n",
       "      <td>0.941</td>\n",
       "    </tr>\n",
       "    <tr>\n",
       "      <th>12</th>\n",
       "      <td>13</td>\n",
       "      <td>0.965</td>\n",
       "      <td>0.938</td>\n",
       "    </tr>\n",
       "    <tr>\n",
       "      <th>13</th>\n",
       "      <td>14</td>\n",
       "      <td>0.963</td>\n",
       "      <td>0.935</td>\n",
       "    </tr>\n",
       "    <tr>\n",
       "      <th>14</th>\n",
       "      <td>15</td>\n",
       "      <td>0.961</td>\n",
       "      <td>0.934</td>\n",
       "    </tr>\n",
       "    <tr>\n",
       "      <th>15</th>\n",
       "      <td>16</td>\n",
       "      <td>0.960</td>\n",
       "      <td>0.932</td>\n",
       "    </tr>\n",
       "    <tr>\n",
       "      <th>16</th>\n",
       "      <td>17</td>\n",
       "      <td>0.958</td>\n",
       "      <td>0.930</td>\n",
       "    </tr>\n",
       "    <tr>\n",
       "      <th>17</th>\n",
       "      <td>18</td>\n",
       "      <td>0.958</td>\n",
       "      <td>0.928</td>\n",
       "    </tr>\n",
       "    <tr>\n",
       "      <th>18</th>\n",
       "      <td>19</td>\n",
       "      <td>0.955</td>\n",
       "      <td>0.927</td>\n",
       "    </tr>\n",
       "  </tbody>\n",
       "</table>\n",
       "</div>"
      ],
      "text/plain": [
       "    min_samples_leaf  TrainScore  TestScore\n",
       "0                  1       0.996      0.963\n",
       "1                  2       0.993      0.960\n",
       "2                  3       0.988      0.957\n",
       "3                  4       0.985      0.953\n",
       "4                  5       0.982      0.951\n",
       "5                  6       0.980      0.950\n",
       "6                  7       0.977      0.949\n",
       "7                  8       0.975      0.947\n",
       "8                  9       0.974      0.946\n",
       "9                 10       0.972      0.945\n",
       "10                11       0.970      0.942\n",
       "11                12       0.968      0.941\n",
       "12                13       0.965      0.938\n",
       "13                14       0.963      0.935\n",
       "14                15       0.961      0.934\n",
       "15                16       0.960      0.932\n",
       "16                17       0.958      0.930\n",
       "17                18       0.958      0.928\n",
       "18                19       0.955      0.927"
      ]
     },
     "execution_count": 13,
     "metadata": {},
     "output_type": "execute_result"
    }
   ],
   "source": [
    "df_score.round(3)"
   ]
  },
  {
   "cell_type": "code",
   "execution_count": 14,
   "id": "5e7ec4c5-fed4-4d87-94ef-9558164f936d",
   "metadata": {},
   "outputs": [],
   "source": [
    "hyperparameters['min_samples_leaf'] = [1]"
   ]
  },
  {
   "cell_type": "markdown",
   "id": "4873d184-ac8d-457e-a968-a43f20580185",
   "metadata": {},
   "source": [
    "1. min_samples_leaf의 갯수가 늘어날수록 학습, 테스트 데이터셋에 대한 모델의 성능이 줄어드는 것을 확인할 수 있다.\n",
    "2. 이에 따라 min_samples_leaf를 1로 선택하지만,\n",
    "   리프의 숫자가 적을수록 효율적임을 알고 있기 때문에 max_depth 이후로 한번 더 성능을 조정해보기로 결정하였다."
   ]
  },
  {
   "cell_type": "markdown",
   "id": "295f50c2-25d1-4f19-aa24-0d091b9f907e",
   "metadata": {},
   "source": [
    "#### 3. min_samples_split 조정"
   ]
  },
  {
   "cell_type": "code",
   "execution_count": 15,
   "id": "725da623-c031-48a6-ba62-bcf5ca5aa0aa",
   "metadata": {},
   "outputs": [
    {
     "data": {
      "image/png": "[encoded data removed]",
      "text/plain": [
       "<Figure size 640x480 with 1 Axes>"
      ]
     },
     "metadata": {},
     "output_type": "display_data"
    }
   ],
   "source": [
    "hyperparameters['min_samples_split'] = [x*2 for x in range(1,25)]\n",
    "df_score_split = run_models(hyperparameters, df_train_x, df_train_y, df_test_x, df_test_y, model_name, 'min_samples_split',1)"
   ]
  },
  {
   "cell_type": "code",
   "execution_count": 16,
   "id": "075490e9-9dfc-4153-a295-922bd0c18ebb",
   "metadata": {},
   "outputs": [
    {
     "data": {
      "text/html": [
       "<div>\n",
       "<style scoped>\n",
       "    .dataframe tbody tr th:only-of-type {\n",
       "        vertical-align: middle;\n",
       "    }\n",
       "\n",
       "    .dataframe tbody tr th {\n",
       "        vertical-align: top;\n",
       "    }\n",
       "\n",
       "    .dataframe thead th {\n",
       "        text-align: right;\n",
       "    }\n",
       "</style>\n",
       "<table border=\"1\" class=\"dataframe\">\n",
       "  <thead>\n",
       "    <tr style=\"text-align: right;\">\n",
       "      <th></th>\n",
       "      <th>min_samples_split</th>\n",
       "      <th>TrainScore</th>\n",
       "      <th>TestScore</th>\n",
       "    </tr>\n",
       "  </thead>\n",
       "  <tbody>\n",
       "    <tr>\n",
       "      <th>0</th>\n",
       "      <td>2</td>\n",
       "      <td>0.996</td>\n",
       "      <td>0.963</td>\n",
       "    </tr>\n",
       "    <tr>\n",
       "      <th>1</th>\n",
       "      <td>4</td>\n",
       "      <td>0.995</td>\n",
       "      <td>0.962</td>\n",
       "    </tr>\n",
       "    <tr>\n",
       "      <th>2</th>\n",
       "      <td>6</td>\n",
       "      <td>0.993</td>\n",
       "      <td>0.959</td>\n",
       "    </tr>\n",
       "    <tr>\n",
       "      <th>3</th>\n",
       "      <td>8</td>\n",
       "      <td>0.991</td>\n",
       "      <td>0.957</td>\n",
       "    </tr>\n",
       "    <tr>\n",
       "      <th>4</th>\n",
       "      <td>10</td>\n",
       "      <td>0.989</td>\n",
       "      <td>0.956</td>\n",
       "    </tr>\n",
       "    <tr>\n",
       "      <th>5</th>\n",
       "      <td>12</td>\n",
       "      <td>0.987</td>\n",
       "      <td>0.953</td>\n",
       "    </tr>\n",
       "    <tr>\n",
       "      <th>6</th>\n",
       "      <td>14</td>\n",
       "      <td>0.985</td>\n",
       "      <td>0.950</td>\n",
       "    </tr>\n",
       "    <tr>\n",
       "      <th>7</th>\n",
       "      <td>16</td>\n",
       "      <td>0.983</td>\n",
       "      <td>0.949</td>\n",
       "    </tr>\n",
       "    <tr>\n",
       "      <th>8</th>\n",
       "      <td>18</td>\n",
       "      <td>0.981</td>\n",
       "      <td>0.947</td>\n",
       "    </tr>\n",
       "    <tr>\n",
       "      <th>9</th>\n",
       "      <td>20</td>\n",
       "      <td>0.979</td>\n",
       "      <td>0.945</td>\n",
       "    </tr>\n",
       "    <tr>\n",
       "      <th>10</th>\n",
       "      <td>22</td>\n",
       "      <td>0.977</td>\n",
       "      <td>0.944</td>\n",
       "    </tr>\n",
       "    <tr>\n",
       "      <th>11</th>\n",
       "      <td>24</td>\n",
       "      <td>0.973</td>\n",
       "      <td>0.941</td>\n",
       "    </tr>\n",
       "    <tr>\n",
       "      <th>12</th>\n",
       "      <td>26</td>\n",
       "      <td>0.971</td>\n",
       "      <td>0.939</td>\n",
       "    </tr>\n",
       "    <tr>\n",
       "      <th>13</th>\n",
       "      <td>28</td>\n",
       "      <td>0.969</td>\n",
       "      <td>0.937</td>\n",
       "    </tr>\n",
       "    <tr>\n",
       "      <th>14</th>\n",
       "      <td>30</td>\n",
       "      <td>0.967</td>\n",
       "      <td>0.936</td>\n",
       "    </tr>\n",
       "    <tr>\n",
       "      <th>15</th>\n",
       "      <td>32</td>\n",
       "      <td>0.967</td>\n",
       "      <td>0.935</td>\n",
       "    </tr>\n",
       "    <tr>\n",
       "      <th>16</th>\n",
       "      <td>34</td>\n",
       "      <td>0.966</td>\n",
       "      <td>0.935</td>\n",
       "    </tr>\n",
       "    <tr>\n",
       "      <th>17</th>\n",
       "      <td>36</td>\n",
       "      <td>0.966</td>\n",
       "      <td>0.934</td>\n",
       "    </tr>\n",
       "    <tr>\n",
       "      <th>18</th>\n",
       "      <td>38</td>\n",
       "      <td>0.965</td>\n",
       "      <td>0.934</td>\n",
       "    </tr>\n",
       "    <tr>\n",
       "      <th>19</th>\n",
       "      <td>40</td>\n",
       "      <td>0.964</td>\n",
       "      <td>0.933</td>\n",
       "    </tr>\n",
       "    <tr>\n",
       "      <th>20</th>\n",
       "      <td>42</td>\n",
       "      <td>0.964</td>\n",
       "      <td>0.933</td>\n",
       "    </tr>\n",
       "    <tr>\n",
       "      <th>21</th>\n",
       "      <td>44</td>\n",
       "      <td>0.963</td>\n",
       "      <td>0.933</td>\n",
       "    </tr>\n",
       "    <tr>\n",
       "      <th>22</th>\n",
       "      <td>46</td>\n",
       "      <td>0.962</td>\n",
       "      <td>0.933</td>\n",
       "    </tr>\n",
       "    <tr>\n",
       "      <th>23</th>\n",
       "      <td>48</td>\n",
       "      <td>0.961</td>\n",
       "      <td>0.932</td>\n",
       "    </tr>\n",
       "  </tbody>\n",
       "</table>\n",
       "</div>"
      ],
      "text/plain": [
       "    min_samples_split  TrainScore  TestScore\n",
       "0                   2       0.996      0.963\n",
       "1                   4       0.995      0.962\n",
       "2                   6       0.993      0.959\n",
       "3                   8       0.991      0.957\n",
       "4                  10       0.989      0.956\n",
       "5                  12       0.987      0.953\n",
       "6                  14       0.985      0.950\n",
       "7                  16       0.983      0.949\n",
       "8                  18       0.981      0.947\n",
       "9                  20       0.979      0.945\n",
       "10                 22       0.977      0.944\n",
       "11                 24       0.973      0.941\n",
       "12                 26       0.971      0.939\n",
       "13                 28       0.969      0.937\n",
       "14                 30       0.967      0.936\n",
       "15                 32       0.967      0.935\n",
       "16                 34       0.966      0.935\n",
       "17                 36       0.966      0.934\n",
       "18                 38       0.965      0.934\n",
       "19                 40       0.964      0.933\n",
       "20                 42       0.964      0.933\n",
       "21                 44       0.963      0.933\n",
       "22                 46       0.962      0.933\n",
       "23                 48       0.961      0.932"
      ]
     },
     "execution_count": 16,
     "metadata": {},
     "output_type": "execute_result"
    }
   ],
   "source": [
    "df_score_split.round(3)"
   ]
  },
  {
   "cell_type": "code",
   "execution_count": 17,
   "id": "249809d4-2de2-4dd3-8bdd-a01ceb68e14c",
   "metadata": {},
   "outputs": [],
   "source": [
    "hyperparameters['min_samples_split'] = [2]"
   ]
  },
  {
   "cell_type": "markdown",
   "id": "5107ea7b-bef4-4208-b989-35cd5fcc4c87",
   "metadata": {},
   "source": [
    "1. min_samples_split의 갯수가 늘어날수록 학습, 테스트 데이터셋에 대한 모델의 성능이 줄어드는 것을 확인할 수 있다.\n",
    "2. 따라서 min_samples_leaf와 같이 max_depth 이후로 한번 더 조정해보기로 결정하였다. "
   ]
  },
  {
   "cell_type": "markdown",
   "id": "527ef623-a794-492b-beb4-b405893f0e4c",
   "metadata": {},
   "source": [
    "#### 4. max_depth 조정"
   ]
  },
  {
   "cell_type": "code",
   "execution_count": 18,
   "id": "76521646-8005-4593-870e-ffde34f5c550",
   "metadata": {},
   "outputs": [
    {
     "data": {
      "image/png": "[encoded data removed]",
      "text/plain": [
       "<Figure size 640x480 with 1 Axes>"
      ]
     },
     "metadata": {},
     "output_type": "display_data"
    }
   ],
   "source": [
    "hyperparameters['max_depth'] = [x for x in range(1,11)]\n",
    "df_score_depth = run_models(hyperparameters, df_train_x, df_train_y, df_test_x, df_test_y, model_name, 'max_depth', 1)"
   ]
  },
  {
   "cell_type": "code",
   "execution_count": 19,
   "id": "423d2ee2-26b7-4a25-a5b5-877ae91c3cd3",
   "metadata": {},
   "outputs": [
    {
     "data": {
      "text/html": [
       "<div>\n",
       "<style scoped>\n",
       "    .dataframe tbody tr th:only-of-type {\n",
       "        vertical-align: middle;\n",
       "    }\n",
       "\n",
       "    .dataframe tbody tr th {\n",
       "        vertical-align: top;\n",
       "    }\n",
       "\n",
       "    .dataframe thead th {\n",
       "        text-align: right;\n",
       "    }\n",
       "</style>\n",
       "<table border=\"1\" class=\"dataframe\">\n",
       "  <thead>\n",
       "    <tr style=\"text-align: right;\">\n",
       "      <th></th>\n",
       "      <th>max_depth</th>\n",
       "      <th>TrainScore</th>\n",
       "      <th>TestScore</th>\n",
       "    </tr>\n",
       "  </thead>\n",
       "  <tbody>\n",
       "    <tr>\n",
       "      <th>0</th>\n",
       "      <td>1</td>\n",
       "      <td>0.626</td>\n",
       "      <td>0.605</td>\n",
       "    </tr>\n",
       "    <tr>\n",
       "      <th>1</th>\n",
       "      <td>2</td>\n",
       "      <td>0.850</td>\n",
       "      <td>0.829</td>\n",
       "    </tr>\n",
       "    <tr>\n",
       "      <th>2</th>\n",
       "      <td>3</td>\n",
       "      <td>0.942</td>\n",
       "      <td>0.915</td>\n",
       "    </tr>\n",
       "    <tr>\n",
       "      <th>3</th>\n",
       "      <td>4</td>\n",
       "      <td>0.972</td>\n",
       "      <td>0.940</td>\n",
       "    </tr>\n",
       "    <tr>\n",
       "      <th>4</th>\n",
       "      <td>5</td>\n",
       "      <td>0.985</td>\n",
       "      <td>0.952</td>\n",
       "    </tr>\n",
       "    <tr>\n",
       "      <th>5</th>\n",
       "      <td>6</td>\n",
       "      <td>0.992</td>\n",
       "      <td>0.959</td>\n",
       "    </tr>\n",
       "    <tr>\n",
       "      <th>6</th>\n",
       "      <td>7</td>\n",
       "      <td>0.994</td>\n",
       "      <td>0.960</td>\n",
       "    </tr>\n",
       "    <tr>\n",
       "      <th>7</th>\n",
       "      <td>8</td>\n",
       "      <td>0.996</td>\n",
       "      <td>0.965</td>\n",
       "    </tr>\n",
       "    <tr>\n",
       "      <th>8</th>\n",
       "      <td>9</td>\n",
       "      <td>0.996</td>\n",
       "      <td>0.962</td>\n",
       "    </tr>\n",
       "    <tr>\n",
       "      <th>9</th>\n",
       "      <td>10</td>\n",
       "      <td>0.996</td>\n",
       "      <td>0.962</td>\n",
       "    </tr>\n",
       "  </tbody>\n",
       "</table>\n",
       "</div>"
      ],
      "text/plain": [
       "   max_depth  TrainScore  TestScore\n",
       "0          1       0.626      0.605\n",
       "1          2       0.850      0.829\n",
       "2          3       0.942      0.915\n",
       "3          4       0.972      0.940\n",
       "4          5       0.985      0.952\n",
       "5          6       0.992      0.959\n",
       "6          7       0.994      0.960\n",
       "7          8       0.996      0.965\n",
       "8          9       0.996      0.962\n",
       "9         10       0.996      0.962"
      ]
     },
     "execution_count": 19,
     "metadata": {},
     "output_type": "execute_result"
    }
   ],
   "source": [
    "df_score_depth.round(3)"
   ]
  },
  {
   "cell_type": "code",
   "execution_count": 20,
   "id": "68924dcd-28e7-41fd-aaa8-a352cfa551be",
   "metadata": {},
   "outputs": [],
   "source": [
    "hyperparameters['max_depth'] = [9]"
   ]
  },
  {
   "cell_type": "markdown",
   "id": "2931f55a-a1c3-46c8-b5d8-7036461f7c07",
   "metadata": {},
   "source": [
    "1. max_depth가 클수록 트리의 깊이가 깊어지면서 학습 및 테스트 데이터셋의 성능도 함께 상승하는 폭을 보이다가    \n",
    "max_depth의 값이 9가 된 이후로는 특정 값에 수렴하여 계속해서 이어지는것을 볼 수 있다.     \n",
    "이는 이 이상 깊이가 깊어져도 더이상 학습의 성능을 개선시키지 못한다고 판단된다.\n",
    "2. 따라서 max_depth가 변해도 더이상 성능이 변하지 않는 값인 9로 max_depth의 갑을 선택했다. "
   ]
  },
  {
   "cell_type": "markdown",
   "id": "c3fb57f1-7f37-4856-bb4a-329f42cdd7bf",
   "metadata": {},
   "source": [
    "#### 5. min_samples_leaf, min_samples_split 다시 조정"
   ]
  },
  {
   "cell_type": "code",
   "execution_count": 21,
   "id": "eeb7ab56-d03f-4769-adaf-93b88d0f73ca",
   "metadata": {},
   "outputs": [
    {
     "data": {
      "image/png": "[encoded data removed]",
      "text/plain": [
       "<Figure size 640x480 with 1 Axes>"
      ]
     },
     "metadata": {},
     "output_type": "display_data"
    }
   ],
   "source": [
    "hyperparameters['min_samples_leaf'] = [x for x in range(1,20)]\n",
    "df_score = run_models(hyperparameters, df_train_x, df_train_y, df_test_x, df_test_y, model_name, 'min_samples_leaf', 1)"
   ]
  },
  {
   "cell_type": "code",
   "execution_count": 22,
   "id": "e0c62faa-8643-454a-981c-b687a8de4101",
   "metadata": {},
   "outputs": [],
   "source": [
    "hyperparameters['min_samples_leaf'] = [1]"
   ]
  },
  {
   "cell_type": "code",
   "execution_count": 23,
   "id": "c974631f-c865-416c-b77f-248c4129be8d",
   "metadata": {},
   "outputs": [
    {
     "data": {
      "image/png": "[encoded data removed]",
      "text/plain": [
       "<Figure size 640x480 with 1 Axes>"
      ]
     },
     "metadata": {},
     "output_type": "display_data"
    }
   ],
   "source": [
    "hyperparameters['min_samples_split'] = [x*2 for x in range(1,25)]\n",
    "df_score_split = run_models(hyperparameters, df_train_x, df_train_y, df_test_x, df_test_y, model_name, 'min_samples_split',1)"
   ]
  },
  {
   "cell_type": "code",
   "execution_count": 24,
   "id": "22534fee-2fe9-40f8-b48e-397e91135acd",
   "metadata": {},
   "outputs": [],
   "source": [
    "hyperparameters['min_samples_split'] = [2]"
   ]
  },
  {
   "cell_type": "markdown",
   "id": "5a1ba1b6-2420-4c51-bbb6-7526288c9047",
   "metadata": {},
   "source": [
    "- 재조정 했음에도 불구하고, 다른 변화는 없으므로 leaf와 split을 각각 1과 2로 선택하였다. "
   ]
  },
  {
   "cell_type": "markdown",
   "id": "49ac1ef7-7137-487a-b969-766b956f4d9e",
   "metadata": {},
   "source": [
    "### 4. 최종모델 선정"
   ]
  },
  {
   "cell_type": "code",
   "execution_count": 25,
   "id": "fa8ab06f-ea1f-4ae1-ad80-d9fa5aa5f9ce",
   "metadata": {},
   "outputs": [
    {
     "data": {
      "text/plain": [
       "{'bootstrap': True,\n",
       " 'ccp_alpha': 0.0,\n",
       " 'criterion': 'squared_error',\n",
       " 'max_depth': 9,\n",
       " 'max_features': 1.0,\n",
       " 'max_leaf_nodes': None,\n",
       " 'max_samples': None,\n",
       " 'min_impurity_decrease': 0.0,\n",
       " 'min_samples_leaf': 1,\n",
       " 'min_samples_split': 2,\n",
       " 'min_weight_fraction_leaf': 0.0,\n",
       " 'n_estimators': 20,\n",
       " 'n_jobs': None,\n",
       " 'oob_score': False,\n",
       " 'random_state': 777,\n",
       " 'verbose': 0,\n",
       " 'warm_start': False}"
      ]
     },
     "execution_count": 25,
     "metadata": {},
     "output_type": "execute_result"
    }
   ],
   "source": [
    "v_feature_name = df_train_x.columns\n",
    "rf_final = RandomForestRegressor(n_estimators=hyperparameters['n_estimators'][0],\n",
    "                                 min_samples_leaf = hyperparameters['min_samples_leaf'][0], \n",
    "                                 min_samples_split = hyperparameters['min_samples_split'][0],\n",
    "                                 max_depth = hyperparameters['max_depth'][0],\n",
    "                                 random_state=777 )\n",
    "\n",
    "rf_final.fit(df_train_x, df_train_y)\n",
    "rf_final.get_params()"
   ]
  },
  {
   "cell_type": "code",
   "execution_count": 26,
   "id": "258e0db5-550b-41fc-a8ed-b8acab010c19",
   "metadata": {},
   "outputs": [
    {
     "name": "stdout",
     "output_type": "stream",
     "text": [
      "Score on training set: 0.996\n",
      "Score on test set: 0.962\n"
     ]
    }
   ],
   "source": [
    "print(\"Score on training set: {:.3f}\".format(rf_final.score(df_train_x, df_train_y)))\n",
    "print(\"Score on test set: {:.3f}\".format(rf_final.score(df_test_x, df_test_y)))"
   ]
  },
  {
   "cell_type": "code",
   "execution_count": 27,
   "id": "cb41dce0-8832-426a-ae6e-60c90a58c3f2",
   "metadata": {},
   "outputs": [
    {
     "data": {
      "text/html": [
       "<div>\n",
       "<style scoped>\n",
       "    .dataframe tbody tr th:only-of-type {\n",
       "        vertical-align: middle;\n",
       "    }\n",
       "\n",
       "    .dataframe tbody tr th {\n",
       "        vertical-align: top;\n",
       "    }\n",
       "\n",
       "    .dataframe thead th {\n",
       "        text-align: right;\n",
       "    }\n",
       "</style>\n",
       "<table border=\"1\" class=\"dataframe\">\n",
       "  <thead>\n",
       "    <tr style=\"text-align: right;\">\n",
       "      <th></th>\n",
       "      <th>Feature</th>\n",
       "      <th>Importance</th>\n",
       "    </tr>\n",
       "  </thead>\n",
       "  <tbody>\n",
       "    <tr>\n",
       "      <th>3</th>\n",
       "      <td>흡연여부</td>\n",
       "      <td>0.624</td>\n",
       "    </tr>\n",
       "    <tr>\n",
       "      <th>1</th>\n",
       "      <td>BMI</td>\n",
       "      <td>0.149</td>\n",
       "    </tr>\n",
       "    <tr>\n",
       "      <th>0</th>\n",
       "      <td>나이</td>\n",
       "      <td>0.113</td>\n",
       "    </tr>\n",
       "    <tr>\n",
       "      <th>4</th>\n",
       "      <td>보장범위</td>\n",
       "      <td>0.092</td>\n",
       "    </tr>\n",
       "    <tr>\n",
       "      <th>5</th>\n",
       "      <td>납입기간</td>\n",
       "      <td>0.012</td>\n",
       "    </tr>\n",
       "    <tr>\n",
       "      <th>2</th>\n",
       "      <td>자녀수</td>\n",
       "      <td>0.007</td>\n",
       "    </tr>\n",
       "    <tr>\n",
       "      <th>7</th>\n",
       "      <td>성별_여성</td>\n",
       "      <td>0.001</td>\n",
       "    </tr>\n",
       "    <tr>\n",
       "      <th>12</th>\n",
       "      <td>납부유형_지로</td>\n",
       "      <td>0.000</td>\n",
       "    </tr>\n",
       "    <tr>\n",
       "      <th>6</th>\n",
       "      <td>성별_남성</td>\n",
       "      <td>0.000</td>\n",
       "    </tr>\n",
       "    <tr>\n",
       "      <th>8</th>\n",
       "      <td>가입유형_상담사</td>\n",
       "      <td>0.000</td>\n",
       "    </tr>\n",
       "    <tr>\n",
       "      <th>13</th>\n",
       "      <td>납부유형_카드</td>\n",
       "      <td>0.000</td>\n",
       "    </tr>\n",
       "    <tr>\n",
       "      <th>11</th>\n",
       "      <td>납부유형_은행</td>\n",
       "      <td>0.000</td>\n",
       "    </tr>\n",
       "    <tr>\n",
       "      <th>9</th>\n",
       "      <td>가입유형_인터넷</td>\n",
       "      <td>0.000</td>\n",
       "    </tr>\n",
       "    <tr>\n",
       "      <th>10</th>\n",
       "      <td>가입유형_홈쇼핑</td>\n",
       "      <td>0.000</td>\n",
       "    </tr>\n",
       "  </tbody>\n",
       "</table>\n",
       "</div>"
      ],
      "text/plain": [
       "     Feature  Importance\n",
       "3       흡연여부       0.624\n",
       "1        BMI       0.149\n",
       "0         나이       0.113\n",
       "4       보장범위       0.092\n",
       "5       납입기간       0.012\n",
       "2        자녀수       0.007\n",
       "7      성별_여성       0.001\n",
       "12   납부유형_지로       0.000\n",
       "6      성별_남성       0.000\n",
       "8   가입유형_상담사       0.000\n",
       "13   납부유형_카드       0.000\n",
       "11   납부유형_은행       0.000\n",
       "9   가입유형_인터넷       0.000\n",
       "10  가입유형_홈쇼핑       0.000"
      ]
     },
     "execution_count": 27,
     "metadata": {},
     "output_type": "execute_result"
    }
   ],
   "source": [
    "df_importance = pd.DataFrame()\n",
    "df_importance[\"Feature\"] = v_feature_name\n",
    "df_importance[\"Importance\"] = rf_final.feature_importances_\n",
    "\n",
    "df_importance.sort_values(\"Importance\", ascending=False, inplace = True)\n",
    "df_importance.round(3)"
   ]
  },
  {
   "cell_type": "code",
   "execution_count": 28,
   "id": "796b57ff-b4ff-48e6-94af-2d7ebfc159eb",
   "metadata": {},
   "outputs": [
    {
     "data": {
      "text/plain": [
       "Text(0, 0.5, '변수')"
      ]
     },
     "execution_count": 28,
     "metadata": {},
     "output_type": "execute_result"
    },
    {
     "data": {
      "image/png": "[encoded data removed]",
      "text/plain": [
       "<Figure size 640x480 with 1 Axes>"
      ]
     },
     "metadata": {},
     "output_type": "display_data"
    }
   ],
   "source": [
    "df_importance.sort_values(\"Importance\", ascending=True, inplace = True)\n",
    "coordinates = range(len(df_importance))\n",
    "plt.barh(y = coordinates, width = df_importance[\"Importance\"])\n",
    "plt.yticks(coordinates, df_importance[\"Feature\"])\n",
    "plt.xlabel(\"변수 중요도\")\n",
    "plt.ylabel(\"변수\")"
   ]
  },
  {
   "cell_type": "markdown",
   "id": "b478ad3d-e01f-4958-b9ef-dace32eeeb3e",
   "metadata": {},
   "source": [
    "#### 결론\n",
    "파라미터를 조정한 모델의 결과로 학습 데이터셋에 0.996, 테스트 데이터셋에 0.962로    \n",
    "처음에 조정하지 않은 모델과 비교하였을 때, 테스트 데이터에 대한 성능이 상승함을 알 수 있다. \n",
    "약간의 차이이지만, 하이퍼파라미터 튜닝을 통해 모델의 성능을 약간 더 끌어올렸다.\n"
   ]
  },
  {
   "cell_type": "markdown",
   "id": "67b6adf4-1b22-4186-8bb6-a8a9a8b05c64",
   "metadata": {},
   "source": [
    "* 다른 모델과의 비교\n",
    "   - 같은 데이터로 학습한 Ridge, Lasso, Elastic 회귀분석 모델에 비해 더 높고 안정적인 성능을 보임\n",
    "   - 변수 중요도는 위 비교군이 되는 모델과 비슷한 순위로 나타났으며, 여기서도 흡연여부가 높은 연관성이 있음을 확인할 수 있음\n",
    "    - Decision Tree와 비교하였을 때는 비슷한 성능을 보인다."
   ]
  }
 ],
 "metadata": {
  "kernelspec": {
   "display_name": "Python 3 (ipykernel)",
   "language": "python",
   "name": "python3"
  },
  "language_info": {
   "codemirror_mode": {
    "name": "ipython",
    "version": 3
   },
   "file_extension": ".py",
   "mimetype": "text/x-python",
   "name": "python",
   "nbconvert_exporter": "python",
   "pygments_lexer": "ipython3",
   "version": "3.10.16"
  }
 },
 "nbformat": 4,
 "nbformat_minor": 5
}
