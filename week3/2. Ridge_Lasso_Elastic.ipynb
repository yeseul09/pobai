{
 "cells": [
  {
   "cell_type": "code",
   "execution_count": 22,
   "id": "70b2a22a-4b61-4fa1-9b33-9b979a6346bf",
   "metadata": {},
   "outputs": [],
   "source": [
    "import pandas as pd\n",
    "import numpy as np\n",
    "import matplotlib.pyplot as plt\n",
    "import seaborn as sns\n",
    "from matplotlib import rc\n",
    "import statsmodels.formula.api as smf\n",
    "from statsmodels.api import qqplot, add_constant\n",
    "\n",
    "from statsmodels.stats.outliers_influence import variance_inflation_factor\n",
    "from sklearn.model_selection import train_test_split\n",
    "from sklearn.linear_model import LinearRegression, Ridge, Lasso, ElasticNet\n",
    "\n",
    "from sklearn.feature_selection import RFE\n",
    "from sklearn.preprocessing import StandardScaler\n",
    "\n",
    "from sklearn.metrics import r2_score"
   ]
  },
  {
   "cell_type": "code",
   "execution_count": 2,
   "id": "d01f9e2c-8c8c-44a6-9884-83c7ef174456",
   "metadata": {},
   "outputs": [],
   "source": [
    "# 한글 폰트 깨지지 않게 하기\n",
    "rc('font', family='AppleGothic')\n",
    "plt.rcParams['axes.unicode_minus'] = False"
   ]
  },
  {
   "cell_type": "code",
   "execution_count": 3,
   "id": "14147fb8-6e9a-46f3-8ce4-6b3d72a9aff2",
   "metadata": {},
   "outputs": [],
   "source": [
    "# 실행결과 경고메시지 출력 제외\n",
    "import warnings\n",
    "\n",
    "warnings.filterwarnings('ignore')"
   ]
  },
  {
   "cell_type": "markdown",
   "id": "69979d38-c659-4d00-adef-f071bbc22683",
   "metadata": {},
   "source": [
    "### 전처리"
   ]
  },
  {
   "cell_type": "code",
   "execution_count": 12,
   "id": "af0cc4e1-2935-436c-8a40-aa6f34e99af1",
   "metadata": {},
   "outputs": [
    {
     "data": {
      "text/html": [
       "<div>\n",
       "<style scoped>\n",
       "    .dataframe tbody tr th:only-of-type {\n",
       "        vertical-align: middle;\n",
       "    }\n",
       "\n",
       "    .dataframe tbody tr th {\n",
       "        vertical-align: top;\n",
       "    }\n",
       "\n",
       "    .dataframe thead th {\n",
       "        text-align: right;\n",
       "    }\n",
       "</style>\n",
       "<table border=\"1\" class=\"dataframe\">\n",
       "  <thead>\n",
       "    <tr style=\"text-align: right;\">\n",
       "      <th></th>\n",
       "      <th>FAT</th>\n",
       "      <th>AGE</th>\n",
       "      <th>WEIGHT</th>\n",
       "      <th>HEIGHT</th>\n",
       "      <th>NECK</th>\n",
       "      <th>CHEST</th>\n",
       "      <th>ABDOMEN</th>\n",
       "      <th>HIP</th>\n",
       "      <th>THIGH</th>\n",
       "      <th>KNEE</th>\n",
       "      <th>ANKLE</th>\n",
       "      <th>BICEPS</th>\n",
       "      <th>FOREARM</th>\n",
       "      <th>WRIST</th>\n",
       "      <th>GENDER</th>\n",
       "    </tr>\n",
       "  </thead>\n",
       "  <tbody>\n",
       "    <tr>\n",
       "      <th>0</th>\n",
       "      <td>35.2</td>\n",
       "      <td>46</td>\n",
       "      <td>363.15 lb</td>\n",
       "      <td>72.25 inch</td>\n",
       "      <td>51.2</td>\n",
       "      <td>136.2</td>\n",
       "      <td>148.1</td>\n",
       "      <td>147.7</td>\n",
       "      <td>87.3</td>\n",
       "      <td>49.1</td>\n",
       "      <td>29.6</td>\n",
       "      <td>45.0</td>\n",
       "      <td>29.0</td>\n",
       "      <td>21.4</td>\n",
       "      <td>남성</td>\n",
       "    </tr>\n",
       "    <tr>\n",
       "      <th>1</th>\n",
       "      <td>11.8</td>\n",
       "      <td>27</td>\n",
       "      <td>168 lb</td>\n",
       "      <td>71.25 inch</td>\n",
       "      <td>38.1</td>\n",
       "      <td>93.0</td>\n",
       "      <td>79.1</td>\n",
       "      <td>94.5</td>\n",
       "      <td>57.3</td>\n",
       "      <td>36.2</td>\n",
       "      <td>24.5</td>\n",
       "      <td>29.0</td>\n",
       "      <td>30.0</td>\n",
       "      <td>18.8</td>\n",
       "      <td>남성</td>\n",
       "    </tr>\n",
       "    <tr>\n",
       "      <th>2</th>\n",
       "      <td>22.2</td>\n",
       "      <td>69</td>\n",
       "      <td>177.75 lb</td>\n",
       "      <td>68.5 inch</td>\n",
       "      <td>38.7</td>\n",
       "      <td>102.0</td>\n",
       "      <td>95.0</td>\n",
       "      <td>98.3</td>\n",
       "      <td>55.0</td>\n",
       "      <td>38.3</td>\n",
       "      <td>21.8</td>\n",
       "      <td>30.8</td>\n",
       "      <td>25.7</td>\n",
       "      <td>18.8</td>\n",
       "      <td>남성</td>\n",
       "    </tr>\n",
       "    <tr>\n",
       "      <th>3</th>\n",
       "      <td>10.6</td>\n",
       "      <td>57</td>\n",
       "      <td>147.75 lb</td>\n",
       "      <td>65.75 inch</td>\n",
       "      <td>35.2</td>\n",
       "      <td>99.6</td>\n",
       "      <td>86.4</td>\n",
       "      <td>90.1</td>\n",
       "      <td>53.0</td>\n",
       "      <td>35.0</td>\n",
       "      <td>21.3</td>\n",
       "      <td>31.7</td>\n",
       "      <td>27.3</td>\n",
       "      <td>16.9</td>\n",
       "      <td>여성</td>\n",
       "    </tr>\n",
       "    <tr>\n",
       "      <th>4</th>\n",
       "      <td>47.5</td>\n",
       "      <td>51</td>\n",
       "      <td>219 lb</td>\n",
       "      <td>64 inch</td>\n",
       "      <td>41.2</td>\n",
       "      <td>119.8</td>\n",
       "      <td>122.1</td>\n",
       "      <td>112.8</td>\n",
       "      <td>62.5</td>\n",
       "      <td>36.9</td>\n",
       "      <td>23.6</td>\n",
       "      <td>34.7</td>\n",
       "      <td>29.1</td>\n",
       "      <td>18.4</td>\n",
       "      <td>여성</td>\n",
       "    </tr>\n",
       "  </tbody>\n",
       "</table>\n",
       "</div>"
      ],
      "text/plain": [
       "    FAT  AGE     WEIGHT      HEIGHT  NECK  CHEST  ABDOMEN    HIP  THIGH  KNEE  \\\n",
       "0  35.2   46  363.15 lb  72.25 inch  51.2  136.2    148.1  147.7   87.3  49.1   \n",
       "1  11.8   27     168 lb  71.25 inch  38.1   93.0     79.1   94.5   57.3  36.2   \n",
       "2  22.2   69  177.75 lb   68.5 inch  38.7  102.0     95.0   98.3   55.0  38.3   \n",
       "3  10.6   57  147.75 lb  65.75 inch  35.2   99.6     86.4   90.1   53.0  35.0   \n",
       "4  47.5   51     219 lb     64 inch  41.2  119.8    122.1  112.8   62.5  36.9   \n",
       "\n",
       "   ANKLE  BICEPS  FOREARM  WRIST GENDER  \n",
       "0   29.6    45.0     29.0   21.4     남성  \n",
       "1   24.5    29.0     30.0   18.8     남성  \n",
       "2   21.8    30.8     25.7   18.8     남성  \n",
       "3   21.3    31.7     27.3   16.9     여성  \n",
       "4   23.6    34.7     29.1   18.4     여성  "
      ]
     },
     "execution_count": 12,
     "metadata": {},
     "output_type": "execute_result"
    }
   ],
   "source": [
    "df = pd.read_csv(\"../01.files/02.Bigsata_analysis/체질검사.csv\", encoding = 'euc-kr')\n",
    "df.head()"
   ]
  },
  {
   "cell_type": "code",
   "execution_count": 13,
   "id": "c1900db5-ea7e-4124-b91d-16c6e5186a7a",
   "metadata": {},
   "outputs": [
    {
     "name": "stdout",
     "output_type": "stream",
     "text": [
      "<class 'pandas.core.frame.DataFrame'>\n",
      "RangeIndex: 252 entries, 0 to 251\n",
      "Data columns (total 17 columns):\n",
      " #   Column       Non-Null Count  Dtype  \n",
      "---  ------       --------------  -----  \n",
      " 0   FAT          252 non-null    float64\n",
      " 1   AGE          252 non-null    int64  \n",
      " 2   WEIGHT       252 non-null    float64\n",
      " 3   HEIGHT       252 non-null    float64\n",
      " 4   NECK         252 non-null    float64\n",
      " 5   CHEST        252 non-null    float64\n",
      " 6   ABDOMEN      252 non-null    float64\n",
      " 7   HIP          252 non-null    float64\n",
      " 8   THIGH        252 non-null    float64\n",
      " 9   KNEE         252 non-null    float64\n",
      " 10  ANKLE        252 non-null    float64\n",
      " 11  BICEPS       252 non-null    float64\n",
      " 12  FOREARM      252 non-null    float64\n",
      " 13  WRIST        252 non-null    float64\n",
      " 14  GENDER       252 non-null    object \n",
      " 15  WEIGHT_UNIT  252 non-null    object \n",
      " 16  HEIGHT_UNIT  252 non-null    object \n",
      "dtypes: float64(13), int64(1), object(3)\n",
      "memory usage: 33.6+ KB\n"
     ]
    }
   ],
   "source": [
    "df[['WEIGHT', 'WEIGHT_UNIT']] = df['WEIGHT'].str.split(expand = True)\n",
    "df[['HEIGHT', 'HEIGHT_UNIT']] = df['HEIGHT'].str.split(expand = True)\n",
    "df['WEIGHT'] = df['WEIGHT'].astype('float64')\n",
    "df['HEIGHT'] = df['HEIGHT'].astype('float64')\n",
    "df.info()"
   ]
  },
  {
   "cell_type": "code",
   "execution_count": 16,
   "id": "ea756faf-3c4e-4191-8860-0e544af0cade",
   "metadata": {},
   "outputs": [],
   "source": [
    "df = df.drop(['WEIGHT_UNIT', 'HEIGHT_UNIT'], axis = 1)"
   ]
  },
  {
   "cell_type": "code",
   "execution_count": 17,
   "id": "d4f9f436-161d-42e6-9684-6aa520498026",
   "metadata": {},
   "outputs": [
    {
     "data": {
      "text/plain": [
       "FAT        0\n",
       "AGE        0\n",
       "WEIGHT     0\n",
       "HEIGHT     0\n",
       "NECK       0\n",
       "CHEST      0\n",
       "ABDOMEN    0\n",
       "HIP        0\n",
       "THIGH      0\n",
       "KNEE       0\n",
       "ANKLE      0\n",
       "BICEPS     0\n",
       "FOREARM    0\n",
       "WRIST      0\n",
       "GENDER     0\n",
       "dtype: int64"
      ]
     },
     "execution_count": 17,
     "metadata": {},
     "output_type": "execute_result"
    }
   ],
   "source": [
    "df.isnull().sum()"
   ]
  },
  {
   "cell_type": "code",
   "execution_count": 19,
   "id": "e99c9306-3a76-49ad-8a94-6e99d78322d1",
   "metadata": {},
   "outputs": [
    {
     "data": {
      "text/html": [
       "<div>\n",
       "<style scoped>\n",
       "    .dataframe tbody tr th:only-of-type {\n",
       "        vertical-align: middle;\n",
       "    }\n",
       "\n",
       "    .dataframe tbody tr th {\n",
       "        vertical-align: top;\n",
       "    }\n",
       "\n",
       "    .dataframe thead th {\n",
       "        text-align: right;\n",
       "    }\n",
       "</style>\n",
       "<table border=\"1\" class=\"dataframe\">\n",
       "  <thead>\n",
       "    <tr style=\"text-align: right;\">\n",
       "      <th></th>\n",
       "      <th>FAT</th>\n",
       "      <th>AGE</th>\n",
       "      <th>WEIGHT</th>\n",
       "      <th>HEIGHT</th>\n",
       "      <th>NECK</th>\n",
       "      <th>CHEST</th>\n",
       "      <th>ABDOMEN</th>\n",
       "      <th>HIP</th>\n",
       "      <th>THIGH</th>\n",
       "      <th>KNEE</th>\n",
       "      <th>ANKLE</th>\n",
       "      <th>BICEPS</th>\n",
       "      <th>FOREARM</th>\n",
       "      <th>WRIST</th>\n",
       "      <th>GENDER_여성</th>\n",
       "    </tr>\n",
       "  </thead>\n",
       "  <tbody>\n",
       "    <tr>\n",
       "      <th>0</th>\n",
       "      <td>35.2</td>\n",
       "      <td>46</td>\n",
       "      <td>363.15</td>\n",
       "      <td>72.25</td>\n",
       "      <td>51.2</td>\n",
       "      <td>136.2</td>\n",
       "      <td>148.1</td>\n",
       "      <td>147.7</td>\n",
       "      <td>87.3</td>\n",
       "      <td>49.1</td>\n",
       "      <td>29.6</td>\n",
       "      <td>45.0</td>\n",
       "      <td>29.0</td>\n",
       "      <td>21.4</td>\n",
       "      <td>0</td>\n",
       "    </tr>\n",
       "    <tr>\n",
       "      <th>1</th>\n",
       "      <td>11.8</td>\n",
       "      <td>27</td>\n",
       "      <td>168.00</td>\n",
       "      <td>71.25</td>\n",
       "      <td>38.1</td>\n",
       "      <td>93.0</td>\n",
       "      <td>79.1</td>\n",
       "      <td>94.5</td>\n",
       "      <td>57.3</td>\n",
       "      <td>36.2</td>\n",
       "      <td>24.5</td>\n",
       "      <td>29.0</td>\n",
       "      <td>30.0</td>\n",
       "      <td>18.8</td>\n",
       "      <td>0</td>\n",
       "    </tr>\n",
       "    <tr>\n",
       "      <th>2</th>\n",
       "      <td>22.2</td>\n",
       "      <td>69</td>\n",
       "      <td>177.75</td>\n",
       "      <td>68.50</td>\n",
       "      <td>38.7</td>\n",
       "      <td>102.0</td>\n",
       "      <td>95.0</td>\n",
       "      <td>98.3</td>\n",
       "      <td>55.0</td>\n",
       "      <td>38.3</td>\n",
       "      <td>21.8</td>\n",
       "      <td>30.8</td>\n",
       "      <td>25.7</td>\n",
       "      <td>18.8</td>\n",
       "      <td>0</td>\n",
       "    </tr>\n",
       "    <tr>\n",
       "      <th>3</th>\n",
       "      <td>10.6</td>\n",
       "      <td>57</td>\n",
       "      <td>147.75</td>\n",
       "      <td>65.75</td>\n",
       "      <td>35.2</td>\n",
       "      <td>99.6</td>\n",
       "      <td>86.4</td>\n",
       "      <td>90.1</td>\n",
       "      <td>53.0</td>\n",
       "      <td>35.0</td>\n",
       "      <td>21.3</td>\n",
       "      <td>31.7</td>\n",
       "      <td>27.3</td>\n",
       "      <td>16.9</td>\n",
       "      <td>1</td>\n",
       "    </tr>\n",
       "    <tr>\n",
       "      <th>4</th>\n",
       "      <td>47.5</td>\n",
       "      <td>51</td>\n",
       "      <td>219.00</td>\n",
       "      <td>64.00</td>\n",
       "      <td>41.2</td>\n",
       "      <td>119.8</td>\n",
       "      <td>122.1</td>\n",
       "      <td>112.8</td>\n",
       "      <td>62.5</td>\n",
       "      <td>36.9</td>\n",
       "      <td>23.6</td>\n",
       "      <td>34.7</td>\n",
       "      <td>29.1</td>\n",
       "      <td>18.4</td>\n",
       "      <td>1</td>\n",
       "    </tr>\n",
       "  </tbody>\n",
       "</table>\n",
       "</div>"
      ],
      "text/plain": [
       "    FAT  AGE  WEIGHT  HEIGHT  NECK  CHEST  ABDOMEN    HIP  THIGH  KNEE  ANKLE  \\\n",
       "0  35.2   46  363.15   72.25  51.2  136.2    148.1  147.7   87.3  49.1   29.6   \n",
       "1  11.8   27  168.00   71.25  38.1   93.0     79.1   94.5   57.3  36.2   24.5   \n",
       "2  22.2   69  177.75   68.50  38.7  102.0     95.0   98.3   55.0  38.3   21.8   \n",
       "3  10.6   57  147.75   65.75  35.2   99.6     86.4   90.1   53.0  35.0   21.3   \n",
       "4  47.5   51  219.00   64.00  41.2  119.8    122.1  112.8   62.5  36.9   23.6   \n",
       "\n",
       "   BICEPS  FOREARM  WRIST  GENDER_여성  \n",
       "0    45.0     29.0   21.4          0  \n",
       "1    29.0     30.0   18.8          0  \n",
       "2    30.8     25.7   18.8          0  \n",
       "3    31.7     27.3   16.9          1  \n",
       "4    34.7     29.1   18.4          1  "
      ]
     },
     "execution_count": 19,
     "metadata": {},
     "output_type": "execute_result"
    }
   ],
   "source": [
    "df = pd.get_dummies(df, drop_first=True)\n",
    "df.head()"
   ]
  },
  {
   "cell_type": "code",
   "execution_count": 20,
   "id": "894bdbb5-0633-40fd-a3e4-5c4b44a7310c",
   "metadata": {},
   "outputs": [
    {
     "name": "stdout",
     "output_type": "stream",
     "text": [
      "<class 'pandas.core.frame.DataFrame'>\n",
      "RangeIndex: 252 entries, 0 to 251\n",
      "Data columns (total 15 columns):\n",
      " #   Column     Non-Null Count  Dtype  \n",
      "---  ------     --------------  -----  \n",
      " 0   FAT        252 non-null    float64\n",
      " 1   AGE        252 non-null    int64  \n",
      " 2   WEIGHT     252 non-null    float64\n",
      " 3   HEIGHT     252 non-null    float64\n",
      " 4   NECK       252 non-null    float64\n",
      " 5   CHEST      252 non-null    float64\n",
      " 6   ABDOMEN    252 non-null    float64\n",
      " 7   HIP        252 non-null    float64\n",
      " 8   THIGH      252 non-null    float64\n",
      " 9   KNEE       252 non-null    float64\n",
      " 10  ANKLE      252 non-null    float64\n",
      " 11  BICEPS     252 non-null    float64\n",
      " 12  FOREARM    252 non-null    float64\n",
      " 13  WRIST      252 non-null    float64\n",
      " 14  GENDER_여성  252 non-null    uint8  \n",
      "dtypes: float64(13), int64(1), uint8(1)\n",
      "memory usage: 27.9 KB\n"
     ]
    }
   ],
   "source": [
    "df.info()"
   ]
  },
  {
   "cell_type": "markdown",
   "id": "c23c941d-e94d-4ed7-b1cd-4194e6945f59",
   "metadata": {},
   "source": [
    "### 데이터 구성"
   ]
  },
  {
   "cell_type": "code",
   "execution_count": 21,
   "id": "c1dcb024-282b-465a-b702-0a4cd80d097d",
   "metadata": {},
   "outputs": [
    {
     "name": "stdout",
     "output_type": "stream",
     "text": [
      "df_train_x: (176, 14)\n",
      "df_test_x: (76, 14)\n",
      "df_train_y: (176,)\n",
      "df_test_y: (76,)\n"
     ]
    }
   ],
   "source": [
    "df_y = df['FAT']\n",
    "df_x = df.drop(['FAT'], axis = 1, inplace=False)\n",
    "\n",
    "df_train_x, df_test_x, df_train_y, df_test_y = train_test_split(df_x, df_y, test_size=0.3, random_state=777)\n",
    "\n",
    "print(\"df_train_x:\",df_train_x.shape)\n",
    "print(\"df_test_x:\",df_test_x.shape)\n",
    "print(\"df_train_y:\",df_train_y.shape)\n",
    "print(\"df_test_y:\",df_test_y.shape)"
   ]
  },
  {
   "cell_type": "markdown",
   "id": "a5f3daad-0d0c-497a-a494-f2ac5dc46996",
   "metadata": {},
   "source": [
    "### 모델 구성"
   ]
  },
  {
   "cell_type": "code",
   "execution_count": 27,
   "id": "4cdb123c-1271-43e2-be42-3074e39d622b",
   "metadata": {},
   "outputs": [
    {
     "name": "stdout",
     "output_type": "stream",
     "text": [
      "-17.723265982759113\n"
     ]
    },
    {
     "data": {
      "text/html": [
       "<div>\n",
       "<style scoped>\n",
       "    .dataframe tbody tr th:only-of-type {\n",
       "        vertical-align: middle;\n",
       "    }\n",
       "\n",
       "    .dataframe tbody tr th {\n",
       "        vertical-align: top;\n",
       "    }\n",
       "\n",
       "    .dataframe thead th {\n",
       "        text-align: right;\n",
       "    }\n",
       "</style>\n",
       "<table border=\"1\" class=\"dataframe\">\n",
       "  <thead>\n",
       "    <tr style=\"text-align: right;\">\n",
       "      <th></th>\n",
       "      <th>Coef</th>\n",
       "    </tr>\n",
       "  </thead>\n",
       "  <tbody>\n",
       "    <tr>\n",
       "      <th>AGE</th>\n",
       "      <td>0.041103</td>\n",
       "    </tr>\n",
       "    <tr>\n",
       "      <th>WEIGHT</th>\n",
       "      <td>-0.097131</td>\n",
       "    </tr>\n",
       "    <tr>\n",
       "      <th>HEIGHT</th>\n",
       "      <td>-0.099130</td>\n",
       "    </tr>\n",
       "    <tr>\n",
       "      <th>NECK</th>\n",
       "      <td>-0.605584</td>\n",
       "    </tr>\n",
       "    <tr>\n",
       "      <th>CHEST</th>\n",
       "      <td>0.006881</td>\n",
       "    </tr>\n",
       "    <tr>\n",
       "      <th>ABDOMEN</th>\n",
       "      <td>0.980185</td>\n",
       "    </tr>\n",
       "    <tr>\n",
       "      <th>HIP</th>\n",
       "      <td>-0.240455</td>\n",
       "    </tr>\n",
       "    <tr>\n",
       "      <th>THIGH</th>\n",
       "      <td>0.201940</td>\n",
       "    </tr>\n",
       "    <tr>\n",
       "      <th>KNEE</th>\n",
       "      <td>-0.020947</td>\n",
       "    </tr>\n",
       "    <tr>\n",
       "      <th>ANKLE</th>\n",
       "      <td>0.413873</td>\n",
       "    </tr>\n",
       "    <tr>\n",
       "      <th>BICEPS</th>\n",
       "      <td>0.192247</td>\n",
       "    </tr>\n",
       "    <tr>\n",
       "      <th>FOREARM</th>\n",
       "      <td>0.418512</td>\n",
       "    </tr>\n",
       "    <tr>\n",
       "      <th>WRIST</th>\n",
       "      <td>-1.326494</td>\n",
       "    </tr>\n",
       "    <tr>\n",
       "      <th>GENDER_여성</th>\n",
       "      <td>0.140948</td>\n",
       "    </tr>\n",
       "  </tbody>\n",
       "</table>\n",
       "</div>"
      ],
      "text/plain": [
       "               Coef\n",
       "AGE        0.041103\n",
       "WEIGHT    -0.097131\n",
       "HEIGHT    -0.099130\n",
       "NECK      -0.605584\n",
       "CHEST      0.006881\n",
       "ABDOMEN    0.980185\n",
       "HIP       -0.240455\n",
       "THIGH      0.201940\n",
       "KNEE      -0.020947\n",
       "ANKLE      0.413873\n",
       "BICEPS     0.192247\n",
       "FOREARM    0.418512\n",
       "WRIST     -1.326494\n",
       "GENDER_여성  0.140948"
      ]
     },
     "execution_count": 27,
     "metadata": {},
     "output_type": "execute_result"
    }
   ],
   "source": [
    "ridge = Ridge(random_state=777, alpha = 1)\n",
    "ridge.fit(df_train_x, df_train_y)\n",
    "\n",
    "print(ridge.intercept_)\n",
    "\n",
    "df_ridge_coef = pd.DataFrame({\"Coef\": ridge.coef_}, index = df_train_x.columns)\n",
    "df_ridge_coef"
   ]
  },
  {
   "cell_type": "code",
   "execution_count": 28,
   "id": "93d9c508-b9b7-47be-869c-59396613720f",
   "metadata": {},
   "outputs": [
    {
     "data": {
      "text/plain": [
       "<Axes: >"
      ]
     },
     "execution_count": 28,
     "metadata": {},
     "output_type": "execute_result"
    },
    {
     "data": {
      "image/png": "[encoded data removed]",
      "text/plain": [
       "<Figure size 640x480 with 1 Axes>"
      ]
     },
     "metadata": {},
     "output_type": "display_data"
    }
   ],
   "source": [
    "df_ridge_coef.plot.barh(y = \"Coef\", legend = False)"
   ]
  },
  {
   "cell_type": "code",
   "execution_count": 29,
   "id": "c42a5830-8c0c-47b2-961f-cacf963e23c3",
   "metadata": {},
   "outputs": [
    {
     "name": "stdout",
     "output_type": "stream",
     "text": [
      "train data의 결정계수: 0.7519819801884531\n",
      "test data의 결정계수: 0.7245325791700679\n"
     ]
    }
   ],
   "source": [
    "train_pred = ridge.predict(df_train_x)\n",
    "test_pred = ridge.predict(df_test_x)\n",
    "print(\"train data의 결정계수:\", r2_score(df_train_y, train_pred))\n",
    "print(\"test data의 결정계수:\", r2_score(df_test_y, test_pred))"
   ]
  },
  {
   "cell_type": "code",
   "execution_count": 30,
   "id": "a10c45ce-1629-4dec-abf3-af9aaa3b8e40",
   "metadata": {},
   "outputs": [
    {
     "name": "stdout",
     "output_type": "stream",
     "text": [
      "-37.332664955628445\n"
     ]
    },
    {
     "data": {
      "text/html": [
       "<div>\n",
       "<style scoped>\n",
       "    .dataframe tbody tr th:only-of-type {\n",
       "        vertical-align: middle;\n",
       "    }\n",
       "\n",
       "    .dataframe tbody tr th {\n",
       "        vertical-align: top;\n",
       "    }\n",
       "\n",
       "    .dataframe thead th {\n",
       "        text-align: right;\n",
       "    }\n",
       "</style>\n",
       "<table border=\"1\" class=\"dataframe\">\n",
       "  <thead>\n",
       "    <tr style=\"text-align: right;\">\n",
       "      <th></th>\n",
       "      <th>Coef</th>\n",
       "    </tr>\n",
       "  </thead>\n",
       "  <tbody>\n",
       "    <tr>\n",
       "      <th>AGE</th>\n",
       "      <td>0.000000</td>\n",
       "    </tr>\n",
       "    <tr>\n",
       "      <th>WEIGHT</th>\n",
       "      <td>-0.127440</td>\n",
       "    </tr>\n",
       "    <tr>\n",
       "      <th>HEIGHT</th>\n",
       "      <td>-0.092303</td>\n",
       "    </tr>\n",
       "    <tr>\n",
       "      <th>NECK</th>\n",
       "      <td>-0.026527</td>\n",
       "    </tr>\n",
       "    <tr>\n",
       "      <th>CHEST</th>\n",
       "      <td>0.000000</td>\n",
       "    </tr>\n",
       "    <tr>\n",
       "      <th>ABDOMEN</th>\n",
       "      <td>0.919768</td>\n",
       "    </tr>\n",
       "    <tr>\n",
       "      <th>HIP</th>\n",
       "      <td>-0.000000</td>\n",
       "    </tr>\n",
       "    <tr>\n",
       "      <th>THIGH</th>\n",
       "      <td>0.025109</td>\n",
       "    </tr>\n",
       "    <tr>\n",
       "      <th>KNEE</th>\n",
       "      <td>0.000000</td>\n",
       "    </tr>\n",
       "    <tr>\n",
       "      <th>ANKLE</th>\n",
       "      <td>0.000000</td>\n",
       "    </tr>\n",
       "    <tr>\n",
       "      <th>BICEPS</th>\n",
       "      <td>0.000000</td>\n",
       "    </tr>\n",
       "    <tr>\n",
       "      <th>FOREARM</th>\n",
       "      <td>0.000000</td>\n",
       "    </tr>\n",
       "    <tr>\n",
       "      <th>WRIST</th>\n",
       "      <td>-0.000000</td>\n",
       "    </tr>\n",
       "    <tr>\n",
       "      <th>GENDER_여성</th>\n",
       "      <td>0.000000</td>\n",
       "    </tr>\n",
       "  </tbody>\n",
       "</table>\n",
       "</div>"
      ],
      "text/plain": [
       "               Coef\n",
       "AGE        0.000000\n",
       "WEIGHT    -0.127440\n",
       "HEIGHT    -0.092303\n",
       "NECK      -0.026527\n",
       "CHEST      0.000000\n",
       "ABDOMEN    0.919768\n",
       "HIP       -0.000000\n",
       "THIGH      0.025109\n",
       "KNEE       0.000000\n",
       "ANKLE      0.000000\n",
       "BICEPS     0.000000\n",
       "FOREARM    0.000000\n",
       "WRIST     -0.000000\n",
       "GENDER_여성  0.000000"
      ]
     },
     "execution_count": 30,
     "metadata": {},
     "output_type": "execute_result"
    }
   ],
   "source": [
    "lasso = Lasso(random_state=777, alpha = 1)\n",
    "lasso.fit(df_train_x, df_train_y)\n",
    "\n",
    "print(lasso.intercept_)\n",
    "\n",
    "df_lasso_coef = pd.DataFrame({\"Coef\": lasso.coef_}, index = df_train_x.columns)\n",
    "df_lasso_coef"
   ]
  },
  {
   "cell_type": "code",
   "execution_count": 31,
   "id": "db4df9a5-ab60-4ace-9891-af7a58284d97",
   "metadata": {},
   "outputs": [
    {
     "data": {
      "text/plain": [
       "<Axes: >"
      ]
     },
     "execution_count": 31,
     "metadata": {},
     "output_type": "execute_result"
    },
    {
     "data": {
      "image/png": "[encoded data removed]",
      "text/plain": [
       "<Figure size 640x480 with 1 Axes>"
      ]
     },
     "metadata": {},
     "output_type": "display_data"
    }
   ],
   "source": [
    "df_lasso_coef.plot.barh(y = \"Coef\", legend = False)"
   ]
  },
  {
   "cell_type": "code",
   "execution_count": 32,
   "id": "53bcaa52-bf18-42a0-bcfd-0b4dfb1cf5ae",
   "metadata": {},
   "outputs": [
    {
     "name": "stdout",
     "output_type": "stream",
     "text": [
      "train data의 결정계수: 0.7223051068258712\n",
      "test data의 결정계수: 0.7177022754648157\n"
     ]
    }
   ],
   "source": [
    "train_pred = lasso.predict(df_train_x)\n",
    "test_pred = lasso.predict(df_test_x)\n",
    "print(\"train data의 결정계수:\", r2_score(df_train_y, train_pred))\n",
    "print(\"test data의 결정계수:\", r2_score(df_test_y, test_pred))"
   ]
  },
  {
   "cell_type": "code",
   "execution_count": 33,
   "id": "4ebb249c-8807-471d-895b-01c6a7c82d15",
   "metadata": {},
   "outputs": [
    {
     "name": "stdout",
     "output_type": "stream",
     "text": [
      "-32.711007506832985\n"
     ]
    },
    {
     "data": {
      "text/html": [
       "<div>\n",
       "<style scoped>\n",
       "    .dataframe tbody tr th:only-of-type {\n",
       "        vertical-align: middle;\n",
       "    }\n",
       "\n",
       "    .dataframe tbody tr th {\n",
       "        vertical-align: top;\n",
       "    }\n",
       "\n",
       "    .dataframe thead th {\n",
       "        text-align: right;\n",
       "    }\n",
       "</style>\n",
       "<table border=\"1\" class=\"dataframe\">\n",
       "  <thead>\n",
       "    <tr style=\"text-align: right;\">\n",
       "      <th></th>\n",
       "      <th>Coef</th>\n",
       "    </tr>\n",
       "  </thead>\n",
       "  <tbody>\n",
       "    <tr>\n",
       "      <th>AGE</th>\n",
       "      <td>0.008686</td>\n",
       "    </tr>\n",
       "    <tr>\n",
       "      <th>WEIGHT</th>\n",
       "      <td>-0.119104</td>\n",
       "    </tr>\n",
       "    <tr>\n",
       "      <th>HEIGHT</th>\n",
       "      <td>-0.110757</td>\n",
       "    </tr>\n",
       "    <tr>\n",
       "      <th>NECK</th>\n",
       "      <td>-0.290369</td>\n",
       "    </tr>\n",
       "    <tr>\n",
       "      <th>CHEST</th>\n",
       "      <td>0.000000</td>\n",
       "    </tr>\n",
       "    <tr>\n",
       "      <th>ABDOMEN</th>\n",
       "      <td>0.923779</td>\n",
       "    </tr>\n",
       "    <tr>\n",
       "      <th>HIP</th>\n",
       "      <td>-0.052414</td>\n",
       "    </tr>\n",
       "    <tr>\n",
       "      <th>THIGH</th>\n",
       "      <td>0.096857</td>\n",
       "    </tr>\n",
       "    <tr>\n",
       "      <th>KNEE</th>\n",
       "      <td>0.000000</td>\n",
       "    </tr>\n",
       "    <tr>\n",
       "      <th>ANKLE</th>\n",
       "      <td>0.000000</td>\n",
       "    </tr>\n",
       "    <tr>\n",
       "      <th>BICEPS</th>\n",
       "      <td>0.058976</td>\n",
       "    </tr>\n",
       "    <tr>\n",
       "      <th>FOREARM</th>\n",
       "      <td>0.121945</td>\n",
       "    </tr>\n",
       "    <tr>\n",
       "      <th>WRIST</th>\n",
       "      <td>-0.000000</td>\n",
       "    </tr>\n",
       "    <tr>\n",
       "      <th>GENDER_여성</th>\n",
       "      <td>0.000000</td>\n",
       "    </tr>\n",
       "  </tbody>\n",
       "</table>\n",
       "</div>"
      ],
      "text/plain": [
       "               Coef\n",
       "AGE        0.008686\n",
       "WEIGHT    -0.119104\n",
       "HEIGHT    -0.110757\n",
       "NECK      -0.290369\n",
       "CHEST      0.000000\n",
       "ABDOMEN    0.923779\n",
       "HIP       -0.052414\n",
       "THIGH      0.096857\n",
       "KNEE       0.000000\n",
       "ANKLE      0.000000\n",
       "BICEPS     0.058976\n",
       "FOREARM    0.121945\n",
       "WRIST     -0.000000\n",
       "GENDER_여성  0.000000"
      ]
     },
     "execution_count": 33,
     "metadata": {},
     "output_type": "execute_result"
    }
   ],
   "source": [
    "elastic = ElasticNet(random_state=777, alpha = 1)\n",
    "elastic.fit(df_train_x, df_train_y)\n",
    "\n",
    "print(elastic.intercept_)\n",
    "\n",
    "df_elastic_coef = pd.DataFrame({\"Coef\": elastic.coef_}, index = df_train_x.columns)\n",
    "df_elastic_coef"
   ]
  },
  {
   "cell_type": "code",
   "execution_count": 34,
   "id": "6517446b-f0d9-44c1-b5a4-6718dbd9cd58",
   "metadata": {},
   "outputs": [
    {
     "data": {
      "text/plain": [
       "<Axes: >"
      ]
     },
     "execution_count": 34,
     "metadata": {},
     "output_type": "execute_result"
    },
    {
     "data": {
      "image/png": "[encoded data removed]",
      "text/plain": [
       "<Figure size 640x480 with 1 Axes>"
      ]
     },
     "metadata": {},
     "output_type": "display_data"
    }
   ],
   "source": [
    "df_elastic_coef.plot.barh(y = \"Coef\", legend = False)"
   ]
  },
  {
   "cell_type": "code",
   "execution_count": 35,
   "id": "eb75967a-23e1-45dd-8f6a-10a625ab05eb",
   "metadata": {},
   "outputs": [
    {
     "name": "stdout",
     "output_type": "stream",
     "text": [
      "train data의 결정계수: 0.733927988106248\n",
      "test data의 결정계수: 0.7225059078539453\n"
     ]
    }
   ],
   "source": [
    "train_pred = elastic.predict(df_train_x)\n",
    "test_pred = elastic.predict(df_test_x)\n",
    "print(\"train data의 결정계수:\", r2_score(df_train_y, train_pred))\n",
    "print(\"test data의 결정계수:\", r2_score(df_test_y, test_pred))"
   ]
  },
  {
   "cell_type": "code",
   "execution_count": 46,
   "id": "2b6d9932-a085-4178-9ece-44f57e420c86",
   "metadata": {},
   "outputs": [
    {
     "name": "stdout",
     "output_type": "stream",
     "text": [
      "Alpha :  0.01\n",
      "train data의 결정계수: 0.7519850480385838\n",
      "test data의 결정계수: 0.7245864719715832\n",
      "\n",
      "Alpha :  0.05\n",
      "train data의 결정계수: 0.7519850403670844\n",
      "test data의 결정계수: 0.7245843366729499\n",
      "\n",
      "Alpha :  0.1\n",
      "train data의 결정계수: 0.7519850164617237\n",
      "test data의 결정계수: 0.7245816619897638\n",
      "\n",
      "Alpha :  0.15\n",
      "train data의 결정계수: 0.7519849767469096\n",
      "test data의 결정계수: 0.7245789812302773\n",
      "\n",
      "Alpha :  0.2\n",
      "train data의 결정계수: 0.7519849213260772\n",
      "test data의 결정계수: 0.7245762945021283\n",
      "\n",
      "Alpha :  0.3\n",
      "train data의 결정계수: 0.7519847637764201\n",
      "test data의 결정계수: 0.7245709035654038\n",
      "\n",
      "Alpha :  0.4\n",
      "train data의 결정계수: 0.7519845446256025\n",
      "test data의 결정계수: 0.7245654900208405\n",
      "\n",
      "Alpha :  0.5\n",
      "train data의 결정계수: 0.7519842646749638\n",
      "test data의 결정계수: 0.7245600546941062\n",
      "\n",
      "Alpha :  0.6\n",
      "train data의 결정계수: 0.7519839247145166\n",
      "test data의 결정계수: 0.7245545983955597\n",
      "\n",
      "Alpha :  0.7\n",
      "train data의 결정계수: 0.7519835255231266\n",
      "test data의 결정계수: 0.7245491219205309\n",
      "\n",
      "Alpha :  0.8\n",
      "train data의 결정계수: 0.7519830678686901\n",
      "test data의 결정계수: 0.7245436260495925\n",
      "\n",
      "Alpha :  0.9\n",
      "train data의 결정계수: 0.7519825525083074\n",
      "test data의 결정계수: 0.724538111548823\n",
      "\n",
      "Alpha :  1.0\n",
      "train data의 결정계수: 0.7519819801884531\n",
      "test data의 결정계수: 0.7245325791700679\n",
      "\n"
     ]
    }
   ],
   "source": [
    "alpha_tune = [0.01, 0.05, 0.1, 0.15, 0.2, 0.3, 0.4, 0.5, 0.6, 0.7, 0.8, 0.9, 1.0]\n",
    "train_v = []\n",
    "test_v = []\n",
    "for a in alpha_tune:\n",
    "\n",
    "    ridge = Ridge(random_state=777, alpha = a)\n",
    "    ridge.fit(df_train_x, df_train_y)\n",
    "    \n",
    "    train_pred = ridge.predict(df_train_x)\n",
    "    test_pred = ridge.predict(df_test_x)\n",
    "    print(\"Alpha : \", a)\n",
    "    print(\"train data의 결정계수:\", r2_score(df_train_y, train_pred))\n",
    "    print(\"test data의 결정계수:\", r2_score(df_test_y, test_pred))\n",
    "    print()\n",
    "\n",
    "    train_v.append(r2_score(df_train_y, train_pred))\n",
    "    test_v.append(r2_score(df_test_y, test_pred))"
   ]
  },
  {
   "cell_type": "code",
   "execution_count": 47,
   "id": "6b86955d-4167-4269-b912-b2a47faedcae",
   "metadata": {},
   "outputs": [
    {
     "data": {
      "image/png": "[encoded data removed]",
      "text/plain": [
       "<Figure size 640x480 with 1 Axes>"
      ]
     },
     "metadata": {},
     "output_type": "display_data"
    }
   ],
   "source": [
    "plt.plot(alpha_tune, train_v)\n",
    "plt.plot(alpha_tune, test_v)\n",
    "plt.show()"
   ]
  },
  {
   "cell_type": "code",
   "execution_count": null,
   "id": "a5da3026-7677-4bb5-806f-b87301b4c699",
   "metadata": {},
   "outputs": [],
   "source": []
  },
  {
   "cell_type": "code",
   "execution_count": null,
   "id": "863f8690-a363-4d4e-b64b-5cffa74a8b6f",
   "metadata": {},
   "outputs": [],
   "source": []
  }
 ],
 "metadata": {
  "kernelspec": {
   "display_name": "Python 3 (ipykernel)",
   "language": "python",
   "name": "python3"
  },
  "language_info": {
   "codemirror_mode": {
    "name": "ipython",
    "version": 3
   },
   "file_extension": ".py",
   "mimetype": "text/x-python",
   "name": "python",
   "nbconvert_exporter": "python",
   "pygments_lexer": "ipython3",
   "version": "3.10.16"
  }
 },
 "nbformat": 4,
 "nbformat_minor": 5
}
