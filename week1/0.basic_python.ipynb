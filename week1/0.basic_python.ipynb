{
 "cells": [
  {
   "cell_type": "markdown",
   "id": "e067bf8c-f3d5-4fc3-a474-4bee50fd95d6",
   "metadata": {},
   "source": [
    "## Hello, World! 출력\n",
    "print 함수로 Hello, world!를 출력합니다."
   ]
  },
  {
   "cell_type": "code",
   "execution_count": 1,
   "id": "ca9de923-15d2-4697-8722-8cf2a58b00e7",
   "metadata": {},
   "outputs": [
    {
     "name": "stdout",
     "output_type": "stream",
     "text": [
      "Hello, world\n"
     ]
    }
   ],
   "source": [
    "print(\"Hello, world\")"
   ]
  },
  {
   "cell_type": "code",
   "execution_count": 3,
   "id": "51afe369-d9fc-49f7-a5a0-173db8711d7b",
   "metadata": {},
   "outputs": [
    {
     "name": "stdin",
     "output_type": "stream",
     "text": [
      "첫 번째 정수를 입력하세요: 10\n",
      "두 번째 정수를 입력하세요: 5\n"
     ]
    },
    {
     "name": "stdout",
     "output_type": "stream",
     "text": [
      "10 + 5 = 15\n",
      "10 - 5 = 5\n",
      "10 * 5 = 50\n",
      "10 / 5 = 2.0\n"
     ]
    }
   ],
   "source": [
    "a = int(input(\"첫 번째 정수를 입력하세요:\"))\n",
    "b = int(input(\"두 번째 정수를 입력하세요:\"))\n",
    "\n",
    "print(a, \"+\", b, \"=\", a+b)\n",
    "print(a, \"-\", b, \"=\", a-b)\n",
    "print(a, \"*\", b, \"=\", a*b)\n",
    "print(a, \"/\", b, \"=\", a/b)\n"
   ]
  },
  {
   "cell_type": "markdown",
   "id": "92c40e95-28b3-4d51-a46f-d221834522fb",
   "metadata": {},
   "source": [
    "### dictionary"
   ]
  },
  {
   "cell_type": "code",
   "execution_count": 5,
   "id": "f1cb76ff-934e-495d-918e-b929e845a6e8",
   "metadata": {},
   "outputs": [
    {
     "name": "stdout",
     "output_type": "stream",
     "text": [
      "3 2 1 "
     ]
    }
   ],
   "source": [
    "# dictionary\n",
    "\n",
    "d = {'kim' : 3, 'park' :2, 'youn':1}\n",
    "for i in d.values():\n",
    "    print(i, end=\" \")"
   ]
  },
  {
   "cell_type": "code",
   "execution_count": 10,
   "id": "ad0ee8e2-e1b4-4f4c-bbb6-dde7a49f3ac7",
   "metadata": {},
   "outputs": [
    {
     "name": "stdin",
     "output_type": "stream",
     "text": [
      "Enter a sentence: Python is fun!\n"
     ]
    },
    {
     "name": "stdout",
     "output_type": "stream",
     "text": [
      "{'P': 1, 'y': 1, 't': 1, 'h': 1, 'o': 1, 'n': 2, ' ': 2, 'i': 1, 's': 1, 'f': 1, 'u': 1, '!': 1}\n"
     ]
    }
   ],
   "source": [
    "str_input = input(\"Enter a sentence:\")\n",
    "d = {}\n",
    "for i in range(len(str_input)):\n",
    "    if str_input[i] in d:\n",
    "        d[str(str_input[i])] += 1\n",
    "    else:\n",
    "        d[str(str_input[i])] = 1\n",
    "\n",
    "print(d)"
   ]
  },
  {
   "cell_type": "markdown",
   "id": "7d243ef8-b3c8-433f-8dc8-60eb3a19e503",
   "metadata": {},
   "source": [
    "### list comprehension"
   ]
  },
  {
   "cell_type": "code",
   "execution_count": 22,
   "id": "b0bad088-9c96-4ca1-beda-997bbe009343",
   "metadata": {},
   "outputs": [
    {
     "name": "stdout",
     "output_type": "stream",
     "text": [
      "{'one': 1, 'two': 2, 'three': 3, 'four': 4}\n"
     ]
    }
   ],
   "source": [
    "#list comprehension\n",
    "L1 = ['one', 'two', 'three', 'four']\n",
    "L2 = [1, 2, 3, 4]\n",
    "d = {}\n",
    "\n",
    "li = list(zip(L1, L2))\n",
    "\n",
    "# for i in range(len(li)):\n",
    "#     d[li[i][0]] = li[i][1]\n",
    "    \n",
    "d = {key: value for key, value in li} #로도 가능\n",
    "print(d)\n"
   ]
  },
  {
   "cell_type": "markdown",
   "id": "eb40dd42-b0f3-4aae-aa71-59fe5d821b93",
   "metadata": {},
   "source": [
    "### 함수"
   ]
  },
  {
   "cell_type": "code",
   "execution_count": 27,
   "id": "3197d7f5-23e0-4a58-9a12-08edf5e78b61",
   "metadata": {},
   "outputs": [
    {
     "name": "stdout",
     "output_type": "stream",
     "text": [
      "6 14\n",
      "6 14\n"
     ]
    }
   ],
   "source": [
    "#실습 1\n",
    "\n",
    "def my_len(x):\n",
    "    length = 0\n",
    "    for i in x:\n",
    "        length += 1\n",
    "    return length\n",
    "\n",
    "a = [5,5,6,7,8,3]\n",
    "b = 'Life is short.'\n",
    "print(len(a), len(b))\n",
    "# 내장 함수 len()\n",
    "print(my_len(a), my_len(b)) # my_len()    "
   ]
  },
  {
   "cell_type": "code",
   "execution_count": 30,
   "id": "91abeb5d-b017-42fc-9c2f-b3a7ae74d6fb",
   "metadata": {},
   "outputs": [
    {
     "name": "stdout",
     "output_type": "stream",
     "text": [
      "6\n",
      "120\n"
     ]
    }
   ],
   "source": [
    "#실습 2\n",
    "def mult(a,b):\n",
    "    result = a\n",
    "    for i in range(a+1,b+1):\n",
    "        result *= i\n",
    "    return result\n",
    "    \n",
    "print(mult(1,3))\n",
    "print(mult(2,5))"
   ]
  },
  {
   "cell_type": "code",
   "execution_count": 32,
   "id": "57761913-45bd-4496-b23a-ae67662de402",
   "metadata": {},
   "outputs": [
    {
     "name": "stdout",
     "output_type": "stream",
     "text": [
      "7 -9\n",
      "1 -1\n"
     ]
    }
   ],
   "source": [
    "#실습 3\n",
    "def sum_pos_neg(l):\n",
    "    pos_sum = 0\n",
    "    neg_sum = 0\n",
    "\n",
    "    for i in l:\n",
    "        if i < 0:\n",
    "            neg_sum += i\n",
    "        else:\n",
    "            pos_sum += i\n",
    "    return pos_sum, neg_sum\n",
    "            \n",
    "possum, negsum = sum_pos_neg([3,4,-6,-3])\n",
    "print(possum,negsum) # 7 -9\n",
    "mylist = [0,0,0,0,0,0,0,0,0,1,-1]\n",
    "possum2, negsum2 = sum_pos_neg(mylist)\n",
    "print(possum2,negsum2) # 1 -1"
   ]
  },
  {
   "cell_type": "code",
   "execution_count": 41,
   "id": "30257cc1-d443-4575-86a5-94958ccc5344",
   "metadata": {},
   "outputs": [
    {
     "name": "stdout",
     "output_type": "stream",
     "text": [
      "[1.5, 1.5] [7.5, 5.5] [4.13, 2.72]\n"
     ]
    }
   ],
   "source": [
    "#실습 4 - 가변 매개변수\n",
    "\n",
    "def vector_sum(vector, *vectors):\n",
    "    sum_vector = [vector[0],vector[1]]\n",
    "    for i in vectors:\n",
    "        sum_vector[0] += i[0]\n",
    "        sum_vector[1] += i[1]\n",
    "    #print(sum_vector)\n",
    "    \n",
    "    return sum_vector\n",
    "    \n",
    "v1=[0, 1]\n",
    "v2=[0.5, 0.5]\n",
    "v3=[1, 0]\n",
    "v4=[6, 4]\n",
    "v5=[3.13, 2.72]\n",
    "m1 = vector_sum(v1, v2, v3)\n",
    "m2 = vector_sum(v1, v2, v3, v4)\n",
    "m3 = vector_sum(v3, v5)\n",
    "print(m1,m2,m3)\n"
   ]
  },
  {
   "cell_type": "code",
   "execution_count": 43,
   "id": "3ffcdd85-2e8d-4ad5-a5c6-3da537942ca6",
   "metadata": {},
   "outputs": [
    {
     "name": "stdout",
     "output_type": "stream",
     "text": [
      "[1.5, 1.5] [7.5, 5.5] [4.13, 2.72]\n"
     ]
    }
   ],
   "source": [
    "#TA 코드\n",
    "\n",
    "def vector_sum(vector, *vectors):\n",
    "    x_sum, y_sum = vector\n",
    "    for x, y in vectors:\n",
    "        x_sum += x\n",
    "        y_sum += y\n",
    "    return [x_sum, y_sum]\n",
    "\n",
    "v1=[0, 1]\n",
    "v2=[0.5, 0.5]\n",
    "v3=[1, 0]\n",
    "v4=[6, 4]\n",
    "v5=[3.13, 2.72]\n",
    "m1 = vector_sum(v1, v2, v3)\n",
    "m2 = vector_sum(v1, v2, v3, v4)\n",
    "m3 = vector_sum(v3, v5)\n",
    "print(m1,m2,m3)"
   ]
  },
  {
   "cell_type": "code",
   "execution_count": 4,
   "id": "0ea5bfa0-b052-4905-ae4a-cd5b780fa43d",
   "metadata": {},
   "outputs": [
    {
     "name": "stdout",
     "output_type": "stream",
     "text": [
      "[1, 1, 2, 2, 3, 5, 9]\n",
      "[0, 4, 6, 9]\n",
      "[0, 0]\n"
     ]
    }
   ],
   "source": [
    "#실습 5 - 디폴트 매개변수\n",
    "\n",
    "def merge_list(list_1 = [0], list_2 = [0]):\n",
    "    result_list = list_1 + list_2\n",
    "    return sorted(result_list)\n",
    "\n",
    "l = [3, 5, 9, 1, 2]\n",
    "ml1 = merge_list(l,[2,1])\n",
    "ml2 = merge_list([6,9,4])\n",
    "ml3 = merge_list()\n",
    "print(ml1) # [1, 1, 2, 2, 3, 5, 9]\n",
    "print(ml2) # [0, 4, 6, 9]\n",
    "print(ml3) # [0, 0]\n",
    "\n",
    "    "
   ]
  },
  {
   "cell_type": "code",
   "execution_count": 45,
   "id": "64458724-4610-4f45-9002-6c0bc6581f5a",
   "metadata": {},
   "outputs": [
    {
     "name": "stdout",
     "output_type": "stream",
     "text": [
      "[1, 1, 2, 2, 3, 5, 9]\n",
      "[0, 4, 6, 9]\n",
      "[0, 0]\n"
     ]
    }
   ],
   "source": [
    "#TA 코드\n",
    "\n",
    "def merge_list(l1=[0], l2=[0]):\n",
    "    return sorted(l1 + l2)\n",
    "\n",
    "l = [3, 5, 9, 1, 2]\n",
    "ml1 = merge_list(l,[2,1])\n",
    "ml2 = merge_list([6,9,4])\n",
    "ml3 = merge_list()\n",
    "print(ml1) # [1, 1, 2, 2, 3, 5, 9]\n",
    "print(ml2) # [0, 4, 6, 9]\n",
    "print(ml3) # [0, 0]"
   ]
  },
  {
   "cell_type": "code",
   "execution_count": 12,
   "id": "92b74307-bc2d-4ab7-b032-bf14a588b1d4",
   "metadata": {},
   "outputs": [
    {
     "name": "stdout",
     "output_type": "stream",
     "text": [
      "오늘 점심은 김치찌개 입니다.\n",
      "오늘 점심은 파스타 입니다.\n"
     ]
    }
   ],
   "source": [
    "#실습 6 - 모듈\n",
    "import random\n",
    "\n",
    "menu = [\"된장찌개\", \"부대찌개\", \"김치찌개\", \"삼계탕\", \"파스타\", \"돈까스\", \"쌀국수\"]\n",
    "r = random.randint(1,len(menu))\n",
    "print(\"오늘 점심은\",menu[r],\"입니다.\")\n",
    "print(\"오늘 점심은\",random.sample(menu,1)[0],\"입니다.\")"
   ]
  },
  {
   "cell_type": "code",
   "execution_count": 46,
   "id": "84236603-e2ee-42f4-9424-1b19ef8eb0b8",
   "metadata": {},
   "outputs": [
    {
     "name": "stdout",
     "output_type": "stream",
     "text": [
      "오늘 점심은 부대찌개 입니다.\n"
     ]
    }
   ],
   "source": [
    "#TA 코드\n",
    "\n",
    "import random\n",
    "menu_index = random.choice(range(len(menu)))\n",
    "selected_menu = menu[menu_index]\n",
    "print(\"오늘 점심은\",selected_menu,\"입니다.\")"
   ]
  },
  {
   "cell_type": "code",
   "execution_count": 25,
   "id": "d6a7a7ff-f95f-4f48-96bf-fb8a476ae43c",
   "metadata": {},
   "outputs": [
    {
     "name": "stdout",
     "output_type": "stream",
     "text": [
      "1 번째 자동 기입 ==> 1 3 23 8 34 14 \n",
      "2 번째 자동 기입 ==> 8 18 34 43 13 4 \n",
      "3 번째 자동 기입 ==> 30 13 11 12 45 38 \n",
      "4 번째 자동 기입 ==> 18 5 4 43 38 45 \n",
      "5 번째 자동 기입 ==> 37 19 1 35 11 30 \n"
     ]
    }
   ],
   "source": [
    "#실습 7 - random\n",
    "import random\n",
    "lotto_list = [i for i in range(1,46)]\n",
    "for i in range(5):\n",
    "    lotto_num = random.sample(lotto_list,6)\n",
    "    print(i+1,\"번째 자동 기입 ==>\", end = \" \")\n",
    "    for j in lotto_num:\n",
    "        print(j, end = \" \")\n",
    "    print()\n"
   ]
  },
  {
   "cell_type": "code",
   "execution_count": 50,
   "id": "fc68a4cd-7611-480c-8b17-5fd9991ec921",
   "metadata": {},
   "outputs": [
    {
     "name": "stdout",
     "output_type": "stream",
     "text": [
      "자동기입 시작 어쩌구\n",
      "1번째 자동기입 ==> 6 13 14 26 31 45\n",
      "2번째 자동기입 ==> 7 10 16 20 32 34\n",
      "3번째 자동기입 ==> 2 7 15 21 30 31\n",
      "4번째 자동기입 ==> 7 10 23 29 38 39\n",
      "5번째 자동기입 ==> 20 24 27 34 38 40\n"
     ]
    }
   ],
   "source": [
    "#TA 코드\n",
    "\n",
    "import random\n",
    "\n",
    "print(\"자동기입 시작 어쩌구\")\n",
    "\n",
    "for i in range(1,6):\n",
    "    lotto_number = random.sample(list(range(1,46)),6)\n",
    "    print(\"%d번째 자동기입 ==>\"%i, *sorted(lotto_number))"
   ]
  },
  {
   "cell_type": "code",
   "execution_count": 26,
   "id": "5efbd826-3723-40bd-9d4b-1092e563f5dd",
   "metadata": {},
   "outputs": [
    {
     "name": "stdout",
     "output_type": "stream",
     "text": [
      "1\n",
      "9\n",
      "[3, 5, 2]\n"
     ]
    }
   ],
   "source": [
    "#실습 8 - 최대최솟값반환\n",
    "\n",
    "def get_min_max(l):\n",
    "    min_val = min(l)\n",
    "    max_val = max(l)\n",
    "    l.remove(min_val)\n",
    "    l.remove(max_val)\n",
    "    return min_val, max_val\n",
    "    \n",
    "l = [3, 5, 9, 1, 2]\n",
    "min_val, max_val = get_min_max(l)\n",
    "print(min_val)\n",
    "print(max_val)\n",
    "print(l)"
   ]
  },
  {
   "cell_type": "code",
   "execution_count": 42,
   "id": "a72465ef-1ef4-4bdd-9419-f7aa50c7824a",
   "metadata": {},
   "outputs": [
    {
     "name": "stdout",
     "output_type": "stream",
     "text": [
      "{'a': 3, 'b': 3, 'c': 4, 'd': 7, 'e': 9}\n"
     ]
    }
   ],
   "source": [
    "#실습 9 - 딕셔너리\n",
    "\n",
    "def comb_dict(d1, d2):\n",
    "    new_dict = d1\n",
    "    for i in d2:\n",
    "        if i in new_dict:\n",
    "            new_dict[i] += d2[i]\n",
    "        else:\n",
    "            new_dict[i] = d2[i]\n",
    "    return dict(sorted(new_dict.items()))\n",
    "    \n",
    "d1 = {'a': 1, 'b': 3, 'd': 7, 'e': 8}\n",
    "d2 = {'a': 2, 'c': 4, 'e': 1}\n",
    "d3 = comb_dict(d1, d2)\n",
    "print(d3)"
   ]
  },
  {
   "cell_type": "code",
   "execution_count": 44,
   "id": "d27eaa3c-ec38-4d53-be43-28c219dc6ecd",
   "metadata": {},
   "outputs": [
    {
     "name": "stdout",
     "output_type": "stream",
     "text": [
      "4\n",
      "300\n"
     ]
    },
    {
     "data": {
      "text/plain": [
       "0"
      ]
     },
     "execution_count": 44,
     "metadata": {},
     "output_type": "execute_result"
    }
   ],
   "source": [
    "#실습 10 - 최댓갓 최솟값 차이\n",
    "\n",
    "def diff(*n):\n",
    "    min_val = min(n)\n",
    "    max_val = max(n)\n",
    "    return max_val - min_val\n",
    "\n",
    "\n",
    "print(diff(1,2,3,4,5))\n",
    "print(diff(-100, 200))\n",
    "diff(1) # 오류발생!"
   ]
  },
  {
   "cell_type": "code",
   "execution_count": null,
   "id": "cc3417d1-e83e-41aa-9223-a004db71931d",
   "metadata": {},
   "outputs": [],
   "source": []
  }
 ],
 "metadata": {
  "kernelspec": {
   "display_name": "Python 3 (ipykernel)",
   "language": "python",
   "name": "python3"
  },
  "language_info": {
   "codemirror_mode": {
    "name": "ipython",
    "version": 3
   },
   "file_extension": ".py",
   "mimetype": "text/x-python",
   "name": "python",
   "nbconvert_exporter": "python",
   "pygments_lexer": "ipython3",
   "version": "3.8.20"
  }
 },
 "nbformat": 4,
 "nbformat_minor": 5
}
