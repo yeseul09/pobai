{
 "cells": [
  {
   "cell_type": "markdown",
   "id": "f1ba8e3e-76da-4b98-8e27-a423f2744ea7",
   "metadata": {},
   "source": [
    "## 객체지향 프로그래밍\n",
    "* 프로그래밍 패러다임 중 하나\n",
    "* 객체: 모종의 변수와 메서드를 담는 추상적 개념 (int, string, list, function...)\n",
    "* 프로그램을 객체 간의 상호작용으로 서술\n",
    "* 파이썬 또한 객체지향 프로그래밍임\n",
    "\n",
    "------\n",
    "\n",
    "### Class\n",
    "* 데이터와 함수를 묶어서 객체로 만들어주는 개념으로, 객체의 기반이 되는 틀을 정의함\n",
    "* 클래스의 구성요소 (attribute)\n",
    "  - 변수  (=데이터)\n",
    "  - 메서드(=함수)\n",
    "* 클래스는 두 종류의 연산을 지원한다\n",
    "  - 연산자 \".\" 사용 ex) dog.name\n",
    "  - 인스턴스 만들기 연산자 \"()\" call사용 ex) dog1 = Dog()\n",
    "       - 인스턴스 객체는 한가지 연산만 가능하다.\n",
    "<pre><code>class Dog:\n",
    "        \"\"\" A Simple example class\"\"\"\n",
    "        name = 'Mongja'\n",
    "        def bark(self):\n",
    "            return 'wal wal'\n",
    "        def print_name_age(self):\n",
    "            print(self.name, self.age)\n",
    "</code></pre>\n",
    "\n",
    "* 인스턴스 객체\n",
    "  - 클래스로부터 상속받은 객체\n",
    "* 메서드 객체\n",
    "  - 클래스에 종속되어 있는 함수를 가리킴\n",
    "  - 첫번째 인자는 무조건 self로 되어야 함 (def bark(self) 처럼)\n",
    "* 특수 메서드\n",
    "  - 항상 __메서드 이름__과 같은 이름을 가진다\n",
    "  - 내장 함수와 동일학 미리 동작이 정의되어있음\n",
    "  - ex) __ init __(self) 가 대표적인 특수메서드로, 인스턴스가 가지게 될 여러 어트리뷰트를 정해줌\n",
    "  - 인스턴스를 생성할 때 자동으로 호출됨\n",
    "* self\n",
    "  - d1 = Dog(\"yomi\", 5)가 있을 때 d1.print_name_age() = Dog.print_name_age(d1)는 같은 동작을 한다.\n",
    "\n",
    "* 클래스와 인스턴스 데이터\n",
    "  - 클래스 데이터: 클래스의 모든 인스턴스가 공유하는 데이터, 메서드터\n",
    "      -> 클래스 변수가 mutable일 경우 수정가능, immutable일 경우에는 불가능함\n",
    "  - 인스턴스 데이터: 인스턴스가 가지는 데이터\n",
    "\n",
    "* 상속 : 기존 클래스의 속성을 물려 받아 새로운 클래스를 만드는 것\n",
    "  - 새 클래스는 기존 클래스의 모든 변수 및 메서드를 가짐\n",
    "  - 주로 기존 클래스를 확장하는 용도로 사용\n",
    "  - 다중 클래스도 상속 가능 ','로 구분함\n",
    "  - class A: 와 class B:가 있을 때 class C(A,B):라고 했을 때 상속된것임.\n",
    "* 메서드 오버라이딩(overriding)\n",
    "  - 기존 클래스 메서드를 상속 클래스에서 재정의하는 것\n",
    "  - 기존 클래스의 메서드를 사용하고 싶다면 super().함수명() 하면 됨됨\n",
    "* 연산자 오버로딩(overloading)\n",
    "  - python의 연산자는 모두 내장된 특수 메소드를 호출함\n",
    "  - 클래스 내에 기본 내장함수를 정의해준 뒤, 인스턴스에 연산자를 적어주면 해당 연산이 가능하다는뜻"
   ]
  },
  {
   "cell_type": "code",
   "execution_count": 1,
   "id": "f1863e3e-165e-4bc1-8459-267fa64ed132",
   "metadata": {},
   "outputs": [],
   "source": [
    "# 클래스 실습\n",
    "\n",
    "class hong:\n",
    "    def __init__(self, name, age, height, weight):\n",
    "        self.name = name\n",
    "        self.age = age\n",
    "        self.height = height\n",
    "        self.weight = weight\n",
    "        \n",
    "    def print_info(self):\n",
    "        print(\"이름:\", self.name)\n",
    "        print(\"나이:\", self.age)\n",
    "        print(\"키:\", self.height)\n",
    "        print(\"몸무게:\", self.weight)\n",
    "        \n",
    "    def plus_age(self):\n",
    "        self.age += 1\n",
    "        \n",
    "    def change_h(self, new_h):\n",
    "        self.height = new_h\n",
    "        \n",
    "    def change_w(self, new_w):\n",
    "        self.weight = new_w\n"
   ]
  },
  {
   "cell_type": "code",
   "execution_count": 2,
   "id": "82a3afc6-4192-4198-9cab-0e14aaff5996",
   "metadata": {},
   "outputs": [],
   "source": [
    "kim = hong('kim', 30, 30, 30)"
   ]
  },
  {
   "cell_type": "code",
   "execution_count": 4,
   "id": "37a00d3d-5864-4b85-be2a-0e963cb39328",
   "metadata": {},
   "outputs": [
    {
     "name": "stdout",
     "output_type": "stream",
     "text": [
      "이름: kim\n",
      "나이: 30\n",
      "키: 30\n",
      "몸무게: 30\n"
     ]
    }
   ],
   "source": [
    "kim.print_info()"
   ]
  },
  {
   "cell_type": "code",
   "execution_count": 7,
   "id": "0660ad16-9a62-4f0d-892b-3da4e1dc456c",
   "metadata": {},
   "outputs": [
    {
     "name": "stdout",
     "output_type": "stream",
     "text": [
      "이름: kim\n",
      "나이: 32\n",
      "키: 30\n",
      "몸무게: 30\n"
     ]
    }
   ],
   "source": [
    "kim.plus_age()\n",
    "kim.print_info()"
   ]
  },
  {
   "cell_type": "code",
   "execution_count": 1,
   "id": "f2580510-57b8-4142-af57-02cf41d828e8",
   "metadata": {},
   "outputs": [],
   "source": [
    "#클래스 인스턴스 실습 문제 1\n",
    "\n",
    "class BankAccount:\n",
    "    def __init__(self, balance = 0, name = \"None\"):\n",
    "        self.balance = balance\n",
    "        self.name = name\n",
    "        \n",
    "    def deposit(self, amount): #입금\n",
    "        self.balance += amount\n",
    "    \n",
    "    def withdraw(self, amount): #출금\n",
    "        if amount > self.balance:\n",
    "            print(\"잔액부족\")\n",
    "        else: \n",
    "            self.balance -= amount\n",
    "        \n",
    "    def get_info(self): #계좌정보 조회\n",
    "        print(\"이름:\", self.name)\n",
    "        print(\"잔고:\", self.balance)\n",
    "\n",
    "a = BankAccount(100, \"홍길동\")"
   ]
  },
  {
   "cell_type": "code",
   "execution_count": 4,
   "id": "620aaf40-477f-4459-9f2a-881e736c4a63",
   "metadata": {},
   "outputs": [
    {
     "name": "stdout",
     "output_type": "stream",
     "text": [
      "이름: 홍길동\n",
      "잔고: 100\n",
      "이름: 홍길동\n",
      "잔고: 300\n",
      "잔액부족\n",
      "이름: 홍길동\n",
      "잔고: 300\n",
      "이름: 홍길동\n",
      "잔고: 100\n"
     ]
    }
   ],
   "source": [
    "a.get_info()\n",
    "a.deposit(200)\n",
    "\n",
    "a.get_info()\n",
    "a.withdraw(400)\n",
    "\n",
    "a.get_info()\n",
    "a.withdraw(200)\n",
    "\n",
    "a.get_info()"
   ]
  },
  {
   "cell_type": "code",
   "execution_count": null,
   "id": "f09fa409-fead-4975-900e-8512e8dadc8b",
   "metadata": {},
   "outputs": [],
   "source": []
  }
 ],
 "metadata": {
  "kernelspec": {
   "display_name": "Python 3 (ipykernel)",
   "language": "python",
   "name": "python3"
  },
  "language_info": {
   "codemirror_mode": {
    "name": "ipython",
    "version": 3
   },
   "file_extension": ".py",
   "mimetype": "text/x-python",
   "name": "python",
   "nbconvert_exporter": "python",
   "pygments_lexer": "ipython3",
   "version": "3.10.16"
  }
 },
 "nbformat": 4,
 "nbformat_minor": 5
}
