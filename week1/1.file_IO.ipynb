{
 "cells": [
  {
   "cell_type": "markdown",
   "id": "4c4ba426-daea-405f-977e-7713400fe4e9",
   "metadata": {},
   "source": [
    "## file IO - 파일 입출력\n",
    "\n",
    "모드 = \"r\", \"w\", \"a\" #읽기, 쓰기, 편집\n",
    "\n",
    "1. 파일 읽기\n",
    "   1) readline() : 한줄 읽어오기\n",
    "   2) readlines(): 전체 읽어오기(리스트로 리턴)\n",
    "   3) f.read() : 파일을 전부읽은 문자열 반환\n",
    "   4) <pre><code>for line in f: \n",
    "        print(line, end='') #for문 사용 </code></pre>\n",
    "2. 파일에 내용 추가하기\n",
    "   <pre><code>f = open(\"new.txt\", \"a\")\n",
    "   for i in range(6, 10):\n",
    "       add_str = \"추가할 문장\"\n",
    "       f.write(add_str)\n",
    "   f.close()\n",
    "   </code></pre>\n",
    "3. 파일 열고 닫기\n",
    "   1. open() ~ close()\n",
    "   2. with open(파일명, 모드) as f : => with 를 벗어나면 자동으로 나가짐\n",
    "4. 파일 포인터\n",
    "   1. f.tell() 현재 파일 포인터의 위치 반환\n",
    "   2. f.seek() 지정하는 곳으로 포인트 변경"
   ]
  },
  {
   "cell_type": "code",
   "execution_count": 10,
   "id": "e1b15918-a6a1-4e8a-bf86-29144a3e0a5f",
   "metadata": {},
   "outputs": [
    {
     "name": "stdin",
     "output_type": "stream",
     "text": [
      "Enter a file name: score.txt\n"
     ]
    },
    {
     "name": "stdout",
     "output_type": "stream",
     "text": [
      "202401\t89 78 \n",
      "202402\t76 84\n",
      "202403\t67 42\n",
      "202404\t66 88\n",
      "202405\t98 99\n"
     ]
    }
   ],
   "source": [
    "#실습 1\n",
    "\n",
    "import os.path\n",
    "\n",
    "file_name = input(\"Enter a file name:\")\n",
    "if os.path.isfile(file_name):\n",
    "    f = open(file_name, \"r\")\n",
    "    for i in f:\n",
    "        print(i.upper(), end = \"\")\n",
    "    f.close\n",
    "else:\n",
    "    print(\"Not found\")"
   ]
  },
  {
   "cell_type": "code",
   "execution_count": 12,
   "id": "3e7c9db9-a9a6-4045-8ba9-92e0fe1dea4e",
   "metadata": {},
   "outputs": [
    {
     "name": "stdin",
     "output_type": "stream",
     "text": [
      "Enter a file name score.txt\n"
     ]
    },
    {
     "name": "stdout",
     "output_type": "stream",
     "text": [
      "202401\t89 78 \n",
      "202402\t76 84\n",
      "202403\t67 42\n",
      "202404\t66 88\n",
      "202405\t98 99\n"
     ]
    }
   ],
   "source": [
    "import os\n",
    "\n",
    "f_name = input(\"Enter a file name\")\n",
    "if not os.path.exists(f_name):\n",
    "    print(\"File does not exist\")\n",
    "else:\n",
    "    with open(f_name, 'r') as f:\n",
    "        for i in f:\n",
    "            print(i.upper(), end='')"
   ]
  },
  {
   "cell_type": "code",
   "execution_count": 3,
   "id": "763cdb5d-39d8-402e-b1a7-6572058fcf11",
   "metadata": {},
   "outputs": [
    {
     "name": "stdout",
     "output_type": "stream",
     "text": [
      "202401 83.5(B)\n",
      "202402 80.0(B)\n",
      "202403 54.5(F)\n",
      "202404 77.0(C)\n",
      "202405 98.5(A)\n"
     ]
    }
   ],
   "source": [
    "import os.path\n",
    "\n",
    "f = open(\"score.txt\", \"r\")\n",
    "f2 = open(\"report.txt\", \"w\")\n",
    "for i in f:\n",
    "    number, mid, final = map(int,i.split())\n",
    "    aver = (mid + final)/2\n",
    "    if aver >= 90:\n",
    "        grade = \"A\"\n",
    "    elif aver < 90 and aver >= 80:\n",
    "        grade = \"B\"\n",
    "    elif aver < 80 and aver >= 70:\n",
    "        grade = \"C\"\n",
    "    elif aver < 70 and aver >= 60 :\n",
    "        grade = \"D\"\n",
    "    else:\n",
    "        grade = \"F\"\n",
    "    f2.write(str(number) + \" \" + str(aver) + \"(\"+ str(grade)+\")\\n\")\n",
    "    print(f'{number} {aver}({grade})')\n",
    "f.close()\n",
    "f2.close()"
   ]
  },
  {
   "cell_type": "code",
   "execution_count": null,
   "id": "071a386b-3916-4669-b1fb-b606675b9836",
   "metadata": {},
   "outputs": [],
   "source": [
    "#TA 실습\n",
    "#score.txt 파일이 있다는 가정하에 진행\n",
    "\n",
    "score_file = \"score.txt\"\n",
    "report_file = \"report.txt\"\n",
    "\n",
    "with open(score_file, \"r\") as f_s, open(report_file, \"w\") as f_r:\n",
    "    for i in f_s:\n",
    "        s_id, mid, final = i.split()\n",
    "        mid = int(mid)\n",
    "        final = int(final)\n",
    "\n",
    "        avg = (mid + final)/2\n",
    "        grade = ''\n",
    "\n",
    "        if avg >= 90:\n",
    "            grade = 'A'\n",
    "        elif 80 <= avg < 90:\n",
    "            grade = 'B'\n",
    "        elif 70 <= avg < 80:\n",
    "            grade = 'C'\n",
    "        elif 60 <= avg < 70:\n",
    "            grade = 'D'\n",
    "        else:\n",
    "            grade = 'F'\n",
    "        f_r.write(s_id + ' ' + str(avg) + '(' + grade + ')\\n')"
   ]
  },
  {
   "cell_type": "code",
   "execution_count": 4,
   "id": "8434a682-13f4-4f4f-925a-c81bb7b15695",
   "metadata": {},
   "outputs": [
    {
     "name": "stdout",
     "output_type": "stream",
     "text": [
      "-f\n",
      "/home/piai/.local/share/jupyter/runtime/kernel-5bcef4d1-6b4b-443d-a014-a898a6aff59f.json\n"
     ]
    }
   ],
   "source": [
    "# sys 파이썬 터미널로 실행 시 입력인수 전달\n",
    "\n",
    "import sys\n",
    "\n",
    "args = sys.argv[1:]\n",
    "for a in args:\n",
    "    print(a)"
   ]
  }
 ],
 "metadata": {
  "kernelspec": {
   "display_name": "Python 3 (ipykernel)",
   "language": "python",
   "name": "python3"
  },
  "language_info": {
   "codemirror_mode": {
    "name": "ipython",
    "version": 3
   },
   "file_extension": ".py",
   "mimetype": "text/x-python",
   "name": "python",
   "nbconvert_exporter": "python",
   "pygments_lexer": "ipython3",
   "version": "3.10.16"
  }
 },
 "nbformat": 4,
 "nbformat_minor": 5
}
