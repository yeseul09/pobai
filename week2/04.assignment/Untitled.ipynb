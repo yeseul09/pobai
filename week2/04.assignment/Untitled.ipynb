{
 "cells": [
  {
   "cell_type": "code",
   "execution_count": 2,
   "id": "b80b0bf5-af26-4402-84ca-2ec67d9ace9a",
   "metadata": {},
   "outputs": [],
   "source": [
    "import pandas as pd\n",
    "import numpy as np\n",
    "import matplotlib\n",
    "import matplotlib.pyplot as plt\n",
    "from scipy import stats\n",
    "from statsmodels.stats.proportion import proportions_ztest\n",
    "from matplotlib import rc\n",
    "import seaborn as sns\n",
    "\n",
    "%matplotlib inline"
   ]
  },
  {
   "cell_type": "code",
   "execution_count": 3,
   "id": "5357d4af-f6e9-4478-9e89-8a6deed57cd9",
   "metadata": {},
   "outputs": [],
   "source": [
    "# 한글 폰트 깨지지 않게 하기\n",
    "rc('font', family='AppleGothic')\n",
    "plt.rcParams['axes.unicode_minus'] = False"
   ]
  },
  {
   "cell_type": "code",
   "execution_count": 28,
   "id": "c4a29f96-cb37-468a-a47f-5805e48f14bf",
   "metadata": {},
   "outputs": [
    {
     "data": {
      "text/plain": [
       "[[25, 31, 19, 18],\n",
       " [30, 30, 21, 25],\n",
       " [20, 34, 27, 16],\n",
       " [23, 30, 25, 19],\n",
       " [27, 28, 25, 20],\n",
       " [33, 31, 30, 20],\n",
       " [23, 30, 26, 25],\n",
       " [20, 31, 29, 22],\n",
       " [25, 32, 30, 23],\n",
       " [24, 30, 24, 17]]"
      ]
     },
     "execution_count": 28,
     "metadata": {},
     "output_type": "execute_result"
    }
   ],
   "source": [
    "df.values.tolist()"
   ]
  },
  {
   "cell_type": "code",
   "execution_count": 4,
   "id": "339c8c9d-b813-429e-916f-81e30e6f58f3",
   "metadata": {
    "scrolled": true
   },
   "outputs": [
    {
     "data": {
      "text/html": [
       "<div>\n",
       "<style scoped>\n",
       "    .dataframe tbody tr th:only-of-type {\n",
       "        vertical-align: middle;\n",
       "    }\n",
       "\n",
       "    .dataframe tbody tr th {\n",
       "        vertical-align: top;\n",
       "    }\n",
       "\n",
       "    .dataframe thead th {\n",
       "        text-align: right;\n",
       "    }\n",
       "</style>\n",
       "<table border=\"1\" class=\"dataframe\">\n",
       "  <thead>\n",
       "    <tr style=\"text-align: right;\">\n",
       "      <th></th>\n",
       "      <th>A 부서</th>\n",
       "      <th>B 부서</th>\n",
       "      <th>C 부서</th>\n",
       "      <th>D 부서</th>\n",
       "    </tr>\n",
       "  </thead>\n",
       "  <tbody>\n",
       "    <tr>\n",
       "      <th>0</th>\n",
       "      <td>25</td>\n",
       "      <td>31</td>\n",
       "      <td>19</td>\n",
       "      <td>18</td>\n",
       "    </tr>\n",
       "    <tr>\n",
       "      <th>1</th>\n",
       "      <td>30</td>\n",
       "      <td>30</td>\n",
       "      <td>21</td>\n",
       "      <td>25</td>\n",
       "    </tr>\n",
       "    <tr>\n",
       "      <th>2</th>\n",
       "      <td>20</td>\n",
       "      <td>34</td>\n",
       "      <td>27</td>\n",
       "      <td>16</td>\n",
       "    </tr>\n",
       "    <tr>\n",
       "      <th>3</th>\n",
       "      <td>23</td>\n",
       "      <td>30</td>\n",
       "      <td>25</td>\n",
       "      <td>19</td>\n",
       "    </tr>\n",
       "    <tr>\n",
       "      <th>4</th>\n",
       "      <td>27</td>\n",
       "      <td>28</td>\n",
       "      <td>25</td>\n",
       "      <td>20</td>\n",
       "    </tr>\n",
       "    <tr>\n",
       "      <th>5</th>\n",
       "      <td>33</td>\n",
       "      <td>31</td>\n",
       "      <td>30</td>\n",
       "      <td>20</td>\n",
       "    </tr>\n",
       "    <tr>\n",
       "      <th>6</th>\n",
       "      <td>23</td>\n",
       "      <td>30</td>\n",
       "      <td>26</td>\n",
       "      <td>25</td>\n",
       "    </tr>\n",
       "    <tr>\n",
       "      <th>7</th>\n",
       "      <td>20</td>\n",
       "      <td>31</td>\n",
       "      <td>29</td>\n",
       "      <td>22</td>\n",
       "    </tr>\n",
       "    <tr>\n",
       "      <th>8</th>\n",
       "      <td>25</td>\n",
       "      <td>32</td>\n",
       "      <td>30</td>\n",
       "      <td>23</td>\n",
       "    </tr>\n",
       "    <tr>\n",
       "      <th>9</th>\n",
       "      <td>24</td>\n",
       "      <td>30</td>\n",
       "      <td>24</td>\n",
       "      <td>17</td>\n",
       "    </tr>\n",
       "  </tbody>\n",
       "</table>\n",
       "</div>"
      ],
      "text/plain": [
       "   A 부서  B 부서  C 부서  D 부서\n",
       "0    25    31    19    18\n",
       "1    30    30    21    25\n",
       "2    20    34    27    16\n",
       "3    23    30    25    19\n",
       "4    27    28    25    20\n",
       "5    33    31    30    20\n",
       "6    23    30    26    25\n",
       "7    20    31    29    22\n",
       "8    25    32    30    23\n",
       "9    24    30    24    17"
      ]
     },
     "execution_count": 4,
     "metadata": {},
     "output_type": "execute_result"
    }
   ],
   "source": [
    "# 1 정규분포\n",
    "\n",
    "df = pd.read_csv(\"../250317_1차시험_주관식 데이터셋/전표처리시간.csv\", encoding =\"euc-kr\")\n",
    "df"
   ]
  },
  {
   "cell_type": "code",
   "execution_count": 14,
   "id": "f3289280-20c4-47c6-801e-8693522bbcf4",
   "metadata": {},
   "outputs": [
    {
     "data": {
      "text/plain": [
       "25.45"
      ]
     },
     "execution_count": 14,
     "metadata": {},
     "output_type": "execute_result"
    }
   ],
   "source": [
    "df.values.mean()"
   ]
  },
  {
   "cell_type": "code",
   "execution_count": 12,
   "id": "e0bfe110-0108-4a1d-8bda-d137863811d8",
   "metadata": {},
   "outputs": [
    {
     "data": {
      "text/plain": [
       "4.76418933292958"
      ]
     },
     "execution_count": 12,
     "metadata": {},
     "output_type": "execute_result"
    }
   ],
   "source": [
    "df.values.std()"
   ]
  },
  {
   "cell_type": "code",
   "execution_count": 17,
   "id": "1203eb37-3f7f-44e7-a7f9-396aaf28ef97",
   "metadata": {},
   "outputs": [
    {
     "data": {
      "text/plain": [
       "0.977588009386848"
      ]
     },
     "execution_count": 17,
     "metadata": {},
     "output_type": "execute_result"
    }
   ],
   "source": [
    "prob"
   ]
  },
  {
   "cell_type": "code",
   "execution_count": 16,
   "id": "10e30915-6bee-4d51-86a3-4cae20dbf522",
   "metadata": {},
   "outputs": [
    {
     "name": "stdout",
     "output_type": "stream",
     "text": [
      "25.45 km ~ 35 km 달릴 확률 2.2%에 해당\n"
     ]
    }
   ],
   "source": [
    "# 정규 분포 확률\n",
    "# 평균과 표준편차가 주어졌을 때\n",
    "\n",
    "# 누적확률 값 계산\n",
    "x = 35 # 구하고 싶은 값\n",
    "mu = 25.45 # 평균\n",
    "sigma = 4.76 # 표준편차\n",
    "\n",
    "# prob1: x 이하인 누적확률값 계산\n",
    "prob = stats.norm.cdf(x, mu, sigma) \n",
    "print(\"{0} km ~ {1} km 달릴 확률 {2:.1f}%에 해당\".format(mu, x, (1-prob)*100))"
   ]
  },
  {
   "cell_type": "code",
   "execution_count": 6,
   "id": "724b23d6-fbcc-4a5f-8c69-f6cc8e57b6a2",
   "metadata": {},
   "outputs": [
    {
     "data": {
      "text/plain": [
       "BartlettResult(statistic=7.3301563282194895, pvalue=0.06208686947112758)"
      ]
     },
     "execution_count": 6,
     "metadata": {},
     "output_type": "execute_result"
    }
   ],
   "source": [
    "# 'A‘. ’B’, ’C’ 등분산성 검정: bartlett Test\n",
    "stats.bartlett(df['A 부서'], df['B 부서'], df['C 부서'], df['D 부서'])"
   ]
  },
  {
   "cell_type": "code",
   "execution_count": 10,
   "id": "7eb42678-bddf-497a-a3b9-aeefc44460de",
   "metadata": {},
   "outputs": [
    {
     "name": "stdout",
     "output_type": "stream",
     "text": [
      "Shapiro-Wilk Test p-value: 0.5804854550006355\n"
     ]
    }
   ],
   "source": [
    "stat, p_value = stats.shapiro(df['D 부서']) \n",
    "print(f\"Shapiro-Wilk Test p-value: {p_value}\")"
   ]
  },
  {
   "cell_type": "code",
   "execution_count": 11,
   "id": "33c5df28-293e-4423-a065-48fda8b32b48",
   "metadata": {},
   "outputs": [
    {
     "data": {
      "text/plain": [
       "array([[25, 31, 19, 18],\n",
       "       [30, 30, 21, 25],\n",
       "       [20, 34, 27, 16],\n",
       "       [23, 30, 25, 19],\n",
       "       [27, 28, 25, 20],\n",
       "       [33, 31, 30, 20],\n",
       "       [23, 30, 26, 25],\n",
       "       [20, 31, 29, 22],\n",
       "       [25, 32, 30, 23],\n",
       "       [24, 30, 24, 17]])"
      ]
     },
     "execution_count": 11,
     "metadata": {},
     "output_type": "execute_result"
    }
   ],
   "source": []
  },
  {
   "cell_type": "code",
   "execution_count": 7,
   "id": "dcb11754-5987-4c71-9321-250a2eb95f36",
   "metadata": {},
   "outputs": [
    {
     "name": "stdout",
     "output_type": "stream",
     "text": [
      "Shapiro-Wilk Test p-value: 0.13297466917804135\n"
     ]
    },
    {
     "data": {
      "text/plain": [
       "<Axes: ylabel='Count'>"
      ]
     },
     "execution_count": 7,
     "metadata": {},
     "output_type": "execute_result"
    },
    {
     "name": "stderr",
     "output_type": "stream",
     "text": [
      "/Users/yeseul/miniconda3/envs/py310/lib/python3.10/site-packages/IPython/core/events.py:82: UserWarning: Glyph 48512 (\\N{HANGUL SYLLABLE BU}) missing from current font.\n",
      "  func(*args, **kwargs)\n",
      "/Users/yeseul/miniconda3/envs/py310/lib/python3.10/site-packages/IPython/core/events.py:82: UserWarning: Glyph 49436 (\\N{HANGUL SYLLABLE SEO}) missing from current font.\n",
      "  func(*args, **kwargs)\n",
      "/Users/yeseul/miniconda3/envs/py310/lib/python3.10/site-packages/IPython/core/pylabtools.py:170: UserWarning: Glyph 48512 (\\N{HANGUL SYLLABLE BU}) missing from current font.\n",
      "  fig.canvas.print_figure(bytes_io, **kw)\n",
      "/Users/yeseul/miniconda3/envs/py310/lib/python3.10/site-packages/IPython/core/pylabtools.py:170: UserWarning: Glyph 49436 (\\N{HANGUL SYLLABLE SEO}) missing from current font.\n",
      "  fig.canvas.print_figure(bytes_io, **kw)\n"
     ]
    },
    {
     "data": {
      "image/png": "[encoded data removed]",
      "text/plain": [
       "<Figure size 640x480 with 1 Axes>"
      ]
     },
     "metadata": {},
     "output_type": "display_data"
    }
   ],
   "source": [
    "# 정규성 검정 (Shapiro-Wilk Test)\n",
    "stat, p_value = stats.shapiro(df) \n",
    "print(f\"Shapiro-Wilk Test p-value: {p_value}\")\n",
    "# p-value > 0.05 여야 정규분포를 따른다. 귀무가설 채택\n",
    "\n",
    "# 히스토그램 그리기\n",
    "sns.histplot(df, kde = True)"
   ]
  },
  {
   "cell_type": "code",
   "execution_count": 9,
   "id": "68317977-1889-47e3-b251-cd04d8350c2d",
   "metadata": {},
   "outputs": [
    {
     "name": "stdout",
     "output_type": "stream",
     "text": [
      "P(X=0) = 0.774\n",
      "P(X=1) = 0.204\n",
      "P(X=2) = 0.021\n",
      "P(X=3) = 0.001\n",
      "P(X=4) = 0.000\n",
      "P(X=5) = 0.000\n"
     ]
    }
   ],
   "source": [
    "# 이항분포\n",
    "\n",
    "# 이항분포에서 확률 계산하기 : pmf(k,n,p) \n",
    "n = 5      # n : 3대의 차량 수\n",
    "p = 0.05   # 공정 불량\n",
    "\n",
    "for i in range(n+1) :\n",
    "   # 이항분포 Probability Mass Function\n",
    "    prob = stats.binom.pmf(k=i, n=n, p=p)  \n",
    "    print(\"P(X={0}) = {1:.3f}\".format(i, prob))"
   ]
  },
  {
   "cell_type": "code",
   "execution_count": 10,
   "id": "18f65a00-bd80-4341-a5fc-2874e33b0d28",
   "metadata": {},
   "outputs": [
    {
     "name": "stdout",
     "output_type": "stream",
     "text": [
      "chi-square test \n",
      " chisq: 28.851\n",
      " p: 0.000\n",
      " degree pf freedom: 2\n",
      " expected value: \n",
      "[[223.05  198.204 176.746]\n",
      " [171.95  152.796 136.254]]\n"
     ]
    }
   ],
   "source": [
    "# 카이제곱 검정\n",
    "\n",
    "# df 생성  \n",
    "df = df = pd.DataFrame({'Work_1': [182, 213], \n",
    "                   'Work_2': [213, 138], \n",
    "                   'Work_3': [203, 110]})\n",
    "# chi-square test 실행\n",
    "chi, pval, dof, expected = stats.chi2_contingency(df)\n",
    "\n",
    "# chi-square test 결과 출력\n",
    "print( \"chi-square test \")\n",
    "print( ' chisq: {0:0.3f}' .format(chi))\n",
    "print( ' p: {0:0.3f}'.format(pval))\n",
    "print( ' degree pf freedom: {}' .format(dof))\n",
    "print( ' expected value: \\n{}' .format(expected.round(3)))"
   ]
  },
  {
   "cell_type": "code",
   "execution_count": 16,
   "id": "cebebb50-3a63-4ba7-93c5-9374c136a0c8",
   "metadata": {},
   "outputs": [
    {
     "data": {
      "text/html": [
       "<div>\n",
       "<style scoped>\n",
       "    .dataframe tbody tr th:only-of-type {\n",
       "        vertical-align: middle;\n",
       "    }\n",
       "\n",
       "    .dataframe tbody tr th {\n",
       "        vertical-align: top;\n",
       "    }\n",
       "\n",
       "    .dataframe thead th {\n",
       "        text-align: right;\n",
       "    }\n",
       "</style>\n",
       "<table border=\"1\" class=\"dataframe\">\n",
       "  <thead>\n",
       "    <tr style=\"text-align: right;\">\n",
       "      <th></th>\n",
       "      <th>개선전</th>\n",
       "      <th>개선후</th>\n",
       "    </tr>\n",
       "  </thead>\n",
       "  <tbody>\n",
       "    <tr>\n",
       "      <th>0</th>\n",
       "      <td>68.7</td>\n",
       "      <td>73.4</td>\n",
       "    </tr>\n",
       "    <tr>\n",
       "      <th>1</th>\n",
       "      <td>71.4</td>\n",
       "      <td>77.0</td>\n",
       "    </tr>\n",
       "    <tr>\n",
       "      <th>2</th>\n",
       "      <td>69.8</td>\n",
       "      <td>73.7</td>\n",
       "    </tr>\n",
       "    <tr>\n",
       "      <th>3</th>\n",
       "      <td>75.3</td>\n",
       "      <td>73.3</td>\n",
       "    </tr>\n",
       "    <tr>\n",
       "      <th>4</th>\n",
       "      <td>71.3</td>\n",
       "      <td>73.1</td>\n",
       "    </tr>\n",
       "    <tr>\n",
       "      <th>5</th>\n",
       "      <td>72.7</td>\n",
       "      <td>74.5</td>\n",
       "    </tr>\n",
       "    <tr>\n",
       "      <th>6</th>\n",
       "      <td>66.9</td>\n",
       "      <td>77.5</td>\n",
       "    </tr>\n",
       "    <tr>\n",
       "      <th>7</th>\n",
       "      <td>70.2</td>\n",
       "      <td>76.4</td>\n",
       "    </tr>\n",
       "    <tr>\n",
       "      <th>8</th>\n",
       "      <td>74.4</td>\n",
       "      <td>75.7</td>\n",
       "    </tr>\n",
       "    <tr>\n",
       "      <th>9</th>\n",
       "      <td>70.1</td>\n",
       "      <td>77.1</td>\n",
       "    </tr>\n",
       "  </tbody>\n",
       "</table>\n",
       "</div>"
      ],
      "text/plain": [
       "    개선전   개선후\n",
       "0  68.7  73.4\n",
       "1  71.4  77.0\n",
       "2  69.8  73.7\n",
       "3  75.3  73.3\n",
       "4  71.3  73.1\n",
       "5  72.7  74.5\n",
       "6  66.9  77.5\n",
       "7  70.2  76.4\n",
       "8  74.4  75.7\n",
       "9  70.1  77.1"
      ]
     },
     "execution_count": 16,
     "metadata": {},
     "output_type": "execute_result"
    }
   ],
   "source": [
    "# paired t test\n",
    "\n",
    "# df1, df2를 직접 입력 \n",
    "df = pd.read_csv(\"../250317_1차시험_주관식 데이터셋/강판강도.csv\", encoding = \"euc-kr\")\n",
    "df"
   ]
  },
  {
   "cell_type": "code",
   "execution_count": 18,
   "id": "79d7b925-fa79-4ce4-b822-35a330187a2b",
   "metadata": {},
   "outputs": [
    {
     "name": "stdout",
     "output_type": "stream",
     "text": [
      "Paired t-test \n",
      " t: -3.644 \n",
      " p: 0.005 \n"
     ]
    }
   ],
   "source": [
    "# Paired t-test\n",
    "t_result = stats.ttest_rel(df['개선전'], df[''])\n",
    "\n",
    "# Paired t-test의 t값 p값 저장\n",
    "t, p = t_result.statistic.round(3), t_result.pvalue.round(3)\n",
    "\n",
    "# Paired t-test의 t값 p값 출력\n",
    "print( \"Paired t-test \")\n",
    "print( \" t: {} \" .format(t))\n",
    "print( \" p: {} \" .format(p))"
   ]
  },
  {
   "cell_type": "code",
   "execution_count": 19,
   "id": "0d8123f4-7810-4b00-9308-697a7dc8bb6b",
   "metadata": {},
   "outputs": [
    {
     "name": "stdout",
     "output_type": "stream",
     "text": [
      "Shapiro-Wilk Test p-value: 0.916978399513421\n"
     ]
    }
   ],
   "source": [
    "stat, p_value = stats.shapiro(df['개선전']) \n",
    "print(f\"Shapiro-Wilk Test p-value: {p_value}\")"
   ]
  },
  {
   "cell_type": "code",
   "execution_count": 21,
   "id": "2a13e37d-5058-4c75-ae4f-3d5e62988c4d",
   "metadata": {},
   "outputs": [
    {
     "name": "stdout",
     "output_type": "stream",
     "text": [
      "Shapiro-Wilk Test p-value: 0.10576471133379112\n"
     ]
    }
   ],
   "source": [
    "stat, p_value = stats.shapiro(df['개선후']) \n",
    "print(f\"Shapiro-Wilk Test p-value: {p_value}\")"
   ]
  },
  {
   "cell_type": "code",
   "execution_count": 23,
   "id": "889f8cc5-7172-4911-aa97-5d526f44c2b8",
   "metadata": {},
   "outputs": [
    {
     "data": {
      "text/html": [
       "<div>\n",
       "<style scoped>\n",
       "    .dataframe tbody tr th:only-of-type {\n",
       "        vertical-align: middle;\n",
       "    }\n",
       "\n",
       "    .dataframe tbody tr th {\n",
       "        vertical-align: top;\n",
       "    }\n",
       "\n",
       "    .dataframe thead th {\n",
       "        text-align: right;\n",
       "    }\n",
       "</style>\n",
       "<table border=\"1\" class=\"dataframe\">\n",
       "  <thead>\n",
       "    <tr style=\"text-align: right;\">\n",
       "      <th></th>\n",
       "      <th>Pulse</th>\n",
       "      <th>Smokes</th>\n",
       "      <th>Sex</th>\n",
       "      <th>Height</th>\n",
       "      <th>Weight</th>\n",
       "    </tr>\n",
       "  </thead>\n",
       "  <tbody>\n",
       "    <tr>\n",
       "      <th>0</th>\n",
       "      <td>64</td>\n",
       "      <td>2</td>\n",
       "      <td>1</td>\n",
       "      <td>165.0</td>\n",
       "      <td>63.0</td>\n",
       "    </tr>\n",
       "    <tr>\n",
       "      <th>1</th>\n",
       "      <td>58</td>\n",
       "      <td>2</td>\n",
       "      <td>1</td>\n",
       "      <td>180.0</td>\n",
       "      <td>65.3</td>\n",
       "    </tr>\n",
       "    <tr>\n",
       "      <th>2</th>\n",
       "      <td>62</td>\n",
       "      <td>1</td>\n",
       "      <td>1</td>\n",
       "      <td>183.8</td>\n",
       "      <td>72.0</td>\n",
       "    </tr>\n",
       "    <tr>\n",
       "      <th>3</th>\n",
       "      <td>66</td>\n",
       "      <td>1</td>\n",
       "      <td>1</td>\n",
       "      <td>182.5</td>\n",
       "      <td>85.5</td>\n",
       "    </tr>\n",
       "    <tr>\n",
       "      <th>4</th>\n",
       "      <td>64</td>\n",
       "      <td>2</td>\n",
       "      <td>1</td>\n",
       "      <td>172.5</td>\n",
       "      <td>69.8</td>\n",
       "    </tr>\n",
       "    <tr>\n",
       "      <th>...</th>\n",
       "      <td>...</td>\n",
       "      <td>...</td>\n",
       "      <td>...</td>\n",
       "      <td>...</td>\n",
       "      <td>...</td>\n",
       "    </tr>\n",
       "    <tr>\n",
       "      <th>87</th>\n",
       "      <td>90</td>\n",
       "      <td>1</td>\n",
       "      <td>2</td>\n",
       "      <td>160.0</td>\n",
       "      <td>56.3</td>\n",
       "    </tr>\n",
       "    <tr>\n",
       "      <th>88</th>\n",
       "      <td>78</td>\n",
       "      <td>2</td>\n",
       "      <td>2</td>\n",
       "      <td>170.0</td>\n",
       "      <td>59.9</td>\n",
       "    </tr>\n",
       "    <tr>\n",
       "      <th>89</th>\n",
       "      <td>68</td>\n",
       "      <td>2</td>\n",
       "      <td>2</td>\n",
       "      <td>155.0</td>\n",
       "      <td>49.5</td>\n",
       "    </tr>\n",
       "    <tr>\n",
       "      <th>90</th>\n",
       "      <td>86</td>\n",
       "      <td>2</td>\n",
       "      <td>2</td>\n",
       "      <td>167.5</td>\n",
       "      <td>67.5</td>\n",
       "    </tr>\n",
       "    <tr>\n",
       "      <th>91</th>\n",
       "      <td>76</td>\n",
       "      <td>2</td>\n",
       "      <td>2</td>\n",
       "      <td>154.4</td>\n",
       "      <td>48.6</td>\n",
       "    </tr>\n",
       "  </tbody>\n",
       "</table>\n",
       "<p>92 rows × 5 columns</p>\n",
       "</div>"
      ],
      "text/plain": [
       "    Pulse  Smokes  Sex  Height  Weight\n",
       "0      64       2    1   165.0    63.0\n",
       "1      58       2    1   180.0    65.3\n",
       "2      62       1    1   183.8    72.0\n",
       "3      66       1    1   182.5    85.5\n",
       "4      64       2    1   172.5    69.8\n",
       "..    ...     ...  ...     ...     ...\n",
       "87     90       1    2   160.0    56.3\n",
       "88     78       2    2   170.0    59.9\n",
       "89     68       2    2   155.0    49.5\n",
       "90     86       2    2   167.5    67.5\n",
       "91     76       2    2   154.4    48.6\n",
       "\n",
       "[92 rows x 5 columns]"
      ]
     },
     "execution_count": 23,
     "metadata": {},
     "output_type": "execute_result"
    }
   ],
   "source": [
    "df = pd.read_csv(\"../250317_1차시험_주관식 데이터셋/pulse.csv\")\n",
    "df"
   ]
  },
  {
   "cell_type": "code",
   "execution_count": 24,
   "id": "f4a3acf2-368c-4d13-a113-ae25dc73f768",
   "metadata": {},
   "outputs": [],
   "source": [
    "corr, pval = stats.pearsonr(df['Pulse'], df['Height'])"
   ]
  },
  {
   "cell_type": "code",
   "execution_count": 25,
   "id": "e8a8d072-5c1a-4ea5-b200-02c2d1578202",
   "metadata": {},
   "outputs": [
    {
     "name": "stdout",
     "output_type": "stream",
     "text": [
      "Correlation Analysis \n",
      " corr: -0.212\n",
      " p-value : 0.043\n"
     ]
    }
   ],
   "source": [
    "\n",
    "# Correlation, p-value 결과 출력 \n",
    "print( \"Correlation Analysis \")\n",
    "print( ' corr: {0:0.3f}' .format(corr))\n",
    "print( ' p-value : {0:0.3f}'.format(pval))"
   ]
  },
  {
   "cell_type": "code",
   "execution_count": null,
   "id": "fe7a2ac3-11bb-4a41-95c2-bdd045676e6b",
   "metadata": {},
   "outputs": [],
   "source": []
  }
 ],
 "metadata": {
  "kernelspec": {
   "display_name": "Python 3 (ipykernel)",
   "language": "python",
   "name": "python3"
  },
  "language_info": {
   "codemirror_mode": {
    "name": "ipython",
    "version": 3
   },
   "file_extension": ".py",
   "mimetype": "text/x-python",
   "name": "python",
   "nbconvert_exporter": "python",
   "pygments_lexer": "ipython3",
   "version": "3.10.16"
  }
 },
 "nbformat": 4,
 "nbformat_minor": 5
}
