{
 "cells": [
  {
   "cell_type": "code",
   "execution_count": 1,
   "id": "51c9d6d3-c4cb-4913-814f-adc28a13911d",
   "metadata": {},
   "outputs": [],
   "source": [
    "import pandas as pd\n",
    "import numpy as np\n",
    "import matplotlib.pyplot as plt\n",
    "import seaborn as sns\n",
    "\n",
    "%matplotlib inline"
   ]
  },
  {
   "cell_type": "code",
   "execution_count": 2,
   "id": "c60baea1-aa66-4e5e-90af-4d09d03857af",
   "metadata": {},
   "outputs": [],
   "source": [
    "import warnings\n",
    "warnings.filterwarnings('ignore')"
   ]
  },
  {
   "cell_type": "markdown",
   "id": "6739c6f6-2a3d-485d-803b-42c0e595c74c",
   "metadata": {},
   "source": [
    "### Titanic 실습"
   ]
  },
  {
   "cell_type": "markdown",
   "id": "a27a4e14-d3c7-4af7-b3a3-50b5ebf6f8fb",
   "metadata": {},
   "source": [
    "##### 0. 데이터 불러오기\n",
    "\n",
    "- Titanic 데이터는 총 891개의 행, 12개의 features로 구성된 데이터셋으로\n",
    "  타이타닉호에 탑승한 승객의 데이터와 생존여부를 함께 기입한 데이터이다."
   ]
  },
  {
   "cell_type": "code",
   "execution_count": 3,
   "id": "f838ad94-ca73-4580-97f0-c5f66d301354",
   "metadata": {},
   "outputs": [
    {
     "data": {
      "text/html": [
       "<div>\n",
       "<style scoped>\n",
       "    .dataframe tbody tr th:only-of-type {\n",
       "        vertical-align: middle;\n",
       "    }\n",
       "\n",
       "    .dataframe tbody tr th {\n",
       "        vertical-align: top;\n",
       "    }\n",
       "\n",
       "    .dataframe thead th {\n",
       "        text-align: right;\n",
       "    }\n",
       "</style>\n",
       "<table border=\"1\" class=\"dataframe\">\n",
       "  <thead>\n",
       "    <tr style=\"text-align: right;\">\n",
       "      <th></th>\n",
       "      <th>PassengerId</th>\n",
       "      <th>Survived</th>\n",
       "      <th>Pclass</th>\n",
       "      <th>Name</th>\n",
       "      <th>Sex</th>\n",
       "      <th>Age</th>\n",
       "      <th>SibSp</th>\n",
       "      <th>Parch</th>\n",
       "      <th>Ticket</th>\n",
       "      <th>Fare</th>\n",
       "      <th>Cabin</th>\n",
       "      <th>Embarked</th>\n",
       "    </tr>\n",
       "  </thead>\n",
       "  <tbody>\n",
       "    <tr>\n",
       "      <th>0</th>\n",
       "      <td>1</td>\n",
       "      <td>0</td>\n",
       "      <td>3</td>\n",
       "      <td>Braund, Mr. Owen Harris</td>\n",
       "      <td>male</td>\n",
       "      <td>22.0</td>\n",
       "      <td>1</td>\n",
       "      <td>0</td>\n",
       "      <td>A/5 21171</td>\n",
       "      <td>7.2500</td>\n",
       "      <td>NaN</td>\n",
       "      <td>S</td>\n",
       "    </tr>\n",
       "    <tr>\n",
       "      <th>1</th>\n",
       "      <td>2</td>\n",
       "      <td>1</td>\n",
       "      <td>1</td>\n",
       "      <td>Cumings, Mrs. John Bradley (Florence Briggs Th...</td>\n",
       "      <td>female</td>\n",
       "      <td>38.0</td>\n",
       "      <td>1</td>\n",
       "      <td>0</td>\n",
       "      <td>PC 17599</td>\n",
       "      <td>71.2833</td>\n",
       "      <td>C85</td>\n",
       "      <td>C</td>\n",
       "    </tr>\n",
       "    <tr>\n",
       "      <th>2</th>\n",
       "      <td>3</td>\n",
       "      <td>1</td>\n",
       "      <td>3</td>\n",
       "      <td>Heikkinen, Miss. Laina</td>\n",
       "      <td>female</td>\n",
       "      <td>26.0</td>\n",
       "      <td>0</td>\n",
       "      <td>0</td>\n",
       "      <td>STON/O2. 3101282</td>\n",
       "      <td>7.9250</td>\n",
       "      <td>NaN</td>\n",
       "      <td>S</td>\n",
       "    </tr>\n",
       "    <tr>\n",
       "      <th>3</th>\n",
       "      <td>4</td>\n",
       "      <td>1</td>\n",
       "      <td>1</td>\n",
       "      <td>Futrelle, Mrs. Jacques Heath (Lily May Peel)</td>\n",
       "      <td>female</td>\n",
       "      <td>35.0</td>\n",
       "      <td>1</td>\n",
       "      <td>0</td>\n",
       "      <td>113803</td>\n",
       "      <td>53.1000</td>\n",
       "      <td>C123</td>\n",
       "      <td>S</td>\n",
       "    </tr>\n",
       "    <tr>\n",
       "      <th>4</th>\n",
       "      <td>5</td>\n",
       "      <td>0</td>\n",
       "      <td>3</td>\n",
       "      <td>Allen, Mr. William Henry</td>\n",
       "      <td>male</td>\n",
       "      <td>35.0</td>\n",
       "      <td>0</td>\n",
       "      <td>0</td>\n",
       "      <td>373450</td>\n",
       "      <td>8.0500</td>\n",
       "      <td>NaN</td>\n",
       "      <td>S</td>\n",
       "    </tr>\n",
       "    <tr>\n",
       "      <th>...</th>\n",
       "      <td>...</td>\n",
       "      <td>...</td>\n",
       "      <td>...</td>\n",
       "      <td>...</td>\n",
       "      <td>...</td>\n",
       "      <td>...</td>\n",
       "      <td>...</td>\n",
       "      <td>...</td>\n",
       "      <td>...</td>\n",
       "      <td>...</td>\n",
       "      <td>...</td>\n",
       "      <td>...</td>\n",
       "    </tr>\n",
       "    <tr>\n",
       "      <th>886</th>\n",
       "      <td>887</td>\n",
       "      <td>0</td>\n",
       "      <td>2</td>\n",
       "      <td>Montvila, Rev. Juozas</td>\n",
       "      <td>male</td>\n",
       "      <td>27.0</td>\n",
       "      <td>0</td>\n",
       "      <td>0</td>\n",
       "      <td>211536</td>\n",
       "      <td>13.0000</td>\n",
       "      <td>NaN</td>\n",
       "      <td>S</td>\n",
       "    </tr>\n",
       "    <tr>\n",
       "      <th>887</th>\n",
       "      <td>888</td>\n",
       "      <td>1</td>\n",
       "      <td>1</td>\n",
       "      <td>Graham, Miss. Margaret Edith</td>\n",
       "      <td>female</td>\n",
       "      <td>19.0</td>\n",
       "      <td>0</td>\n",
       "      <td>0</td>\n",
       "      <td>112053</td>\n",
       "      <td>30.0000</td>\n",
       "      <td>B42</td>\n",
       "      <td>S</td>\n",
       "    </tr>\n",
       "    <tr>\n",
       "      <th>888</th>\n",
       "      <td>889</td>\n",
       "      <td>0</td>\n",
       "      <td>3</td>\n",
       "      <td>Johnston, Miss. Catherine Helen \"Carrie\"</td>\n",
       "      <td>female</td>\n",
       "      <td>30.0</td>\n",
       "      <td>1</td>\n",
       "      <td>2</td>\n",
       "      <td>W./C. 6607</td>\n",
       "      <td>23.4500</td>\n",
       "      <td>NaN</td>\n",
       "      <td>S</td>\n",
       "    </tr>\n",
       "    <tr>\n",
       "      <th>889</th>\n",
       "      <td>890</td>\n",
       "      <td>1</td>\n",
       "      <td>1</td>\n",
       "      <td>Behr, Mr. Karl Howell</td>\n",
       "      <td>male</td>\n",
       "      <td>26.0</td>\n",
       "      <td>0</td>\n",
       "      <td>0</td>\n",
       "      <td>111369</td>\n",
       "      <td>30.0000</td>\n",
       "      <td>C148</td>\n",
       "      <td>C</td>\n",
       "    </tr>\n",
       "    <tr>\n",
       "      <th>890</th>\n",
       "      <td>891</td>\n",
       "      <td>0</td>\n",
       "      <td>3</td>\n",
       "      <td>Dooley, Mr. Patrick</td>\n",
       "      <td>male</td>\n",
       "      <td>32.0</td>\n",
       "      <td>0</td>\n",
       "      <td>0</td>\n",
       "      <td>370376</td>\n",
       "      <td>7.7500</td>\n",
       "      <td>NaN</td>\n",
       "      <td>Q</td>\n",
       "    </tr>\n",
       "  </tbody>\n",
       "</table>\n",
       "<p>891 rows × 12 columns</p>\n",
       "</div>"
      ],
      "text/plain": [
       "     PassengerId  Survived  Pclass  \\\n",
       "0              1         0       3   \n",
       "1              2         1       1   \n",
       "2              3         1       3   \n",
       "3              4         1       1   \n",
       "4              5         0       3   \n",
       "..           ...       ...     ...   \n",
       "886          887         0       2   \n",
       "887          888         1       1   \n",
       "888          889         0       3   \n",
       "889          890         1       1   \n",
       "890          891         0       3   \n",
       "\n",
       "                                                  Name     Sex   Age  SibSp  \\\n",
       "0                              Braund, Mr. Owen Harris    male  22.0      1   \n",
       "1    Cumings, Mrs. John Bradley (Florence Briggs Th...  female  38.0      1   \n",
       "2                               Heikkinen, Miss. Laina  female  26.0      0   \n",
       "3         Futrelle, Mrs. Jacques Heath (Lily May Peel)  female  35.0      1   \n",
       "4                             Allen, Mr. William Henry    male  35.0      0   \n",
       "..                                                 ...     ...   ...    ...   \n",
       "886                              Montvila, Rev. Juozas    male  27.0      0   \n",
       "887                       Graham, Miss. Margaret Edith  female  19.0      0   \n",
       "888           Johnston, Miss. Catherine Helen \"Carrie\"  female  30.0      1   \n",
       "889                              Behr, Mr. Karl Howell    male  26.0      0   \n",
       "890                                Dooley, Mr. Patrick    male  32.0      0   \n",
       "\n",
       "     Parch            Ticket     Fare Cabin Embarked  \n",
       "0        0         A/5 21171   7.2500   NaN        S  \n",
       "1        0          PC 17599  71.2833   C85        C  \n",
       "2        0  STON/O2. 3101282   7.9250   NaN        S  \n",
       "3        0            113803  53.1000  C123        S  \n",
       "4        0            373450   8.0500   NaN        S  \n",
       "..     ...               ...      ...   ...      ...  \n",
       "886      0            211536  13.0000   NaN        S  \n",
       "887      0            112053  30.0000   B42        S  \n",
       "888      2        W./C. 6607  23.4500   NaN        S  \n",
       "889      0            111369  30.0000  C148        C  \n",
       "890      0            370376   7.7500   NaN        Q  \n",
       "\n",
       "[891 rows x 12 columns]"
      ]
     },
     "execution_count": 3,
     "metadata": {},
     "output_type": "execute_result"
    }
   ],
   "source": [
    "df_titanic = pd.read_csv(\"../01.files/01.Bigdata_basic/titanic.csv\")\n",
    "df_titanic"
   ]
  },
  {
   "cell_type": "code",
   "execution_count": 4,
   "id": "036d3303-fef0-46ed-a2f6-c2613b862e6e",
   "metadata": {},
   "outputs": [
    {
     "data": {
      "text/plain": [
       "'\\n총 12개의 features중 숫자로 구성된 feature는 7개이며, 나머지 5개의 feature는 Object 타입으로 구성되어있다.\\n\\n'"
      ]
     },
     "execution_count": 4,
     "metadata": {},
     "output_type": "execute_result"
    }
   ],
   "source": [
    "# 1. 데이터 속성 및 기술 통계랑 확인하기\n",
    "'''\n",
    "총 12개의 features중 숫자로 구성된 feature는 7개이며, 나머지 5개의 feature는 Object 타입으로 구성되어있다.\n",
    "\n",
    "'''"
   ]
  },
  {
   "cell_type": "code",
   "execution_count": 5,
   "id": "0f9cfab8-1c20-4080-96ab-c91248d4482d",
   "metadata": {},
   "outputs": [
    {
     "data": {
      "text/html": [
       "<div>\n",
       "<style scoped>\n",
       "    .dataframe tbody tr th:only-of-type {\n",
       "        vertical-align: middle;\n",
       "    }\n",
       "\n",
       "    .dataframe tbody tr th {\n",
       "        vertical-align: top;\n",
       "    }\n",
       "\n",
       "    .dataframe thead th {\n",
       "        text-align: right;\n",
       "    }\n",
       "</style>\n",
       "<table border=\"1\" class=\"dataframe\">\n",
       "  <thead>\n",
       "    <tr style=\"text-align: right;\">\n",
       "      <th></th>\n",
       "      <th>PassengerId</th>\n",
       "      <th>Survived</th>\n",
       "      <th>Pclass</th>\n",
       "      <th>Age</th>\n",
       "      <th>SibSp</th>\n",
       "      <th>Parch</th>\n",
       "      <th>Fare</th>\n",
       "    </tr>\n",
       "  </thead>\n",
       "  <tbody>\n",
       "    <tr>\n",
       "      <th>count</th>\n",
       "      <td>891.00</td>\n",
       "      <td>891.00</td>\n",
       "      <td>891.00</td>\n",
       "      <td>891.00</td>\n",
       "      <td>891.00</td>\n",
       "      <td>891.00</td>\n",
       "      <td>891.00</td>\n",
       "    </tr>\n",
       "    <tr>\n",
       "      <th>mean</th>\n",
       "      <td>446.00</td>\n",
       "      <td>0.38</td>\n",
       "      <td>2.31</td>\n",
       "      <td>29.76</td>\n",
       "      <td>0.52</td>\n",
       "      <td>0.38</td>\n",
       "      <td>32.20</td>\n",
       "    </tr>\n",
       "    <tr>\n",
       "      <th>std</th>\n",
       "      <td>257.35</td>\n",
       "      <td>0.49</td>\n",
       "      <td>0.84</td>\n",
       "      <td>13.00</td>\n",
       "      <td>1.10</td>\n",
       "      <td>0.81</td>\n",
       "      <td>49.69</td>\n",
       "    </tr>\n",
       "    <tr>\n",
       "      <th>min</th>\n",
       "      <td>1.00</td>\n",
       "      <td>0.00</td>\n",
       "      <td>1.00</td>\n",
       "      <td>0.42</td>\n",
       "      <td>0.00</td>\n",
       "      <td>0.00</td>\n",
       "      <td>0.00</td>\n",
       "    </tr>\n",
       "    <tr>\n",
       "      <th>25%</th>\n",
       "      <td>223.50</td>\n",
       "      <td>0.00</td>\n",
       "      <td>2.00</td>\n",
       "      <td>22.00</td>\n",
       "      <td>0.00</td>\n",
       "      <td>0.00</td>\n",
       "      <td>7.91</td>\n",
       "    </tr>\n",
       "    <tr>\n",
       "      <th>50%</th>\n",
       "      <td>446.00</td>\n",
       "      <td>0.00</td>\n",
       "      <td>3.00</td>\n",
       "      <td>30.00</td>\n",
       "      <td>0.00</td>\n",
       "      <td>0.00</td>\n",
       "      <td>14.45</td>\n",
       "    </tr>\n",
       "    <tr>\n",
       "      <th>75%</th>\n",
       "      <td>668.50</td>\n",
       "      <td>1.00</td>\n",
       "      <td>3.00</td>\n",
       "      <td>35.00</td>\n",
       "      <td>1.00</td>\n",
       "      <td>0.00</td>\n",
       "      <td>31.00</td>\n",
       "    </tr>\n",
       "    <tr>\n",
       "      <th>max</th>\n",
       "      <td>891.00</td>\n",
       "      <td>1.00</td>\n",
       "      <td>3.00</td>\n",
       "      <td>80.00</td>\n",
       "      <td>8.00</td>\n",
       "      <td>6.00</td>\n",
       "      <td>512.33</td>\n",
       "    </tr>\n",
       "  </tbody>\n",
       "</table>\n",
       "</div>"
      ],
      "text/plain": [
       "       PassengerId  Survived  Pclass     Age   SibSp   Parch    Fare\n",
       "count       891.00    891.00  891.00  891.00  891.00  891.00  891.00\n",
       "mean        446.00      0.38    2.31   29.76    0.52    0.38   32.20\n",
       "std         257.35      0.49    0.84   13.00    1.10    0.81   49.69\n",
       "min           1.00      0.00    1.00    0.42    0.00    0.00    0.00\n",
       "25%         223.50      0.00    2.00   22.00    0.00    0.00    7.91\n",
       "50%         446.00      0.00    3.00   30.00    0.00    0.00   14.45\n",
       "75%         668.50      1.00    3.00   35.00    1.00    0.00   31.00\n",
       "max         891.00      1.00    3.00   80.00    8.00    6.00  512.33"
      ]
     },
     "execution_count": 5,
     "metadata": {},
     "output_type": "execute_result"
    }
   ],
   "source": [
    "df_titanic.describe().round(2)"
   ]
  },
  {
   "cell_type": "code",
   "execution_count": 6,
   "id": "a90548d2-5bc6-4e1b-9e0a-36bb9d832888",
   "metadata": {},
   "outputs": [
    {
     "name": "stdout",
     "output_type": "stream",
     "text": [
      "<class 'pandas.core.frame.DataFrame'>\n",
      "RangeIndex: 891 entries, 0 to 890\n",
      "Data columns (total 12 columns):\n",
      " #   Column       Non-Null Count  Dtype  \n",
      "---  ------       --------------  -----  \n",
      " 0   PassengerId  891 non-null    int64  \n",
      " 1   Survived     891 non-null    int64  \n",
      " 2   Pclass       891 non-null    int64  \n",
      " 3   Name         891 non-null    object \n",
      " 4   Sex          891 non-null    object \n",
      " 5   Age          891 non-null    float64\n",
      " 6   SibSp        891 non-null    int64  \n",
      " 7   Parch        891 non-null    int64  \n",
      " 8   Ticket       891 non-null    object \n",
      " 9   Fare         891 non-null    float64\n",
      " 10  Cabin        204 non-null    object \n",
      " 11  Embarked     889 non-null    object \n",
      "dtypes: float64(2), int64(5), object(5)\n",
      "memory usage: 83.7+ KB\n"
     ]
    }
   ],
   "source": [
    "df_titanic.info()"
   ]
  },
  {
   "cell_type": "code",
   "execution_count": 7,
   "id": "ed388532-5bfc-477e-8dda-73274ccd7c4a",
   "metadata": {},
   "outputs": [],
   "source": [
    "# 2. 목표변수 및 설명변수의 분포 확인"
   ]
  },
  {
   "cell_type": "code",
   "execution_count": 8,
   "id": "64954bd1-f245-4849-9904-3959b2671268",
   "metadata": {},
   "outputs": [
    {
     "data": {
      "text/plain": [
       "PassengerId    891\n",
       "Survived         2\n",
       "Pclass           3\n",
       "Name           891\n",
       "Sex              2\n",
       "Age             88\n",
       "SibSp            7\n",
       "Parch            7\n",
       "Ticket         681\n",
       "Fare           248\n",
       "Cabin          147\n",
       "Embarked         3\n",
       "dtype: int64"
      ]
     },
     "execution_count": 8,
     "metadata": {},
     "output_type": "execute_result"
    }
   ],
   "source": [
    "'''\n",
    "목표변수: Survived\n",
    "설명변수\n",
    "    범주형: Pclass, Sex, Embarked\n",
    "    연속형: Age, SibSp, parch, Fare\n",
    "    이외 : PassengerId, Name, Ticket, Cabin\n",
    "'''\n",
    "\n",
    "df_titanic.nunique()"
   ]
  },
  {
   "cell_type": "code",
   "execution_count": 11,
   "id": "e4196211-ebb6-4277-97af-e92068f6a003",
   "metadata": {},
   "outputs": [
    {
     "name": "stdout",
     "output_type": "stream",
     "text": [
      "0    549\n",
      "1    342\n",
      "Name: Survived, dtype: int64\n"
     ]
    },
    {
     "data": {
      "text/plain": [
       "<Axes: ylabel='Survived'>"
      ]
     },
     "execution_count": 11,
     "metadata": {},
     "output_type": "execute_result"
    },
    {
     "data": {
      "image/png": "[encoded data removed]",
      "text/plain": [
       "<Figure size 640x480 with 1 Axes>"
      ]
     },
     "metadata": {},
     "output_type": "display_data"
    }
   ],
   "source": [
    "# 891명 중, 생존자는 342명이며, 사망자는 549명이다.\n",
    "\n",
    "people_count = df_titanic['Survived'].value_counts()\n",
    "print(people_count)\n",
    "people_count.plot.pie(autopct = \"%.1f%%\", explode = [0,0.1])"
   ]
  },
  {
   "cell_type": "code",
   "execution_count": 12,
   "id": "59d752af-0b20-4a27-96a6-7c025f33f412",
   "metadata": {},
   "outputs": [
    {
     "name": "stdout",
     "output_type": "stream",
     "text": [
      "Pclass\n",
      "3    491\n",
      "1    216\n",
      "2    184\n",
      "Name: Pclass, dtype: int64\n",
      "\n",
      "Sex\n",
      "male      577\n",
      "female    314\n",
      "Name: Sex, dtype: int64\n",
      "\n",
      "Embarked\n",
      "S    644\n",
      "C    168\n",
      "Q     77\n",
      "Name: Embarked, dtype: int64\n",
      "\n"
     ]
    },
    {
     "data": {
      "image/png": "[encoded data removed]",
      "text/plain": [
       "<Figure size 1000x300 with 3 Axes>"
      ]
     },
     "metadata": {},
     "output_type": "display_data"
    }
   ],
   "source": [
    "# Pclass, sex, Embarked -> 범주형\n",
    "\n",
    "'''\n",
    "승객등급(Pclass)는 3등급이 다른 등급에 비해 월등히 많은 것을 확인할 수 있고,\n",
    "성별은 남성이 더욱 많은 것이 확인된다.\n",
    "또한 승객의 탑승장소(Embarked)는 Southampton이 가장 많다.\n",
    "'''\n",
    "\n",
    "fig, axes = plt.subplots(nrows=1, ncols=3, figsize=(10, 3))\n",
    "plt.tight_layout(w_pad=5, h_pad=5)\n",
    "\n",
    "\n",
    "sns.countplot(x='Pclass', data = df_titanic, ax=axes[0])\n",
    "sns.countplot(x='Sex', data = df_titanic, ax=axes[1])\n",
    "sns.countplot(x='Embarked', data = df_titanic, ax=axes[2])\n",
    "\n",
    "print(\"Pclass\")\n",
    "print(df_titanic[\"Pclass\"].value_counts())\n",
    "print()\n",
    "\n",
    "print(\"Sex\")\n",
    "print(df_titanic[\"Sex\"].value_counts())\n",
    "print()\n",
    "\n",
    "print(\"Embarked\")\n",
    "print(df_titanic[\"Embarked\"].value_counts())\n",
    "print()\n"
   ]
  },
  {
   "cell_type": "code",
   "execution_count": 13,
   "id": "989b0066-5d7c-4f00-b62f-3425808809aa",
   "metadata": {},
   "outputs": [
    {
     "data": {
      "image/png": "[encoded data removed]",
      "text/plain": [
       "<Figure size 1300x400 with 4 Axes>"
      ]
     },
     "metadata": {},
     "output_type": "display_data"
    }
   ],
   "source": [
    "# Age, SibSp, parch, Fare -> 연속형\n",
    "'''\n",
    "나이는 0세부터 80세까지 다양하게 분포되어있으나, 30대 초반이 압도적으로 많음을 확인할 수 있으며\n",
    "SibSp(함께 탑승한 형제, 배우자 수)와 Parch(함께 탑승한 자녀, 부모의 수)의 경우 0명이 가장 많은것으로 보아, 혼자 탑승한 인원이 많음을 알 수 있다.\n",
    "Fare(티켓 요금)은 승객 등급에 따라 3등석이 가장 많기 때문에 비교적 싼 가격에 많이 분포됨이 확인된다.\n",
    "'''\n",
    "\n",
    "fig, axes = plt.subplots(nrows = 2, ncols = 2, figsize = (13,4))\n",
    "plt.tight_layout(w_pad = 5, h_pad = 5)\n",
    "data_list = [df_titanic[\"Age\"], df_titanic[\"SibSp\"], df_titanic[\"Parch\"], df_titanic[\"Fare\"]]\n",
    "name_list = ['Age','SibSp','Parch','Fare']\n",
    "\n",
    "for i in range(4):\n",
    "    sns.histplot(data_list[i], ax = axes[i // 2, i % 2], kde = True)\n",
    "    axes[i // 2, i % 2].set_title(name_list[i], fontsize=15)\n",
    "\n",
    "plt.tight_layout()\n",
    "plt.show()"
   ]
  },
  {
   "cell_type": "code",
   "execution_count": 14,
   "id": "a75fd5ef-fd0a-47d1-930f-0fe24dae3120",
   "metadata": {},
   "outputs": [],
   "source": [
    "# 3. 변수들의 결측 및 이상치 처리"
   ]
  },
  {
   "cell_type": "code",
   "execution_count": 15,
   "id": "f58f2432-4d22-422a-bfac-35d282b20928",
   "metadata": {},
   "outputs": [
    {
     "data": {
      "text/plain": [
       "PassengerId      0\n",
       "Survived         0\n",
       "Pclass           0\n",
       "Name             0\n",
       "Sex              0\n",
       "Age              0\n",
       "SibSp            0\n",
       "Parch            0\n",
       "Ticket           0\n",
       "Fare             0\n",
       "Cabin          687\n",
       "Embarked         2\n",
       "dtype: int64"
      ]
     },
     "execution_count": 15,
     "metadata": {},
     "output_type": "execute_result"
    }
   ],
   "source": [
    "# 결측치\n",
    "'''\n",
    "Cabin은 객실 번호로, 결측치가 많고 알 수 있는 직관적 정보가 부족하다고 판단하기에 분석 대상에서 제외하였다.\n",
    "Embarked는 결측치가 2개밖에 없고, 각 승객의 탑승정보 즉 위치정보를 보여주기에 결측치를 보완하고 진행하기로 결정하였다. \n",
    "'''\n",
    "df_titanic.isnull().sum()"
   ]
  },
  {
   "cell_type": "code",
   "execution_count": 16,
   "id": "5dd2fbd6-d382-4788-a33a-55508eb06931",
   "metadata": {},
   "outputs": [
    {
     "data": {
      "text/plain": [
       "PassengerId    0\n",
       "Survived       0\n",
       "Pclass         0\n",
       "Name           0\n",
       "Sex            0\n",
       "Age            0\n",
       "SibSp          0\n",
       "Parch          0\n",
       "Ticket         0\n",
       "Fare           0\n",
       "Embarked       0\n",
       "dtype: int64"
      ]
     },
     "execution_count": 16,
     "metadata": {},
     "output_type": "execute_result"
    }
   ],
   "source": [
    "df_titanic = df_titanic.drop('Cabin', axis = 1) # 결측치가 많은 열은 삭제\n",
    "df_titanic.fillna('Unknown', inplace =True) # Embarked는 모름으로 채움\n",
    "df_titanic.isnull().sum() # 결측치 처리 후 확인"
   ]
  },
  {
   "cell_type": "code",
   "execution_count": 17,
   "id": "9fe1d757-5209-4346-b82d-2f456ab4563e",
   "metadata": {},
   "outputs": [
    {
     "data": {
      "text/plain": [
       "<Axes: >"
      ]
     },
     "execution_count": 17,
     "metadata": {},
     "output_type": "execute_result"
    },
    {
     "data": {
      "image/png": "[encoded data removed]",
      "text/plain": [
       "<Figure size 1000x400 with 1 Axes>"
      ]
     },
     "metadata": {},
     "output_type": "display_data"
    }
   ],
   "source": [
    "# 이상치\n",
    "\n",
    "'''\n",
    "범주형의 경우, 위에서 이미 value_counts함수를 통해 이상값이 없음을 확인\n",
    "연속형의 경우, 범위가 비슷한 것끼리 모아서 확인하고자 하였음. 또한 PassengerId는 승객의 고유한 번호이므로 분석대상에서 제외함\n",
    "\n",
    "SibSp와 Parch는 박스를 넘어가는 범위의 데이터가 존재하지만, 각 개인과 가정의 상황에 따라 다르며, 그 차이가 미미하므로 이상치 보정을 적용하지 아니함\n",
    "'''\n",
    "df_box = df_titanic.drop(['Survived', 'Pclass', 'PassengerId', 'Fare', 'Age'], axis = 1, inplace = False)\n",
    "df_box.boxplot(figsize=(10,4))"
   ]
  },
  {
   "cell_type": "code",
   "execution_count": 18,
   "id": "176cbb4b-e4d3-41f0-8d73-a9e2a975dead",
   "metadata": {},
   "outputs": [
    {
     "data": {
      "image/png": "[encoded data removed]",
      "text/plain": [
       "<Figure size 700x400 with 2 Axes>"
      ]
     },
     "metadata": {},
     "output_type": "display_data"
    }
   ],
   "source": [
    "'''\n",
    "변수 Age, Fare는 위 두 변수에 비하여 범위가 넓은 변수들이므로, 각각 다른 범위를 적용시키기 위해 따로 그래프를 그림.\n",
    "Age와 Fare도 위 두가지 변수와 마찬가지로, 각 개인에 따라 충분히 다양한 값을 가질 수 있는 변수이므로, 이상치로 판단하지 아니함\n",
    "\n",
    "다만 Fare의 경우 중앙값이 14.4인것에 비해 max값이 500이 넘어가므로, \n",
    "가격의 특성상 있을 수 있는 일이라 판단되지만, 그 간극이 매우 극명하므로 log를 취함으로써 완화시켜 분석에 적용하도록 하였다. \n",
    "아래 쉘의 그래프를 확인했을 때 Fare feature의 박스플랏이 완화된 것을 확인할 수 있다.\n",
    "'''\n",
    "\n",
    "fig, axes = plt.subplots(nrows = 1, ncols = 2, figsize=(7, 4))\n",
    "plt.tight_layout(w_pad = 5, h_pad = 5)\n",
    "\n",
    "data_list = [df_titanic[\"Age\"], df_titanic[\"Fare\"]]\n",
    "name_list = ['Age', 'Fare']\n",
    "\n",
    "for i in range(2):\n",
    "    sns.boxplot(data=data_list[i], ax=axes[i])\n",
    "    axes[i].set_title(name_list[i], fontsize=15)\n",
    "\n",
    "df_titanic['Fare'] = df_titanic['Fare'].map(lambda i: np.log(i) if i > 0 else 0)"
   ]
  },
  {
   "cell_type": "code",
   "execution_count": 19,
   "id": "83f44800-8d4a-4624-aef3-3ae8f5ce8f27",
   "metadata": {},
   "outputs": [
    {
     "data": {
      "image/png": "[encoded data removed]",
      "text/plain": [
       "<Figure size 700x400 with 2 Axes>"
      ]
     },
     "metadata": {},
     "output_type": "display_data"
    }
   ],
   "source": [
    "fig, axes = plt.subplots(nrows = 1, ncols = 2, figsize=(7, 4))\n",
    "plt.tight_layout(w_pad = 5, h_pad = 5)\n",
    "\n",
    "data_list = [df_titanic[\"Age\"], df_titanic[\"Fare\"]]\n",
    "name_list = ['Age', 'Fare']\n",
    "\n",
    "for i in range(2):\n",
    "    sns.boxplot(data=data_list[i], ax=axes[i])\n",
    "    axes[i].set_title(name_list[i], fontsize=15)"
   ]
  },
  {
   "cell_type": "code",
   "execution_count": 20,
   "id": "b74f04ef-8eb4-452b-bd70-54f670fbf378",
   "metadata": {},
   "outputs": [
    {
     "data": {
      "text/html": [
       "<div>\n",
       "<style scoped>\n",
       "    .dataframe tbody tr th:only-of-type {\n",
       "        vertical-align: middle;\n",
       "    }\n",
       "\n",
       "    .dataframe tbody tr th {\n",
       "        vertical-align: top;\n",
       "    }\n",
       "\n",
       "    .dataframe thead th {\n",
       "        text-align: right;\n",
       "    }\n",
       "</style>\n",
       "<table border=\"1\" class=\"dataframe\">\n",
       "  <thead>\n",
       "    <tr style=\"text-align: right;\">\n",
       "      <th></th>\n",
       "      <th>Survived</th>\n",
       "      <th>Pclass</th>\n",
       "      <th>Sex</th>\n",
       "      <th>Age</th>\n",
       "      <th>SibSp</th>\n",
       "      <th>Parch</th>\n",
       "      <th>Fare</th>\n",
       "      <th>Embarked</th>\n",
       "      <th>AgeGroup</th>\n",
       "      <th>Family_cnt</th>\n",
       "    </tr>\n",
       "  </thead>\n",
       "  <tbody>\n",
       "    <tr>\n",
       "      <th>0</th>\n",
       "      <td>0</td>\n",
       "      <td>3</td>\n",
       "      <td>male</td>\n",
       "      <td>22.0</td>\n",
       "      <td>1</td>\n",
       "      <td>0</td>\n",
       "      <td>1.981001</td>\n",
       "      <td>S</td>\n",
       "      <td>2</td>\n",
       "      <td>1</td>\n",
       "    </tr>\n",
       "    <tr>\n",
       "      <th>1</th>\n",
       "      <td>1</td>\n",
       "      <td>1</td>\n",
       "      <td>female</td>\n",
       "      <td>38.0</td>\n",
       "      <td>1</td>\n",
       "      <td>0</td>\n",
       "      <td>4.266662</td>\n",
       "      <td>C</td>\n",
       "      <td>3</td>\n",
       "      <td>1</td>\n",
       "    </tr>\n",
       "    <tr>\n",
       "      <th>2</th>\n",
       "      <td>1</td>\n",
       "      <td>3</td>\n",
       "      <td>female</td>\n",
       "      <td>26.0</td>\n",
       "      <td>0</td>\n",
       "      <td>0</td>\n",
       "      <td>2.070022</td>\n",
       "      <td>S</td>\n",
       "      <td>2</td>\n",
       "      <td>0</td>\n",
       "    </tr>\n",
       "    <tr>\n",
       "      <th>3</th>\n",
       "      <td>1</td>\n",
       "      <td>1</td>\n",
       "      <td>female</td>\n",
       "      <td>35.0</td>\n",
       "      <td>1</td>\n",
       "      <td>0</td>\n",
       "      <td>3.972177</td>\n",
       "      <td>S</td>\n",
       "      <td>3</td>\n",
       "      <td>1</td>\n",
       "    </tr>\n",
       "    <tr>\n",
       "      <th>4</th>\n",
       "      <td>0</td>\n",
       "      <td>3</td>\n",
       "      <td>male</td>\n",
       "      <td>35.0</td>\n",
       "      <td>0</td>\n",
       "      <td>0</td>\n",
       "      <td>2.085672</td>\n",
       "      <td>S</td>\n",
       "      <td>3</td>\n",
       "      <td>0</td>\n",
       "    </tr>\n",
       "    <tr>\n",
       "      <th>...</th>\n",
       "      <td>...</td>\n",
       "      <td>...</td>\n",
       "      <td>...</td>\n",
       "      <td>...</td>\n",
       "      <td>...</td>\n",
       "      <td>...</td>\n",
       "      <td>...</td>\n",
       "      <td>...</td>\n",
       "      <td>...</td>\n",
       "      <td>...</td>\n",
       "    </tr>\n",
       "    <tr>\n",
       "      <th>886</th>\n",
       "      <td>0</td>\n",
       "      <td>2</td>\n",
       "      <td>male</td>\n",
       "      <td>27.0</td>\n",
       "      <td>0</td>\n",
       "      <td>0</td>\n",
       "      <td>2.564949</td>\n",
       "      <td>S</td>\n",
       "      <td>2</td>\n",
       "      <td>0</td>\n",
       "    </tr>\n",
       "    <tr>\n",
       "      <th>887</th>\n",
       "      <td>1</td>\n",
       "      <td>1</td>\n",
       "      <td>female</td>\n",
       "      <td>19.0</td>\n",
       "      <td>0</td>\n",
       "      <td>0</td>\n",
       "      <td>3.401197</td>\n",
       "      <td>S</td>\n",
       "      <td>1</td>\n",
       "      <td>0</td>\n",
       "    </tr>\n",
       "    <tr>\n",
       "      <th>888</th>\n",
       "      <td>0</td>\n",
       "      <td>3</td>\n",
       "      <td>female</td>\n",
       "      <td>30.0</td>\n",
       "      <td>1</td>\n",
       "      <td>2</td>\n",
       "      <td>3.154870</td>\n",
       "      <td>S</td>\n",
       "      <td>3</td>\n",
       "      <td>3</td>\n",
       "    </tr>\n",
       "    <tr>\n",
       "      <th>889</th>\n",
       "      <td>1</td>\n",
       "      <td>1</td>\n",
       "      <td>male</td>\n",
       "      <td>26.0</td>\n",
       "      <td>0</td>\n",
       "      <td>0</td>\n",
       "      <td>3.401197</td>\n",
       "      <td>C</td>\n",
       "      <td>2</td>\n",
       "      <td>0</td>\n",
       "    </tr>\n",
       "    <tr>\n",
       "      <th>890</th>\n",
       "      <td>0</td>\n",
       "      <td>3</td>\n",
       "      <td>male</td>\n",
       "      <td>32.0</td>\n",
       "      <td>0</td>\n",
       "      <td>0</td>\n",
       "      <td>2.047693</td>\n",
       "      <td>Q</td>\n",
       "      <td>3</td>\n",
       "      <td>0</td>\n",
       "    </tr>\n",
       "  </tbody>\n",
       "</table>\n",
       "<p>891 rows × 10 columns</p>\n",
       "</div>"
      ],
      "text/plain": [
       "     Survived  Pclass     Sex   Age  SibSp  Parch      Fare Embarked  \\\n",
       "0           0       3    male  22.0      1      0  1.981001        S   \n",
       "1           1       1  female  38.0      1      0  4.266662        C   \n",
       "2           1       3  female  26.0      0      0  2.070022        S   \n",
       "3           1       1  female  35.0      1      0  3.972177        S   \n",
       "4           0       3    male  35.0      0      0  2.085672        S   \n",
       "..        ...     ...     ...   ...    ...    ...       ...      ...   \n",
       "886         0       2    male  27.0      0      0  2.564949        S   \n",
       "887         1       1  female  19.0      0      0  3.401197        S   \n",
       "888         0       3  female  30.0      1      2  3.154870        S   \n",
       "889         1       1    male  26.0      0      0  3.401197        C   \n",
       "890         0       3    male  32.0      0      0  2.047693        Q   \n",
       "\n",
       "     AgeGroup  Family_cnt  \n",
       "0           2           1  \n",
       "1           3           1  \n",
       "2           2           0  \n",
       "3           3           1  \n",
       "4           3           0  \n",
       "..        ...         ...  \n",
       "886         2           0  \n",
       "887         1           0  \n",
       "888         3           3  \n",
       "889         2           0  \n",
       "890         3           0  \n",
       "\n",
       "[891 rows x 10 columns]"
      ]
     },
     "execution_count": 20,
     "metadata": {},
     "output_type": "execute_result"
    }
   ],
   "source": [
    "# 4. 그래프 분석을 통해 변수간 관계를 확인\n",
    "#변수간 관계를 확인할 때 필요없는 변수 제거 및 파생변수 생성\n",
    "df_analysis = df_titanic.drop(['PassengerId','Name','Ticket'], axis = 1, inplace = False) #각 승객의 고유한 정보 삭제\n",
    "\n",
    "df_analysis['AgeGroup'] = (df_analysis['Age']//10).astype(int) # 나이 그룹 생성\n",
    "df_analysis['Family_cnt'] = df_analysis['SibSp'] + df_analysis['Parch']\n",
    "\n",
    "df_analysis"
   ]
  },
  {
   "cell_type": "code",
   "execution_count": 21,
   "id": "cfb9ee19-5e8f-4ae7-a488-6d919d97df43",
   "metadata": {},
   "outputs": [
    {
     "data": {
      "text/plain": [
       "<Axes: xlabel='Family_cnt', ylabel='count'>"
      ]
     },
     "execution_count": 21,
     "metadata": {},
     "output_type": "execute_result"
    },
    {
     "data": {
      "image/png": "[encoded data removed]",
      "text/plain": [
       "<Figure size 1000x400 with 2 Axes>"
      ]
     },
     "metadata": {},
     "output_type": "display_data"
    }
   ],
   "source": [
    "'''\n",
    "기존의 변수에서 파생한 나이그룹과 함께 동승한 가족의 수를 그래프로 나타내면 다음과 같다. \n",
    "위에서 확인한것과 마찬가지로, 30대가 가장 많고, 혼자 탑승한 사람이 가장 많음을 확인할 수 있다.\n",
    "'''\n",
    "\n",
    "fig, axes = plt.subplots(nrows = 1, ncols = 2, figsize=(10, 4))\n",
    "plt.tight_layout(w_pad = 5, h_pad = 5)\n",
    "\n",
    "\n",
    "sns.countplot(x='AgeGroup', data = df_analysis, ax=axes[0])\n",
    "sns.countplot(x='Family_cnt', data = df_analysis, ax=axes[1])"
   ]
  },
  {
   "cell_type": "code",
   "execution_count": 22,
   "id": "d12f9d69-d8a4-4f37-8273-6054d8fb270c",
   "metadata": {},
   "outputs": [
    {
     "data": {
      "text/plain": [
       "<Axes: >"
      ]
     },
     "execution_count": 22,
     "metadata": {},
     "output_type": "execute_result"
    },
    {
     "data": {
      "image/png": "[encoded data removed]",
      "text/plain": [
       "<Figure size 640x480 with 2 Axes>"
      ]
     },
     "metadata": {},
     "output_type": "display_data"
    }
   ],
   "source": [
    "'''\n",
    "승객 등급(Pclass)와 티켓요금(Fare)의 관계\n",
    "승객 등급(Pclass)와 승객 나이(Age)의 관계 (+ AgeGroup)\n",
    "승객 등급(Pcalss)와 생존(Survived)의 관계\n",
    "생존(Survived)와 티켓요금(Fare)의 관계\n",
    "가족 수(Family_cnt)와 티켓요금(Fare)의 관계\n",
    "\n",
    "에서 다른 값에 비해 높은 상관관계를 확인할 수 있다. \n",
    "\n",
    "이로 미루어 볼 때, 상대적으로 부유한 사람이 좋은 좌석을 갖고, 생존 확률이 더 높았다는 가설을 세울 수 있다. \n",
    "또한 가족을 많이 데리고 탑승한 경우 상대적으로 티켓 가격을 높게 주었을 가능성이 높다는 것을 발견할 수 있다.\n",
    "'''\n",
    "df_corr = df_analysis.corr()\n",
    "sns.heatmap(df_corr, annot = True, cmap= \"viridis\")"
   ]
  },
  {
   "cell_type": "code",
   "execution_count": 23,
   "id": "44f82c45-4f70-4480-899f-6e20245ced4a",
   "metadata": {},
   "outputs": [
    {
     "data": {
      "text/plain": [
       "<Axes: xlabel='Family_cnt', ylabel='Survived'>"
      ]
     },
     "execution_count": 23,
     "metadata": {},
     "output_type": "execute_result"
    },
    {
     "data": {
      "image/png": "[encoded data removed]",
      "text/plain": [
       "<Figure size 1000x400 with 6 Axes>"
      ]
     },
     "metadata": {},
     "output_type": "display_data"
    }
   ],
   "source": [
    "'''\n",
    "첫번째 그래프는 승객등급과 생존여부를 그룹화하여 각 티켓 가격을 나타낸 히트맵이다. 1등석에 가격을 가장 많이 낸 사람일수록 생존확률이 올라감을 확인할 수 있다.\n",
    "두번째 그래프는 나이그룹과 생존여부를 그룹화하여 각 티켓 가격을 나타낸 히트맵이다. 50대의 티켓 가격을 비싸게 지불한 사람이 많이 생존했음을 확인할 수 있다.\n",
    "세번째 그래프는 같이 온 가족의 명수와 생존여부를 그룹화하여 각 티켓 가격을 나타낸 히트맵이다. 4~5명의 가족과 함께 온 사람들의 생존확률이 높음을 알 수 있다. \n",
    "\n",
    "'''\n",
    "fig, axes = plt.subplots(nrows = 1, ncols = 3, figsize=(10, 4))\n",
    "plt.tight_layout(w_pad = 5, h_pad = 5)\n",
    "\n",
    "df_agg = df_analysis.groupby([\"Pclass\",\"Survived\"], as_index=False)['Fare'].agg(\"mean\")\n",
    "df_pivot = df_agg.pivot(\"Survived\", \"Pclass\", \"Fare\")\n",
    "sns.heatmap(df_pivot, cmap=\"Blues\", ax = axes[0])\n",
    "\n",
    "df_agg = df_analysis.groupby([\"AgeGroup\",\"Survived\"], as_index=False)['Fare'].agg(\"mean\")\n",
    "df_pivot = df_agg.pivot(\"Survived\", \"AgeGroup\", \"Fare\")\n",
    "sns.heatmap(df_pivot, cmap=\"Blues\", ax = axes[1])\n",
    "\n",
    "df_agg = df_analysis.groupby([\"Family_cnt\",\"Survived\"], as_index=False)['Fare'].agg(\"mean\")\n",
    "df_pivot = df_agg.pivot(\"Survived\", \"Family_cnt\", \"Fare\")\n",
    "sns.heatmap(df_pivot, cmap=\"Blues\", ax = axes[2])"
   ]
  },
  {
   "cell_type": "code",
   "execution_count": 24,
   "id": "3e805d91-f197-4601-a554-d86c01e70197",
   "metadata": {
    "scrolled": true
   },
   "outputs": [
    {
     "data": {
      "text/plain": [
       "'\\n5. 생존에 영향을 미치는 잠재인자 도출\\n위의 분석으로 미루어 볼 때, 생존확률에 영향을 미치는 요인은 객실 등급과 티켓의 가격이라고 분석된다. \\n가족의 수를 생존에 영향을 미치는 요인으로 포함하지 않은 이유는, 5명의 가족이 함께 탔다면, 이 가족은 함께 탄 가족의 수를 공유하고 있으며,\\n티켓의 가격도 동일하였을것이라고 추측된다. 이에 따라 데이터에 노이즈가 생기는 원인이 될 수도 있다고 판단했다. \\n\\n결론적으로, 생존확률에 도움을 주는 요인은 객실 등급과 티켓의 가격이다.\\n'"
      ]
     },
     "execution_count": 24,
     "metadata": {},
     "output_type": "execute_result"
    }
   ],
   "source": [
    "'''\n",
    "5. 생존에 영향을 미치는 잠재인자 도출\n",
    "위의 분석으로 미루어 볼 때, 생존확률에 영향을 미치는 요인은 객실 등급과 티켓의 가격이라고 분석된다. \n",
    "가족의 수를 생존에 영향을 미치는 요인으로 포함하지 않은 이유는, 5명의 가족이 함께 탔다면, 이 가족은 함께 탄 가족의 수를 공유하고 있으며,\n",
    "티켓의 가격도 동일하였을것이라고 추측된다. 이에 따라 데이터에 노이즈가 생기는 원인이 될 수도 있다고 판단했다. \n",
    "\n",
    "결론적으로, 생존확률에 도움을 주는 요인은 객실 등급과 티켓의 가격이다.\n",
    "'''"
   ]
  },
  {
   "cell_type": "markdown",
   "id": "bf380d47-3f53-4d96-bbe3-4c847dabcbc0",
   "metadata": {},
   "source": [
    "### 탐색적 분석, 통계분석 실습"
   ]
  },
  {
   "cell_type": "code",
   "execution_count": 25,
   "id": "66c51e6b-b04b-434f-90fb-841789ee6572",
   "metadata": {},
   "outputs": [],
   "source": [
    "from scipy import stats\n",
    "from statsmodels.stats.proportion import proportions_ztest"
   ]
  },
  {
   "cell_type": "code",
   "execution_count": 26,
   "id": "0ebe815a-9947-45a0-b7bb-2ca16667fff6",
   "metadata": {},
   "outputs": [
    {
     "data": {
      "text/html": [
       "<div>\n",
       "<style scoped>\n",
       "    .dataframe tbody tr th:only-of-type {\n",
       "        vertical-align: middle;\n",
       "    }\n",
       "\n",
       "    .dataframe tbody tr th {\n",
       "        vertical-align: top;\n",
       "    }\n",
       "\n",
       "    .dataframe thead th {\n",
       "        text-align: right;\n",
       "    }\n",
       "</style>\n",
       "<table border=\"1\" class=\"dataframe\">\n",
       "  <thead>\n",
       "    <tr style=\"text-align: right;\">\n",
       "      <th></th>\n",
       "      <th>manufacturer</th>\n",
       "      <th>model</th>\n",
       "      <th>displacement</th>\n",
       "      <th>year</th>\n",
       "      <th>cylinder</th>\n",
       "      <th>automatic</th>\n",
       "      <th>driving</th>\n",
       "      <th>mpg</th>\n",
       "      <th>highway_mileage</th>\n",
       "      <th>fuel</th>\n",
       "      <th>class</th>\n",
       "    </tr>\n",
       "  </thead>\n",
       "  <tbody>\n",
       "    <tr>\n",
       "      <th>0</th>\n",
       "      <td>audi</td>\n",
       "      <td>a4</td>\n",
       "      <td>1.8</td>\n",
       "      <td>1999</td>\n",
       "      <td>4</td>\n",
       "      <td>auto</td>\n",
       "      <td>f</td>\n",
       "      <td>18</td>\n",
       "      <td>29</td>\n",
       "      <td>p</td>\n",
       "      <td>compact</td>\n",
       "    </tr>\n",
       "    <tr>\n",
       "      <th>1</th>\n",
       "      <td>audi</td>\n",
       "      <td>a4</td>\n",
       "      <td>1.8</td>\n",
       "      <td>1999</td>\n",
       "      <td>4</td>\n",
       "      <td>manual</td>\n",
       "      <td>f</td>\n",
       "      <td>21</td>\n",
       "      <td>29</td>\n",
       "      <td>p</td>\n",
       "      <td>compact</td>\n",
       "    </tr>\n",
       "    <tr>\n",
       "      <th>2</th>\n",
       "      <td>audi</td>\n",
       "      <td>a4</td>\n",
       "      <td>2.0</td>\n",
       "      <td>2008</td>\n",
       "      <td>4</td>\n",
       "      <td>manual</td>\n",
       "      <td>f</td>\n",
       "      <td>20</td>\n",
       "      <td>31</td>\n",
       "      <td>p</td>\n",
       "      <td>compact</td>\n",
       "    </tr>\n",
       "    <tr>\n",
       "      <th>3</th>\n",
       "      <td>audi</td>\n",
       "      <td>a4</td>\n",
       "      <td>2.0</td>\n",
       "      <td>2008</td>\n",
       "      <td>4</td>\n",
       "      <td>auto</td>\n",
       "      <td>f</td>\n",
       "      <td>21</td>\n",
       "      <td>30</td>\n",
       "      <td>p</td>\n",
       "      <td>compact</td>\n",
       "    </tr>\n",
       "    <tr>\n",
       "      <th>4</th>\n",
       "      <td>audi</td>\n",
       "      <td>a4</td>\n",
       "      <td>2.8</td>\n",
       "      <td>1999</td>\n",
       "      <td>6</td>\n",
       "      <td>auto</td>\n",
       "      <td>f</td>\n",
       "      <td>16</td>\n",
       "      <td>26</td>\n",
       "      <td>p</td>\n",
       "      <td>compact</td>\n",
       "    </tr>\n",
       "  </tbody>\n",
       "</table>\n",
       "</div>"
      ],
      "text/plain": [
       "  manufacturer model  displacement  year  cylinder automatic driving  mpg  \\\n",
       "0         audi    a4           1.8  1999         4      auto       f   18   \n",
       "1         audi    a4           1.8  1999         4    manual       f   21   \n",
       "2         audi    a4           2.0  2008         4    manual       f   20   \n",
       "3         audi    a4           2.0  2008         4      auto       f   21   \n",
       "4         audi    a4           2.8  1999         6      auto       f   16   \n",
       "\n",
       "   highway_mileage fuel    class  \n",
       "0               29    p  compact  \n",
       "1               29    p  compact  \n",
       "2               31    p  compact  \n",
       "3               30    p  compact  \n",
       "4               26    p  compact  "
      ]
     },
     "execution_count": 26,
     "metadata": {},
     "output_type": "execute_result"
    }
   ],
   "source": [
    "# 217p\n",
    "\n",
    "df_cars = pd.read_csv(\"../01.files/01.Bigdata_basic/mycars.csv\")\n",
    "df_cars.head()"
   ]
  },
  {
   "cell_type": "code",
   "execution_count": 27,
   "id": "24a68e46-e77e-43a0-b5e9-c5e9a1c4e178",
   "metadata": {},
   "outputs": [
    {
     "data": {
      "text/html": [
       "<div>\n",
       "<style scoped>\n",
       "    .dataframe tbody tr th:only-of-type {\n",
       "        vertical-align: middle;\n",
       "    }\n",
       "\n",
       "    .dataframe tbody tr th {\n",
       "        vertical-align: top;\n",
       "    }\n",
       "\n",
       "    .dataframe thead tr th {\n",
       "        text-align: left;\n",
       "    }\n",
       "\n",
       "    .dataframe thead tr:last-of-type th {\n",
       "        text-align: right;\n",
       "    }\n",
       "</style>\n",
       "<table border=\"1\" class=\"dataframe\">\n",
       "  <thead>\n",
       "    <tr>\n",
       "      <th></th>\n",
       "      <th colspan=\"8\" halign=\"left\">mpg</th>\n",
       "    </tr>\n",
       "    <tr>\n",
       "      <th></th>\n",
       "      <th>count</th>\n",
       "      <th>mean</th>\n",
       "      <th>std</th>\n",
       "      <th>min</th>\n",
       "      <th>25%</th>\n",
       "      <th>50%</th>\n",
       "      <th>75%</th>\n",
       "      <th>max</th>\n",
       "    </tr>\n",
       "    <tr>\n",
       "      <th>driving</th>\n",
       "      <th></th>\n",
       "      <th></th>\n",
       "      <th></th>\n",
       "      <th></th>\n",
       "      <th></th>\n",
       "      <th></th>\n",
       "      <th></th>\n",
       "      <th></th>\n",
       "    </tr>\n",
       "  </thead>\n",
       "  <tbody>\n",
       "    <tr>\n",
       "      <th>4</th>\n",
       "      <td>103.0</td>\n",
       "      <td>14.330097</td>\n",
       "      <td>2.874459</td>\n",
       "      <td>9.0</td>\n",
       "      <td>13.0</td>\n",
       "      <td>14.0</td>\n",
       "      <td>16.0</td>\n",
       "      <td>21.0</td>\n",
       "    </tr>\n",
       "    <tr>\n",
       "      <th>f</th>\n",
       "      <td>106.0</td>\n",
       "      <td>19.971698</td>\n",
       "      <td>3.626510</td>\n",
       "      <td>11.0</td>\n",
       "      <td>18.0</td>\n",
       "      <td>19.0</td>\n",
       "      <td>21.0</td>\n",
       "      <td>35.0</td>\n",
       "    </tr>\n",
       "    <tr>\n",
       "      <th>r</th>\n",
       "      <td>25.0</td>\n",
       "      <td>14.080000</td>\n",
       "      <td>2.215852</td>\n",
       "      <td>11.0</td>\n",
       "      <td>12.0</td>\n",
       "      <td>15.0</td>\n",
       "      <td>15.0</td>\n",
       "      <td>18.0</td>\n",
       "    </tr>\n",
       "  </tbody>\n",
       "</table>\n",
       "</div>"
      ],
      "text/plain": [
       "           mpg                                                   \n",
       "         count       mean       std   min   25%   50%   75%   max\n",
       "driving                                                          \n",
       "4        103.0  14.330097  2.874459   9.0  13.0  14.0  16.0  21.0\n",
       "f        106.0  19.971698  3.626510  11.0  18.0  19.0  21.0  35.0\n",
       "r         25.0  14.080000  2.215852  11.0  12.0  15.0  15.0  18.0"
      ]
     },
     "execution_count": 27,
     "metadata": {},
     "output_type": "execute_result"
    }
   ],
   "source": [
    "# 시내에서의 연비 통계치\n",
    "\n",
    "df = df_cars[['driving', 'mpg']]\n",
    "df.groupby('driving').describe()"
   ]
  },
  {
   "cell_type": "code",
   "execution_count": 28,
   "id": "2d91d15c-84d1-4d74-80aa-0da13e693d4f",
   "metadata": {},
   "outputs": [
    {
     "data": {
      "text/html": [
       "<div>\n",
       "<style scoped>\n",
       "    .dataframe tbody tr th:only-of-type {\n",
       "        vertical-align: middle;\n",
       "    }\n",
       "\n",
       "    .dataframe tbody tr th {\n",
       "        vertical-align: top;\n",
       "    }\n",
       "\n",
       "    .dataframe thead tr th {\n",
       "        text-align: left;\n",
       "    }\n",
       "\n",
       "    .dataframe thead tr:last-of-type th {\n",
       "        text-align: right;\n",
       "    }\n",
       "</style>\n",
       "<table border=\"1\" class=\"dataframe\">\n",
       "  <thead>\n",
       "    <tr>\n",
       "      <th></th>\n",
       "      <th colspan=\"8\" halign=\"left\">highway_mileage</th>\n",
       "    </tr>\n",
       "    <tr>\n",
       "      <th></th>\n",
       "      <th>count</th>\n",
       "      <th>mean</th>\n",
       "      <th>std</th>\n",
       "      <th>min</th>\n",
       "      <th>25%</th>\n",
       "      <th>50%</th>\n",
       "      <th>75%</th>\n",
       "      <th>max</th>\n",
       "    </tr>\n",
       "    <tr>\n",
       "      <th>driving</th>\n",
       "      <th></th>\n",
       "      <th></th>\n",
       "      <th></th>\n",
       "      <th></th>\n",
       "      <th></th>\n",
       "      <th></th>\n",
       "      <th></th>\n",
       "      <th></th>\n",
       "    </tr>\n",
       "  </thead>\n",
       "  <tbody>\n",
       "    <tr>\n",
       "      <th>4</th>\n",
       "      <td>103.0</td>\n",
       "      <td>19.174757</td>\n",
       "      <td>4.078704</td>\n",
       "      <td>12.0</td>\n",
       "      <td>17.0</td>\n",
       "      <td>18.0</td>\n",
       "      <td>22.0</td>\n",
       "      <td>28.0</td>\n",
       "    </tr>\n",
       "    <tr>\n",
       "      <th>f</th>\n",
       "      <td>106.0</td>\n",
       "      <td>28.160377</td>\n",
       "      <td>4.206881</td>\n",
       "      <td>17.0</td>\n",
       "      <td>26.0</td>\n",
       "      <td>28.0</td>\n",
       "      <td>29.0</td>\n",
       "      <td>44.0</td>\n",
       "    </tr>\n",
       "    <tr>\n",
       "      <th>r</th>\n",
       "      <td>25.0</td>\n",
       "      <td>21.000000</td>\n",
       "      <td>3.662877</td>\n",
       "      <td>15.0</td>\n",
       "      <td>17.0</td>\n",
       "      <td>21.0</td>\n",
       "      <td>24.0</td>\n",
       "      <td>26.0</td>\n",
       "    </tr>\n",
       "  </tbody>\n",
       "</table>\n",
       "</div>"
      ],
      "text/plain": [
       "        highway_mileage                                                   \n",
       "                  count       mean       std   min   25%   50%   75%   max\n",
       "driving                                                                   \n",
       "4                 103.0  19.174757  4.078704  12.0  17.0  18.0  22.0  28.0\n",
       "f                 106.0  28.160377  4.206881  17.0  26.0  28.0  29.0  44.0\n",
       "r                  25.0  21.000000  3.662877  15.0  17.0  21.0  24.0  26.0"
      ]
     },
     "execution_count": 28,
     "metadata": {},
     "output_type": "execute_result"
    }
   ],
   "source": [
    "# 고속도로에서의 연비 통계치\n",
    "\n",
    "df = df_cars[['driving', 'highway_mileage']]\n",
    "df.groupby('driving').describe()"
   ]
  },
  {
   "cell_type": "code",
   "execution_count": 29,
   "id": "384e3675-5b90-4a62-ab37-8d349a0a89ed",
   "metadata": {},
   "outputs": [
    {
     "data": {
      "text/plain": [
       "'\\n전체 데이터의 카운터로 보았을 때, 구동방식이 4와 f인 차가 r에 비해 많이 보급된 차로 예측된다.\\n\\n또한 위 기술통계를 통해 봤을때, 고속도로에서의 연비가 시내에서의 연비보다 약간 더 높은것이 확인된다.\\n특히 두 집단 모두에서 f의 연비가 더 좋은데, 이는 f가 다른 구동방식에 비해 도로의 컨디션에 구애받지 않고 연비가 좋다는 것을 확인할 수 있다. \\n'"
      ]
     },
     "execution_count": 29,
     "metadata": {},
     "output_type": "execute_result"
    }
   ],
   "source": [
    "'''\n",
    "전체 데이터의 카운터로 보았을 때, 구동방식이 4와 f인 차가 r에 비해 많이 보급된 차로 예측된다.\n",
    "\n",
    "또한 위 기술통계를 통해 봤을때, 고속도로에서의 연비가 시내에서의 연비보다 약간 더 높은것이 확인된다.\n",
    "특히 두 집단 모두에서 f의 연비가 더 좋은데, 이는 f가 다른 구동방식에 비해 도로의 컨디션에 구애받지 않고 연비가 좋다는 것을 확인할 수 있다. \n",
    "'''"
   ]
  },
  {
   "cell_type": "code",
   "execution_count": 30,
   "id": "4e7e8645-c9ec-406b-a80c-5de98eb6cb70",
   "metadata": {},
   "outputs": [
    {
     "data": {
      "text/html": [
       "<div>\n",
       "<style scoped>\n",
       "    .dataframe tbody tr th:only-of-type {\n",
       "        vertical-align: middle;\n",
       "    }\n",
       "\n",
       "    .dataframe tbody tr th {\n",
       "        vertical-align: top;\n",
       "    }\n",
       "\n",
       "    .dataframe thead th {\n",
       "        text-align: right;\n",
       "    }\n",
       "</style>\n",
       "<table border=\"1\" class=\"dataframe\">\n",
       "  <thead>\n",
       "    <tr style=\"text-align: right;\">\n",
       "      <th>Flaws</th>\n",
       "      <th>Count</th>\n",
       "      <th>CumCnt</th>\n",
       "      <th>Percent</th>\n",
       "      <th>CumPct</th>\n",
       "    </tr>\n",
       "  </thead>\n",
       "  <tbody>\n",
       "    <tr>\n",
       "      <th>4</th>\n",
       "      <td>103</td>\n",
       "      <td>103</td>\n",
       "      <td>44.02</td>\n",
       "      <td>44.02</td>\n",
       "    </tr>\n",
       "    <tr>\n",
       "      <th>f</th>\n",
       "      <td>106</td>\n",
       "      <td>209</td>\n",
       "      <td>45.30</td>\n",
       "      <td>89.32</td>\n",
       "    </tr>\n",
       "    <tr>\n",
       "      <th>r</th>\n",
       "      <td>25</td>\n",
       "      <td>234</td>\n",
       "      <td>10.68</td>\n",
       "      <td>100.00</td>\n",
       "    </tr>\n",
       "  </tbody>\n",
       "</table>\n",
       "</div>"
      ],
      "text/plain": [
       "Flaws  Count  CumCnt  Percent  CumPct\n",
       "4        103     103    44.02   44.02\n",
       "f        106     209    45.30   89.32\n",
       "r         25     234    10.68  100.00"
      ]
     },
     "execution_count": 30,
     "metadata": {},
     "output_type": "execute_result"
    }
   ],
   "source": [
    "# 220p\n",
    "\n",
    "df_220 = df_cars[['driving', 'model']]\n",
    "count = df_220['driving'].value_counts().sort_index()\n",
    "cumcnt = np.cumsum(count)\n",
    "percent = count/sum(count) * 100\n",
    "cumpct = np.cumsum(percent)\n",
    "count_data = pd.DataFrame({'Count':count, 'CumCnt':cumcnt, 'Percent':percent, 'CumPct':cumpct})\n",
    "count_data.columns.name='Flaws'\n",
    "count_data.round(2)"
   ]
  },
  {
   "cell_type": "code",
   "execution_count": 31,
   "id": "15c67303-37f3-4d17-9a46-c0f3e0bd588a",
   "metadata": {},
   "outputs": [
    {
     "data": {
      "text/plain": [
       "'\\n위 데이터로 보았을 때, 구동방식이 4와 f인 것이 전체 데이터의 대부분(89%)를 차지하고 있는 것을 알 수 있다. \\n'"
      ]
     },
     "execution_count": 31,
     "metadata": {},
     "output_type": "execute_result"
    }
   ],
   "source": [
    "'''\n",
    "위 데이터로 보았을 때, 구동방식이 4와 f인 것이 전체 데이터의 대부분(89%)를 차지하고 있는 것을 알 수 있다. \n",
    "'''"
   ]
  }
 ],
 "metadata": {
  "kernelspec": {
   "display_name": "Python 3 (ipykernel)",
   "language": "python",
   "name": "python3"
  },
  "language_info": {
   "codemirror_mode": {
    "name": "ipython",
    "version": 3
   },
   "file_extension": ".py",
   "mimetype": "text/x-python",
   "name": "python",
   "nbconvert_exporter": "python",
   "pygments_lexer": "ipython3",
   "version": "3.10.16"
  }
 },
 "nbformat": 4,
 "nbformat_minor": 5
}
