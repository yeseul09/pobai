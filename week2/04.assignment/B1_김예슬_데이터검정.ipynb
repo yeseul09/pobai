{
 "cells": [
  {
   "cell_type": "code",
   "execution_count": 1,
   "id": "e66a1a82-9e47-4e0a-bf03-5896db3dfba4",
   "metadata": {},
   "outputs": [],
   "source": [
    "import pandas as pd\n",
    "import numpy as np\n",
    "from scipy import stats\n",
    "from statsmodels.stats.proportion import proportions_ztest\n",
    "\n",
    "import matplotlib.pyplot as plt\n",
    "%matplotlib inline"
   ]
  },
  {
   "cell_type": "code",
   "execution_count": 2,
   "id": "bfa77d46-180b-4ee2-b632-16b4085f20b1",
   "metadata": {},
   "outputs": [],
   "source": [
    "import warnings\n",
    "warnings.filterwarnings('ignore')"
   ]
  },
  {
   "cell_type": "markdown",
   "id": "36b742bb-2dff-4b31-b958-8c8161f3724b",
   "metadata": {},
   "source": [
    "#### 233 p"
   ]
  },
  {
   "cell_type": "code",
   "execution_count": 3,
   "id": "37790be9-fd11-458b-bf94-ec4f06418832",
   "metadata": {},
   "outputs": [
    {
     "name": "stdout",
     "output_type": "stream",
     "text": [
      "15.9 %\n"
     ]
    }
   ],
   "source": [
    "mean = 175\n",
    "std = 5\n",
    "x = 180\n",
    "\n",
    "prob = stats.norm.cdf(x, mean, std) #cdf = 누적분포함수, 평균이 mean, 표준편차가 std일때 정규분포에서 x까지의 누적확률을 반환\n",
    "print(round((1-prob)*100,1),\"%\") "
   ]
  },
  {
   "cell_type": "markdown",
   "id": "35c6f5f0-8907-4271-8c5b-12d6f8703494",
   "metadata": {},
   "source": [
    "평균이 175cm, 표준편차가 5cm일때 180cm의 키는 정규분포의 가운데에서 표준편차만큼 떨어진 곳의 바깥 부분 면적과 같으므로 1-(180cm까지의 누적확률)이다. \n",
    "이에 따라 15.9%이다. "
   ]
  },
  {
   "cell_type": "markdown",
   "id": "4c7b931c-fb4d-499f-95f0-86372df0fac9",
   "metadata": {},
   "source": [
    "#### 235 p"
   ]
  },
  {
   "cell_type": "code",
   "execution_count": 4,
   "id": "aae1f44f-75aa-4e1f-9b6b-1abb5f01983c",
   "metadata": {},
   "outputs": [
    {
     "name": "stdout",
     "output_type": "stream",
     "text": [
      "1: 68.3 %\n",
      "2: 15.9 %\n"
     ]
    }
   ],
   "source": [
    "mean = 12\n",
    "std = 3\n",
    "x = 15\n",
    "prob = stats.norm.cdf(x, mean, std)\n",
    "print(\"1:\",round(abs((1-2*prob)*100),1),\"%\")\n",
    "print(\"2:\",round((1-prob)*100,1),\"%\")"
   ]
  },
  {
   "cell_type": "markdown",
   "id": "703a6d2f-47ab-4ee2-bf99-24db1bcbc26c",
   "metadata": {},
   "source": [
    "1. 평균이 12km, 표준편차가 3km일때 9km 이상 15km 이하는 정규분포에서 -1표준편차부터 +1표준편차까지의 넓이이므로 68.2%(68.3%)이다.\n",
    "2. 15km이상일 경우, 1-(15km까지의 누적확률)일 경우 15.9%이다.                                  \n"
   ]
  },
  {
   "cell_type": "markdown",
   "id": "6ea41a6c-fe37-419a-b178-a82f464a01f8",
   "metadata": {},
   "source": [
    "#### 241 p"
   ]
  },
  {
   "cell_type": "code",
   "execution_count": 5,
   "id": "c8bd4e1c-f033-41e7-a829-5c83a7a335ec",
   "metadata": {},
   "outputs": [
    {
     "name": "stdout",
     "output_type": "stream",
     "text": [
      "P (T ≤ t) : 0.976\n"
     ]
    }
   ],
   "source": [
    "t = 2.0\n",
    "df = 100\n",
    "prob = stats.t.cdf(t, df)\n",
    "print(\"P (T ≤ t) :\",round(prob,3))"
   ]
  },
  {
   "cell_type": "markdown",
   "id": "b3e98e40-49a4-4314-8242-9801ba7b532c",
   "metadata": {},
   "source": [
    "#### 244 p"
   ]
  },
  {
   "cell_type": "code",
   "execution_count": 6,
   "id": "1f19f721-4f2a-4c22-bcdf-1c07bfdae574",
   "metadata": {},
   "outputs": [
    {
     "name": "stdout",
     "output_type": "stream",
     "text": [
      "p(x ≤ 3.0): 0.0656\n"
     ]
    }
   ],
   "source": [
    "chisq = 3.0\n",
    "df = 8\n",
    "prob = stats.chi2.cdf(chisq,df)\n",
    "print(\"p(x ≤ 3.0):\", round(prob,4))"
   ]
  },
  {
   "cell_type": "markdown",
   "id": "48b60984-6f15-46c5-8b9e-bc0bcaf95ce9",
   "metadata": {},
   "source": [
    "#### 247 p"
   ]
  },
  {
   "cell_type": "code",
   "execution_count": 7,
   "id": "2822a3e4-1247-46ad-8c9e-22a8d00807c0",
   "metadata": {},
   "outputs": [
    {
     "name": "stdout",
     "output_type": "stream",
     "text": [
      "P(X<=F): 0.85\n"
     ]
    }
   ],
   "source": [
    "prob = stats.f.cdf(1.5, 10,100)\n",
    "print(\"P(X<=F):\", round(prob,3))"
   ]
  },
  {
   "cell_type": "markdown",
   "id": "1b399bb2-42b5-4fb7-8555-d5563645482e",
   "metadata": {},
   "source": [
    "#### 253 p"
   ]
  },
  {
   "cell_type": "code",
   "execution_count": 8,
   "id": "11c07e8a-33e4-4efc-8e0e-5fcd0d61fab9",
   "metadata": {},
   "outputs": [
    {
     "name": "stdout",
     "output_type": "stream",
     "text": [
      "P(X=0):0.168\n",
      "P(X=1):0.36\n",
      "P(X=2):0.309\n",
      "P(X=3):0.132\n",
      "P(X=4):0.028\n",
      "P(X=5):0.002\n"
     ]
    }
   ],
   "source": [
    "n = 5\n",
    "for i in range(n+1):\n",
    "    prob = stats.binom.pmf(k = i, n = n, p = 0.3)\n",
    "    print(f\"P(X={i}):{prob.round(3)}\")"
   ]
  },
  {
   "cell_type": "markdown",
   "id": "02d75de2-d09c-4c05-ac95-d237d613ecbe",
   "metadata": {},
   "source": [
    "#### 269 p"
   ]
  },
  {
   "cell_type": "code",
   "execution_count": 9,
   "id": "84dd5674-4a09-42b9-bfcc-e13a831b3d22",
   "metadata": {},
   "outputs": [
    {
     "data": {
      "text/html": [
       "<div>\n",
       "<style scoped>\n",
       "    .dataframe tbody tr th:only-of-type {\n",
       "        vertical-align: middle;\n",
       "    }\n",
       "\n",
       "    .dataframe tbody tr th {\n",
       "        vertical-align: top;\n",
       "    }\n",
       "\n",
       "    .dataframe thead th {\n",
       "        text-align: right;\n",
       "    }\n",
       "</style>\n",
       "<table border=\"1\" class=\"dataframe\">\n",
       "  <thead>\n",
       "    <tr style=\"text-align: right;\">\n",
       "      <th></th>\n",
       "      <th>Mat_A</th>\n",
       "      <th>Mat_B</th>\n",
       "    </tr>\n",
       "  </thead>\n",
       "  <tbody>\n",
       "    <tr>\n",
       "      <th>0</th>\n",
       "      <td>73.4</td>\n",
       "      <td>68.7</td>\n",
       "    </tr>\n",
       "    <tr>\n",
       "      <th>1</th>\n",
       "      <td>77.0</td>\n",
       "      <td>71.4</td>\n",
       "    </tr>\n",
       "    <tr>\n",
       "      <th>2</th>\n",
       "      <td>73.7</td>\n",
       "      <td>69.8</td>\n",
       "    </tr>\n",
       "    <tr>\n",
       "      <th>3</th>\n",
       "      <td>73.3</td>\n",
       "      <td>75.3</td>\n",
       "    </tr>\n",
       "    <tr>\n",
       "      <th>4</th>\n",
       "      <td>73.1</td>\n",
       "      <td>71.3</td>\n",
       "    </tr>\n",
       "    <tr>\n",
       "      <th>5</th>\n",
       "      <td>71.5</td>\n",
       "      <td>72.7</td>\n",
       "    </tr>\n",
       "    <tr>\n",
       "      <th>6</th>\n",
       "      <td>74.5</td>\n",
       "      <td>66.9</td>\n",
       "    </tr>\n",
       "    <tr>\n",
       "      <th>7</th>\n",
       "      <td>77.5</td>\n",
       "      <td>70.2</td>\n",
       "    </tr>\n",
       "    <tr>\n",
       "      <th>8</th>\n",
       "      <td>76.4</td>\n",
       "      <td>74.4</td>\n",
       "    </tr>\n",
       "    <tr>\n",
       "      <th>9</th>\n",
       "      <td>77.7</td>\n",
       "      <td>70.1</td>\n",
       "    </tr>\n",
       "  </tbody>\n",
       "</table>\n",
       "</div>"
      ],
      "text/plain": [
       "   Mat_A  Mat_B\n",
       "0   73.4   68.7\n",
       "1   77.0   71.4\n",
       "2   73.7   69.8\n",
       "3   73.3   75.3\n",
       "4   73.1   71.3\n",
       "5   71.5   72.7\n",
       "6   74.5   66.9\n",
       "7   77.5   70.2\n",
       "8   76.4   74.4\n",
       "9   77.7   70.1"
      ]
     },
     "execution_count": 9,
     "metadata": {},
     "output_type": "execute_result"
    }
   ],
   "source": [
    "data = pd.read_csv(\"../01.files/01.Bigdata_basic/2sample_t_test.csv\")\n",
    "data"
   ]
  },
  {
   "cell_type": "code",
   "execution_count": 10,
   "id": "0182ba92-3ac2-4b08-b6af-ef4c0904c978",
   "metadata": {},
   "outputs": [
    {
     "name": "stdout",
     "output_type": "stream",
     "text": [
      "0.906 0.256\n",
      "0.973 0.917\n"
     ]
    }
   ],
   "source": [
    "statistic, p = stats.shapiro(data['Mat_A'])\n",
    "print(round(statistic, 3), round(p, 3))\n",
    "# 정규성 검정 필요\n",
    "\n",
    "statistic, p = stats.shapiro(data['Mat_B'])\n",
    "print(round(statistic, 3), round(p, 3))"
   ]
  },
  {
   "cell_type": "markdown",
   "id": "01f86402-61cf-4e09-b018-7211be4f59cc",
   "metadata": {},
   "source": [
    "#### 272 p"
   ]
  },
  {
   "cell_type": "code",
   "execution_count": 11,
   "id": "c81f0b00-00a4-45a2-8c7a-b06ac00bf866",
   "metadata": {},
   "outputs": [
    {
     "name": "stdout",
     "output_type": "stream",
     "text": [
      "신뢰구간:[17.83],[21.17]\n"
     ]
    }
   ],
   "source": [
    "df_potato = pd.DataFrame({'w':[18,18,20,21,20,23,19,18,17,21,22,20,20,21,20,19,19,18,17,19]})\n",
    "lower, upper = stats.norm.interval(0.95, loc = np.mean(df_potato), scale = 3.8/np.sqrt(20))\n",
    "print(f\"신뢰구간:{lower.round(2)},{upper.round(2)}\")"
   ]
  },
  {
   "cell_type": "markdown",
   "id": "853086a9-caf3-4db7-97fd-efe9e51e25e4",
   "metadata": {},
   "source": [
    "#### 275 p"
   ]
  },
  {
   "cell_type": "code",
   "execution_count": 12,
   "id": "32941c58-7c25-4449-8cd1-31ee97af2e7e",
   "metadata": {},
   "outputs": [
    {
     "data": {
      "text/plain": [
       "20"
      ]
     },
     "execution_count": 12,
     "metadata": {},
     "output_type": "execute_result"
    }
   ],
   "source": [
    "df_data = pd.DataFrame({'sample':[73,71,74,69,70,73,70,68,75,72,70,72,73,70,70,72,71,70,75,72]})\n",
    "len(df_data)"
   ]
  },
  {
   "cell_type": "code",
   "execution_count": 13,
   "id": "87c74444-ec0e-494d-b39a-1d5312b748fa",
   "metadata": {},
   "outputs": [
    {
     "data": {
      "text/plain": [
       "array([0.43225236])"
      ]
     },
     "execution_count": 13,
     "metadata": {},
     "output_type": "execute_result"
    }
   ],
   "source": [
    "stats.sem(df_data)"
   ]
  },
  {
   "cell_type": "code",
   "execution_count": 14,
   "id": "ab7e792c-0fb6-4cbc-9268-51295db09d3f",
   "metadata": {},
   "outputs": [
    {
     "name": "stdout",
     "output_type": "stream",
     "text": [
      "신뢰구간: [70.6] [72.4]\n"
     ]
    }
   ],
   "source": [
    "lower, upper = stats.t.interval(0.95, len(df_data)-1, loc = np.mean(df_data), scale = stats.sem(df_data))\n",
    "print(\"신뢰구간:\", lower.round(2), upper.round(2))"
   ]
  },
  {
   "cell_type": "markdown",
   "id": "85de081e-1ee7-497d-8186-158e2d39331f",
   "metadata": {},
   "source": [
    "#### 299"
   ]
  },
  {
   "cell_type": "code",
   "execution_count": 15,
   "id": "55799db7-77ef-4c40-b657-9ce5bb016dd0",
   "metadata": {},
   "outputs": [
    {
     "name": "stdout",
     "output_type": "stream",
     "text": [
      "0.847 0.054\n",
      "통계량: [3.379]\n",
      "P-value: [0.008]\n"
     ]
    }
   ],
   "source": [
    "# H0: 변화가 없다.\n",
    "# H1: 변화가 있다. \n",
    "\n",
    "df_data = pd.DataFrame({'satisfy' : [85.0, 79.0, 79.1, 79.9, 81.6, 78.6, 85.4, 83.4, 78.1, 79.2]})\n",
    "statistic, p = stats.shapiro(df_data['satisfy'])\n",
    "print(round(statistic, 3), round(p, 3))\n",
    "\n",
    "t_result = stats.ttest_1samp(df_data, 78.0)\n",
    "t, p = t_result.statistic.round(3), t_result.pvalue.round(3)\n",
    "\n",
    "print(\"통계량:\",t)\n",
    "print(\"P-value:\", p)"
   ]
  },
  {
   "cell_type": "markdown",
   "id": "021f813b-cdb9-4ce9-a950-70c7d688fde4",
   "metadata": {},
   "source": [
    "p-value가 0.05보다 낮으므로, 만족도의 변화가 있다고 분석된다."
   ]
  },
  {
   "cell_type": "code",
   "execution_count": 16,
   "id": "49f85500-4207-4705-969c-a73df83f1c00",
   "metadata": {},
   "outputs": [
    {
     "data": {
      "text/plain": [
       "<Axes: >"
      ]
     },
     "execution_count": 16,
     "metadata": {},
     "output_type": "execute_result"
    },
    {
     "data": {
      "image/png": "[encoded data removed]",
      "text/plain": [
       "<Figure size 640x480 with 1 Axes>"
      ]
     },
     "metadata": {},
     "output_type": "display_data"
    }
   ],
   "source": [
    "df_data.boxplot()"
   ]
  },
  {
   "cell_type": "markdown",
   "id": "c141efe4-7e3c-4dcc-b6ec-3cacf65a10ac",
   "metadata": {},
   "source": [
    "#### 302 p"
   ]
  },
  {
   "cell_type": "code",
   "execution_count": 17,
   "id": "9a4bb380-2071-4606-af95-9e02a4d9c1e9",
   "metadata": {},
   "outputs": [],
   "source": [
    "# H0: 차이가 없다.\n",
    "# H1: 차이가 있다.\n",
    "df_data = pd.DataFrame({'Supplier' : ['B','B','B','A','A','A','B','B','B','A','A','A','A','A','B','B'],\n",
    "                       'Thickness' : [1.435, 1.572, 1.486,1.883, 1.715, 1.799, 1.511, 1.457, 1.548, 1.768, 1.711, 1.832, 1.427, 1.344, 1.404, 1.800]})\n",
    "\n",
    "df_A = df_data[df_data['Supplier'] == 'A']\n",
    "df_B = df_data[df_data['Supplier'] == 'B']"
   ]
  },
  {
   "cell_type": "code",
   "execution_count": 18,
   "id": "c3c7132f-d0fe-47cc-921a-8e17e3cae00e",
   "metadata": {},
   "outputs": [
    {
     "name": "stdout",
     "output_type": "stream",
     "text": [
      "0.843 0.08\n",
      "0.839 0.074\n"
     ]
    },
    {
     "data": {
      "text/plain": [
       "BartlettResult(statistic=1.2899966318541203, pvalue=0.25604857136527204)"
      ]
     },
     "execution_count": 18,
     "metadata": {},
     "output_type": "execute_result"
    }
   ],
   "source": [
    "statistic, p = stats.shapiro(df_A['Thickness'])\n",
    "print(round(statistic, 3), round(p, 3))\n",
    "\n",
    "statistic, p = stats.shapiro(df_B['Thickness'])\n",
    "print(round(statistic, 3), round(p, 3))\n",
    "\n",
    "stats.bartlett(df_A['Thickness'],df_B['Thickness'])"
   ]
  },
  {
   "cell_type": "code",
   "execution_count": 19,
   "id": "36f5f2f5-aa73-4cbf-816e-df9e7de10945",
   "metadata": {},
   "outputs": [
    {
     "name": "stdout",
     "output_type": "stream",
     "text": [
      " 2-Sample t-test \n",
      "  t검정통계량: 1.94 \n",
      " p-value : 0.073 \n"
     ]
    }
   ],
   "source": [
    "t_result = stats.ttest_ind(df_A['Thickness'],df_B['Thickness'])\n",
    "\n",
    "t,p = t_result.statistic.round(3), t_result.pvalue.round(3)\n",
    "print( \" 2-Sample t-test \")\n",
    "print( \"  t검정통계량: {} \" .format(t)) ; print( \" p-value : {} \" .format(p))"
   ]
  },
  {
   "cell_type": "markdown",
   "id": "e8d8b74e-8f2f-4bf5-a5c3-8674ed610f90",
   "metadata": {},
   "source": [
    "p-value가 0.05보다 높으므로, 차이가 없다고 볼 수 있다. "
   ]
  },
  {
   "cell_type": "markdown",
   "id": "cdac3294-6a1d-49a9-9192-d01fef8edea3",
   "metadata": {},
   "source": [
    "#### 305 p"
   ]
  },
  {
   "cell_type": "code",
   "execution_count": 20,
   "id": "18d06149-c380-48b4-8ce5-72b9d4cd7df7",
   "metadata": {},
   "outputs": [
    {
     "name": "stdout",
     "output_type": "stream",
     "text": [
      "Paired t-test \n",
      " t: -2.266 \n",
      " p: 0.05 \n"
     ]
    }
   ],
   "source": [
    "# H0: 차이가 없다\n",
    "# H1: 차이가 있다.\n",
    "\n",
    "df_data = pd.DataFrame({'before':[720,589,780,648,720,589,780,648,780,648],\n",
    "                       'after':[710,580,787,712,750,600,782,670,790,680]})\n",
    "t_result = stats.ttest_rel(df_data['before'], df_data['after'])\n",
    "t, p = t_result.statistic.round(3), t_result.pvalue.round(3)\n",
    "\n",
    "print( \"Paired t-test \")\n",
    "print( \" t: {} \" .format(t))\n",
    "print( \" p: {} \" .format(p))"
   ]
  },
  {
   "cell_type": "markdown",
   "id": "2d5e63bc-eddb-4452-ba97-dafb234a31b0",
   "metadata": {},
   "source": [
    "p-value가 0.05이므로 귀무가설이 기각됨에 따라 차이가 있다. "
   ]
  },
  {
   "cell_type": "markdown",
   "id": "7d9914c7-05a3-4635-b1fe-a3dd376cb50b",
   "metadata": {},
   "source": [
    "#### 310 p"
   ]
  },
  {
   "cell_type": "code",
   "execution_count": 21,
   "id": "33954843-8e2a-48be-af06-85db553e936a",
   "metadata": {},
   "outputs": [
    {
     "name": "stdout",
     "output_type": "stream",
     "text": [
      "1 Proportion test\n",
      " z: 0.839\n",
      " p: 0.041\n"
     ]
    }
   ],
   "source": [
    "# H0: 정상이다.\n",
    "# H1: 비정상이다.\n",
    "\n",
    "count = 40\n",
    "n_obs = 100\n",
    "value = 0.5\n",
    "\n",
    "z, p = proportions_ztest(count, n_obs, value)\n",
    "\n",
    "print( \"1 Proportion test\")\n",
    "print( ' z: {0:0.3f}' .format(statistic))\n",
    "print( ' p: {0:0.3f}'.format(p))"
   ]
  },
  {
   "cell_type": "markdown",
   "id": "4332d778-7143-46cf-a3dc-f7b0a8ed48cb",
   "metadata": {},
   "source": [
    "p-value가 0.05보다 작으므로 비정상임을 알 수 있다. "
   ]
  },
  {
   "cell_type": "markdown",
   "id": "b46b2458-9307-4132-8c7b-29b09c8bd0bc",
   "metadata": {},
   "source": [
    "#### 313 p"
   ]
  },
  {
   "cell_type": "code",
   "execution_count": 23,
   "id": "012d68f3-dd63-4e88-9ede-96ae0d61c8d0",
   "metadata": {},
   "outputs": [
    {
     "name": "stdout",
     "output_type": "stream",
     "text": [
      "2 Proportion test\n",
      " z: 0.839\n",
      " p: 0.088\n"
     ]
    }
   ],
   "source": [
    "# H0: p1 = p2\n",
    "# H1: p1 != p2\n",
    "\n",
    "count = np.array([12,5])\n",
    "nobs = np.array([1200,1200])\n",
    "\n",
    "z, p = proportions_ztest(count, nobs)\n",
    "print( \"2 Proportion test\")\n",
    "print( ' z: {0:0.3f}' .format(statistic))\n",
    "print( ' p: {0:0.3f}'.format(p))"
   ]
  },
  {
   "cell_type": "markdown",
   "id": "9e238bea-111e-4e58-9a0f-0d1edb5d4de1",
   "metadata": {},
   "source": [
    "p-value가 0.05보다 크므로, 두 공장의 불량률에 차이가 없음을 알 수 있다. "
   ]
  },
  {
   "cell_type": "markdown",
   "id": "a1569165-bcc9-4ba5-974d-355d61c43f62",
   "metadata": {},
   "source": [
    "#### 321 p"
   ]
  },
  {
   "cell_type": "code",
   "execution_count": 24,
   "id": "16f8738c-f938-405d-b803-97b0ed1c65cd",
   "metadata": {},
   "outputs": [
    {
     "name": "stdout",
     "output_type": "stream",
     "text": [
      "chi-square test \n",
      " chisq: 98.27\n",
      " p-value : 0.0000\n",
      " degree of freedom: 30\n",
      " expected value: \n",
      "[[11.   8.2  5.2  3.8  1.9  9.8]\n",
      " [ 8.5  6.4  4.1  3.   1.5  7.6]\n",
      " [10.5  7.8  5.   3.7  1.8  9.3]\n",
      " [ 8.3  6.2  3.9  2.9  1.4  7.3]\n",
      " [ 8.   6.   3.8  2.8  1.4  7.1]\n",
      " [ 8.8  6.6  4.2  3.1  1.5  7.8]\n",
      " [ 8.   6.   3.8  2.8  1.4  7.1]]\n"
     ]
    }
   ],
   "source": [
    "# H0: 각 제품에 대한 이미지 차이가 없다\n",
    "# H1: 각 제품에 대한 이미지 차이가 있다. \n",
    "\n",
    "df_data = pd.DataFrame({\n",
    "    'A':[18,1,8,7,10,9,10],\n",
    "    'B':[8,2,14,5,5,9,4],\n",
    "    'C':[4,1,3,4,9,5,4],\n",
    "    'D':[4,1,2,3,2,7,3],\n",
    "    'E':[3,1,3,1,1,1,1],\n",
    "    'F':[3,25,8,10,2,1,7]\n",
    "})\n",
    "chi, pval, dof, expected = stats.chi2_contingency(df_data)\n",
    "\n",
    "# chi-square test 결과 출력\n",
    "print( \"chi-square test \")\n",
    "print( ' chisq: {0:0.2f}' .format(chi))\n",
    "print( ' p-value : {0:0.4f}'.format(pval))\n",
    "print( ' degree of freedom: {}' .format(dof))\n",
    "print( ' expected value: \\n{}' .format(expected.round(1)))"
   ]
  },
  {
   "cell_type": "markdown",
   "id": "3082f20b-d415-4a5e-8517-6716ec74ff26",
   "metadata": {},
   "source": [
    "유의수준 0.5%에서 p-value는 그보다 낮으므로, 각 제품에 대하여 이미지 차이가 있다고 할 수 있다. "
   ]
  },
  {
   "cell_type": "markdown",
   "id": "644d7369-0da2-43e9-8050-77cc9772fa23",
   "metadata": {},
   "source": [
    "#### 328 p"
   ]
  },
  {
   "cell_type": "code",
   "execution_count": 25,
   "id": "0bc22a19-cc88-4b85-860e-508725501b1f",
   "metadata": {},
   "outputs": [
    {
     "name": "stdout",
     "output_type": "stream",
     "text": [
      "type 별\n",
      "statistic=0.9821396890860578, p-value=0.9907690420937295\n",
      "statistic=0.909827276366793, p-value=0.2122626774616082\n",
      "\n",
      "Gangjong 별\n",
      "statistic=0.9879402484638727, p-value=0.9835576371370772\n",
      "statistic=0.9769708531514716, p-value=0.9355481069537137\n",
      "statistic=0.8929418389400074, p-value=0.33388968261479385\n",
      "statistic=0.9713903657895416, p-value=0.901640794517041\n"
     ]
    }
   ],
   "source": [
    "# H0: 강종/type 별로 2차 정련 시간에 차이가 없다.\n",
    "# H1: 강종/type 별로 2차 정련 시간에 차이가 있다.\n",
    "\n",
    "df = pd.read_csv(\"../01.files/01.Bigdata_basic/ANOVA.csv\")\n",
    "df_t = pd.DataFrame({'a' : df[df['type']=='a']['time'].reset_index(drop=True),\n",
    "                    'b': df[df['type']=='b']['time'].reset_index(drop=True)})\n",
    "gangjong = df.groupby('gangjong')['time'].apply(list)\n",
    "\n",
    "print(\"type 별\")\n",
    "statistic, p = stats.shapiro(df_t['a'])\n",
    "print(f\"statistic={statistic}, p-value={p}\")\n",
    "\n",
    "statistic, p = stats.shapiro(df_t['b'])\n",
    "print(f\"statistic={statistic}, p-value={p}\")\n",
    "\n",
    "print(\"\\nGangjong 별\")\n",
    "for i in gangjong:\n",
    "    statistic, p = stats.shapiro(i)\n",
    "    print(f\"statistic={statistic}, p-value={p}\")"
   ]
  },
  {
   "cell_type": "code",
   "execution_count": 26,
   "id": "73bbd921-342f-4dc4-b11d-7ba2382c8f95",
   "metadata": {},
   "outputs": [
    {
     "name": "stdout",
     "output_type": "stream",
     "text": [
      "BartlettResult(statistic=0.9529700642151103, pvalue=0.3289644435379086)\n",
      "BartlettResult(statistic=1.8729084232387967, pvalue=0.5991991808067023)\n"
     ]
    }
   ],
   "source": [
    "print(stats.bartlett(df_t['a'], df_t['b']))\n",
    "print(stats.bartlett(gangjong['a'],gangjong['b'],gangjong['c'],gangjong['d']))"
   ]
  },
  {
   "cell_type": "code",
   "execution_count": 27,
   "id": "c2bb93b6-dc04-40c8-beb5-cbb4140cb9f1",
   "metadata": {},
   "outputs": [
    {
     "data": {
      "text/plain": [
       "Text(0.5, 1.0, 'gangjong Boxplot')"
      ]
     },
     "execution_count": 27,
     "metadata": {},
     "output_type": "execute_result"
    },
    {
     "data": {
      "image/png": "[encoded data removed]",
      "text/plain": [
       "<Figure size 1000x300 with 2 Axes>"
      ]
     },
     "metadata": {},
     "output_type": "display_data"
    }
   ],
   "source": [
    "fig, axes = plt.subplots(nrows=1, ncols=2, figsize=(10, 3))\n",
    "plt.tight_layout(w_pad=5, h_pad=5)\n",
    "df_g = pd.DataFrame({'a' : df[df['gangjong']=='a']['time'].reset_index(drop=True),\n",
    "                    'b': df[df['gangjong']=='b']['time'].reset_index(drop=True),\n",
    "                    'c': df[df['gangjong']=='c']['time'].reset_index(drop=True),\n",
    "                    'd': df[df['gangjong']=='d']['time'].reset_index(drop=True)})\n",
    "\n",
    "df_t.boxplot(ax=axes[0])\n",
    "axes[0].set_title('type Boxplot')\n",
    "\n",
    "df_g.boxplot(ax=axes[1])\n",
    "axes[1].set_title('gangjong Boxplot')"
   ]
  },
  {
   "cell_type": "code",
   "execution_count": 28,
   "id": "32fe56bf-06c5-4c73-ab5a-a227ca11d0c0",
   "metadata": {},
   "outputs": [
    {
     "data": {
      "text/plain": [
       "gangjong\n",
       "a    [32.2, 30.4, 33.6, 36.4, 33.9, 34.9]\n",
       "b    [33.1, 29.9, 31.7, 27.5, 34.0, 30.7]\n",
       "c    [32.6, 32.7, 29.3, 25.9, 31.1, 23.8]\n",
       "d    [26.7, 28.5, 30.9, 26.2, 32.3, 23.7]\n",
       "Name: time, dtype: object"
      ]
     },
     "execution_count": 28,
     "metadata": {},
     "output_type": "execute_result"
    }
   ],
   "source": [
    "gangjong"
   ]
  },
  {
   "cell_type": "code",
   "execution_count": 30,
   "id": "11838edf-a3dd-46ac-ac77-2df61a12042a",
   "metadata": {},
   "outputs": [
    {
     "name": "stdout",
     "output_type": "stream",
     "text": [
      "One-way ANOVA \n",
      " F통계량 : 9.654 \n",
      " p-value : 0.005 \n"
     ]
    }
   ],
   "source": [
    "f_result = stats.f_oneway(df_t['a'], df_t['b'])\n",
    "\n",
    "f, p = f_result.statistic.round(3), f_result.pvalue.round(3)\n",
    "\n",
    "print( \"One-way ANOVA \")\n",
    "print( f\" F통계량 : {f} \")\n",
    "print( f\" p-value : {p} \")"
   ]
  },
  {
   "cell_type": "code",
   "execution_count": 31,
   "id": "9bb21fcf-7b03-446d-9fb4-62eff2bba0b0",
   "metadata": {},
   "outputs": [
    {
     "name": "stdout",
     "output_type": "stream",
     "text": [
      "One-way ANOVA \n",
      " F통계량 : 4.172 \n",
      " p-value : 0.019 \n"
     ]
    }
   ],
   "source": [
    "f_result = stats.f_oneway(gangjong['a'],gangjong['b'],gangjong['c'],gangjong['d'])\n",
    "\n",
    "f, p = f_result.statistic.round(3), f_result.pvalue.round(3)\n",
    "\n",
    "print( \"One-way ANOVA \")\n",
    "print( f\" F통계량 : {f} \")\n",
    "print( f\" p-value : {p} \")"
   ]
  },
  {
   "cell_type": "markdown",
   "id": "9149a8c4-3d6d-4281-85c5-566324d4a271",
   "metadata": {},
   "source": [
    "강종별, 타입별로 검정하였을 때 둘 다 p-value가 0.05보다 낮기 때문에, 둘다 2차정련 시간에 차이가 있음을 보인다. "
   ]
  },
  {
   "cell_type": "markdown",
   "id": "6400aa4e-7f90-49d1-80d5-61ddc49c892c",
   "metadata": {},
   "source": [
    "#### 333p"
   ]
  },
  {
   "cell_type": "code",
   "execution_count": 32,
   "id": "9806fccf-2db0-4caa-b703-1af6791b7f78",
   "metadata": {},
   "outputs": [
    {
     "name": "stdout",
     "output_type": "stream",
     "text": [
      "Correlation Analysis \n",
      " corr: -0.723107314935157\n",
      " p-value : 0.0003152005510027819\n"
     ]
    }
   ],
   "source": [
    "df = pd.DataFrame({\n",
    "    'Strength' :[37.6, 38.6, 37.2, 36.4, 38.6, 39, 37.2, 36.1, 35.9, 37.1, 36.9, 37.5, 36.3, 38.1, 39, 36.9, 36.8, 37.6, 33, 33.5 ],\n",
    "    'Temperature' : [14,15,14,16,17,14,17,16,15,16,14,16,18,13,15,17,14,16,20,21]\n",
    "})\n",
    "\n",
    "corr, pval = stats.pearsonr(df['Strength'], df['Temperature'])\n",
    "\n",
    "print( \"Correlation Analysis \")\n",
    "print( f' corr: {corr}')\n",
    "print( f' p-value : {pval}')"
   ]
  },
  {
   "cell_type": "markdown",
   "id": "815609ea-1834-4f2e-a007-ec4b98f93851",
   "metadata": {},
   "source": [
    "상관계수의 경우 0보다 작으며(음), p-value가 0.05보다 낮으므로 유의미한 결과가 있으며, 둘은 강한 음의 선형관계를 가지고 있음을 알 수 있다."
   ]
  }
 ],
 "metadata": {
  "kernelspec": {
   "display_name": "Python 3 (ipykernel)",
   "language": "python",
   "name": "python3"
  },
  "language_info": {
   "codemirror_mode": {
    "name": "ipython",
    "version": 3
   },
   "file_extension": ".py",
   "mimetype": "text/x-python",
   "name": "python",
   "nbconvert_exporter": "python",
   "pygments_lexer": "ipython3",
   "version": "3.10.16"
  }
 },
 "nbformat": 4,
 "nbformat_minor": 5
}
