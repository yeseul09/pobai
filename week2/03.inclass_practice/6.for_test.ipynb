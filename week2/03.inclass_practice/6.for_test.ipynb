{
 "cells": [
  {
   "cell_type": "markdown",
   "id": "ae407671-c8e4-4c98-b22e-a22a0e674f48",
   "metadata": {},
   "source": [
    "p-value <= 0.05  귀무가설 기각\n",
    "p-value > 0.05 귀무가설 채택"
   ]
  },
  {
   "cell_type": "code",
   "execution_count": 8,
   "id": "2b9b4084-dd43-4c05-aea9-4d09b04fdc08",
   "metadata": {},
   "outputs": [],
   "source": [
    "import pandas as pd\n",
    "import numpy as np\n",
    "import matplotlib\n",
    "import matplotlib.pyplot as plt\n",
    "from scipy import stats\n",
    "from statsmodels.stats.proportion import proportions_ztest\n",
    "from matplotlib import rc\n",
    "import seaborn as sns\n",
    "\n",
    "%matplotlib inline"
   ]
  },
  {
   "cell_type": "code",
   "execution_count": 5,
   "id": "d6c8a7b7-f8d9-496d-a35b-e9370ecbf8d8",
   "metadata": {},
   "outputs": [],
   "source": [
    "# 한글 폰트 깨지지 않게 하기\n",
    "from matplotlib import rc\n",
    "rc('font', family='AppleGothic')\n",
    "plt.rcParams['axes.unicode_minus'] = False"
   ]
  },
  {
   "cell_type": "code",
   "execution_count": 6,
   "id": "0f7bac26-01e1-4625-bde3-1a0d984e7dec",
   "metadata": {},
   "outputs": [],
   "source": [
    "# 실행결과 경고메시지 출력 제외\n",
    "import warnings\n",
    "\n",
    "warnings.filterwarnings('ignore')"
   ]
  },
  {
   "cell_type": "markdown",
   "id": "e3b9acb3-84a4-407d-b75d-2a6d1982fa88",
   "metadata": {},
   "source": [
    "    - 정규 분포 확률 : 샘플 수, 정규성 검사(정규분포 하는지 안하는지 확인), 평균과 표준편차가 있는지...\n",
    "    - 이항 분포 확률 구하기\n",
    "    - 카이제곱검정 등 검정문제 (근데 과정이 있어야해)\n",
    "    - 평균 검정(2sample, paired t sample) \n",
    "        * 투샘플은 다른 집단에서 두개\n",
    "        * 페어드는 같은 집단에서 두개(학원 다닌 후 바뀐 어쩌구, 같은 자동차에 윤활유만 바꿧을때 이런)\n",
    "    - 상관분석 (가설검정, 추론통계)"
   ]
  },
  {
   "cell_type": "markdown",
   "id": "22ba716a-53f1-454c-9798-54e151bca583",
   "metadata": {},
   "source": [
    "### 정규분포 확률"
   ]
  },
  {
   "cell_type": "code",
   "execution_count": 12,
   "id": "e33cc1b3-7d92-4ce8-9b22-3f571826ab9f",
   "metadata": {},
   "outputs": [
    {
     "name": "stdout",
     "output_type": "stream",
     "text": [
      "12 km ~ 15 km 달릴 확률 34.1%에 해당\n"
     ]
    }
   ],
   "source": [
    "# 정규 분포 확률\n",
    "# 평균과 표준편차가 주어졌을 때\n",
    "\n",
    "# 누적확률 값 계산\n",
    "x = 15 # 구하고 싶은 값\n",
    "mu = 12 # 평균\n",
    "sigma = 3 # 표준편차\n",
    "\n",
    "# prob1: x 이하인 누적확률값 계산\n",
    "prob = stats.norm.cdf(x, mu, sigma) \n",
    "print(\"{0} km ~ {1} km 달릴 확률 {2:.1f}%에 해당\".format(mu, x, (prob-0.5)*100))"
   ]
  },
  {
   "cell_type": "code",
   "execution_count": 11,
   "id": "086b4d79-ca07-43ec-aac9-c9fb79fce602",
   "metadata": {},
   "outputs": [
    {
     "name": "stdout",
     "output_type": "stream",
     "text": [
      "Shapiro-Wilk Test p-value: 0.5253924062862338\n"
     ]
    },
    {
     "data": {
      "text/plain": [
       "<Axes: ylabel='Count'>"
      ]
     },
     "execution_count": 11,
     "metadata": {},
     "output_type": "execute_result"
    },
    {
     "data": {
      "image/png": "[encoded data removed]",
      "text/plain": [
       "<Figure size 640x480 with 1 Axes>"
      ]
     },
     "metadata": {},
     "output_type": "display_data"
    }
   ],
   "source": [
    "# 만약 평균과 표준편차가 주어지지않고 판단해야한다면?\n",
    "# 샘플 수 확인 (30개 이상), shapiro 검정 -> 평균과 표준편차 구하고, 확률 구하기\n",
    "\n",
    "# 샘플 데이터 생성 (예시: 시험 점수)\n",
    "np.random.seed(0)\n",
    "sample_data = np.random.normal(loc=70, scale=10, size=30)\n",
    "\n",
    "# 정규성 검정 (Shapiro-Wilk Test)\n",
    "stat, p_value = stats.shapiro(sample_data) \n",
    "print(f\"Shapiro-Wilk Test p-value: {p_value}\")\n",
    "# p-value > 0.05 여야 정규분포를 따른다. 귀무가설 채택\n",
    "\n",
    "# 히스토그램 그리기\n",
    "sns.histplot(sample_data, kde = True)"
   ]
  },
  {
   "cell_type": "code",
   "execution_count": null,
   "id": "e3a8991f-3b91-465b-9d68-12579c1bbc37",
   "metadata": {},
   "outputs": [],
   "source": [
    "# 정규분포 신뢰구간 추정\n",
    "# 모 표준편차를 알 때 \n",
    "\n",
    "lower, upper = stats.norm.interval(0.95, loc = np.mean(df), scale = 0.397/np.sqrt(40)) # 신뢰구간, 모평균, scale = 모표준편차/표본갯수)\n",
    "print(\"신뢰구간: ({0}, {1})\" .format(lower.round(2), upper.round(2)))"
   ]
  },
  {
   "cell_type": "code",
   "execution_count": null,
   "id": "95c2d827-886f-4e26-ba47-2b0ee5a3ec68",
   "metadata": {},
   "outputs": [],
   "source": [
    "# 정규분포 신뢰구간 추정\n",
    "# 모 표준편차를 모를 때 \n",
    "# t 분포 구간추정 함수 실행 : (loc: 평균의 값, scale: 변동 정도)  \n",
    "\n",
    "lower, upper = stats.t.interval(0.95, len(df)-1, loc = np.mean(df), scale = stats.sem(df)) # 신뢰구간, 자유도, 평균, 표본표준오차\n",
    "lower.round(2), upper.round(2)"
   ]
  },
  {
   "cell_type": "code",
   "execution_count": null,
   "id": "5096b57c-b9d5-4ef7-b1c1-10ea4313ae64",
   "metadata": {},
   "outputs": [],
   "source": [
    "# t 분포 확률 계산하기\n",
    "# 표본의 수가 30개 이하거나, 모집단의 std를 모를 때 사용\n",
    "\n",
    "t = 1.53\n",
    "df = 5 # 자유도\n",
    "\n",
    "# 누적확률 값 계산\n",
    "prob = stats.t.cdf(t, df)\n",
    "print(\" P(T<=t)= {:.1f}%\".format(prob*100))"
   ]
  },
  {
   "cell_type": "markdown",
   "id": "d41e653a-ea7c-4d00-abac-0b7891b02555",
   "metadata": {},
   "source": [
    "### 이항분포 확률"
   ]
  },
  {
   "cell_type": "code",
   "execution_count": 13,
   "id": "670073e2-e24e-4a8d-9c12-45b5f40ab532",
   "metadata": {},
   "outputs": [
    {
     "name": "stdout",
     "output_type": "stream",
     "text": [
      "P(X=0) = 0.216\n",
      "P(X=1) = 0.432\n",
      "P(X=2) = 0.288\n",
      "P(X=3) = 0.064\n",
      "The history saving thread hit an unexpected error (OperationalError('attempt to write a readonly database')).History will not be written to the database.\n"
     ]
    }
   ],
   "source": [
    "# 이항분포에서 확률 계산하기 : pmf(k,n,p) \n",
    "n = 3      # n : 3대의 차량 수\n",
    "p = 0.4    # 공정 불량\n",
    "\n",
    "for i in range(n+1) :\n",
    "   # 이항분포 Probability Mass Function\n",
    "    prob = stats.binom.pmf(k=i, n=n, p=p)  \n",
    "    print(\"P(X={0}) = {1:.3f}\".format(i, prob))"
   ]
  },
  {
   "cell_type": "markdown",
   "id": "baa45ee9-0436-4ec8-b9a3-29dba21f439e",
   "metadata": {},
   "source": [
    "### 카이제곱 등 검정 문제\n",
    " - t-test : 평균의 차이에 대한 검정\n",
    " - 1-sample t test : 단일 집단의 모평균 검정 (고객만족도와 요인)\n",
    " - 2-sample t test : 두개의 집단에 평균차이 검정 (서로 다른 두 집단 - 독립적이어야 함)\n",
    " - paired t test :  하나의 단위를 두고 전후 차이 검정 (같은 집단의 전후, 앞뒤 차이)\n",
    " - 1 proportion : 한 집단의 비율이 특정 비율과 같은지 비교\n",
    " - 2 proportions : 두 집단의 비율이 같은지 비교\n",
    " - 카이제곱: 관찰값과 기대값의 비교\n",
    " - ANOVA : 세(두)개 이상의 집단에 대한 평균 분석 비교\n",
    " - 상관분석 : 두 연속형 집단의 선형관계 분석"
   ]
  },
  {
   "cell_type": "code",
   "execution_count": 14,
   "id": "77acd384-679b-4cc1-a1a2-9f5284bd02a2",
   "metadata": {},
   "outputs": [],
   "source": [
    "# 가설검정 및 통계 분석 패키지\n",
    "import scipy.stats as stats\n",
    "from statsmodels.formula.api import ols\n",
    "\n",
    "# proportion test 패키지\n",
    "from statsmodels.stats.proportion import proportions_ztest\n",
    "\n",
    "# ANOVA 분석 패키지\n",
    "from statsmodels.stats.anova import anova_lm"
   ]
  },
  {
   "cell_type": "markdown",
   "id": "229f9306-622a-477d-a65d-d433f7a05872",
   "metadata": {},
   "source": [
    "카이제곱 검정 유형\t                      귀무가설 (H₀)\t       대립가설 (H₁)\n",
    "적합성 검정 (Goodness of Fit Test)\t\"관찰값과 기대값이 동일하다.\"\t\"관찰값과 기대값이 다르다.\"\n",
    "독립성 검정 (Test for Independence)\t\"두 변수는 서로 독립이다.\"\t\"두 변수는 서로 상관관계가 있다.\"\n",
    "동질성 검정 (Test for Homogeneity)\t\"두 모집단의 분포는 동일하다.\"\t\"두 모집단의 분포는 다르다.\""
   ]
  },
  {
   "cell_type": "code",
   "execution_count": 15,
   "id": "5658b999-27f5-4751-8f5c-ede517443a49",
   "metadata": {},
   "outputs": [
    {
     "name": "stdout",
     "output_type": "stream",
     "text": [
      "chi-square test \n",
      " chisq: 13.366\n",
      " p: 0.038\n",
      " degree pf freedom: 6\n",
      " expected value: \n",
      "[[258.333 276.333 230.667 234.667]\n",
      " [258.333 276.333 230.667 234.667]\n",
      " [258.333 276.333 230.667 234.667]]\n"
     ]
    }
   ],
   "source": [
    "# df 생성  \n",
    "df = pd.DataFrame({'Work_1': [270, 228, 277], \n",
    "                   'Work_2': [260, 285, 284], \n",
    "                   'Work_3': [236, 225, 231],\n",
    "                   'Work_4':[234, 262, 208]})\n",
    "\n",
    "# chi-square test 실행\n",
    "chi, pval, dof, expected = stats.chi2_contingency(df)\n",
    "\n",
    "# chi-square test 결과 출력\n",
    "print( \"chi-square test \")\n",
    "print( ' chisq: {0:0.3f}' .format(chi))\n",
    "print( ' p: {0:0.3f}'.format(pval))\n",
    "print( ' degree pf freedom: {}' .format(dof))\n",
    "print( ' expected value: \\n{}' .format(expected.round(3)))"
   ]
  },
  {
   "cell_type": "code",
   "execution_count": null,
   "id": "3698bb47-765d-4846-9138-4d8d1a05298e",
   "metadata": {},
   "outputs": [],
   "source": [
    "# 'A‘. ’B’, ’C’ 정규성 검정: Shapiro-Wilk Test\n",
    "f, p = stats.shapiro(df['A']) # 각각마다 다 해줘야함\n",
    "print(\"statistic={}, p-value={}\".format(f,p))"
   ]
  },
  {
   "cell_type": "code",
   "execution_count": null,
   "id": "3a0ec7d3-119a-44a4-b2f7-e45294753137",
   "metadata": {},
   "outputs": [],
   "source": [
    "# 'A‘. ’B’, ’C’ 등분산성 검정: bartlett Test\n",
    "stats.bartlett(df['A'], df['B'], df['C'])"
   ]
  },
  {
   "cell_type": "code",
   "execution_count": 18,
   "id": "5d52f2a4-0824-4cde-bacf-f4518b50ee6d",
   "metadata": {},
   "outputs": [
    {
     "name": "stdout",
     "output_type": "stream",
     "text": [
      "1 Proportion test \n",
      " z: 1.400\n",
      " p: 0.161\n"
     ]
    }
   ],
   "source": [
    "# 1 proportion\n",
    "\n",
    "# 변수 선언 \n",
    "count = 15\n",
    "n_obs = 100\n",
    "value = 0.1\n",
    "\n",
    "# Proportion test 실행\n",
    "z, p = proportions_ztest(count, n_obs, value)\n",
    "\n",
    "# Proportion test 결과 출력\n",
    "print( \"1 Proportion test \")\n",
    "print( ' z: {0:0.3f}' .format(z))\n",
    "print( ' p: {0:0.3f}'.format(p))"
   ]
  },
  {
   "cell_type": "code",
   "execution_count": null,
   "id": "57e172e4-cf4c-40c5-8fa3-50b45d35fcf9",
   "metadata": {},
   "outputs": [],
   "source": [
    "# 2 proportion\n",
    "# 변수 선언 \n",
    "count = np.array([4, 1])\n",
    "nobs = np.array([1000, 1200])\n",
    "\n",
    "# Proportion test 실행\n",
    "z, p = proportions_ztest(count, nobs)\n",
    "\n",
    "# Proportion test 결과 출력\n",
    "print( \"2 Proportion test \")\n",
    "print( ' z: {0:0.3f}' .format(z))\n",
    "print( ' p: {0:0.3f}'.format(p))"
   ]
  },
  {
   "cell_type": "markdown",
   "id": "6191fe2a-214d-46fd-be04-b4718ce9fa0f",
   "metadata": {},
   "source": [
    "### 평균검정"
   ]
  },
  {
   "cell_type": "code",
   "execution_count": 20,
   "id": "235e4ea2-cc1e-4896-897c-5845abaec174",
   "metadata": {},
   "outputs": [
    {
     "name": "stdout",
     "output_type": "stream",
     "text": [
      "1-Sample t-test \n",
      " t 통계량 : [11.871 24.43  48.42  10.131] \n",
      " p-value : [0.007 0.002 0.    0.01 ] \n"
     ]
    }
   ],
   "source": [
    "# 1-Sample t-test\n",
    "t_result = stats.ttest_1samp(df, 76.7)\n",
    "\n",
    "# 1-Sample t-test의 t값 p값 저장\n",
    "t, p = t_result.statistic.round(3), \\\n",
    "       t_result.pvalue.round(3)\n",
    "\n",
    "# 1-Sample t-test의 t값  p값 출력\n",
    "print( \"1-Sample t-test \")\n",
    "print( \" t 통계량 : {} \" .format(t))\n",
    "print( \" p-value : {} \" .format(p))"
   ]
  },
  {
   "cell_type": "code",
   "execution_count": 22,
   "id": "b693c3fa-6f6a-4bde-a950-7e5b37670c60",
   "metadata": {},
   "outputs": [
    {
     "data": {
      "image/png": "[encoded data removed]",
      "text/plain": [
       "<Figure size 640x480 with 1 Axes>"
      ]
     },
     "metadata": {},
     "output_type": "display_data"
    },
    {
     "name": "stdout",
     "output_type": "stream",
     "text": [
      "statistic=0.9094843757142952, p-value=0.06231014582345957\n",
      "statistic=0.9142492813717525, p-value=0.07683589072502073\n",
      "2-Sample t-test \n",
      " t: -3.335 \n",
      " p: 0.002 \n"
     ]
    }
   ],
   "source": [
    "# 2 sample t test\n",
    "# boxplot, 정규성 검정, 등분산성, 검정\n",
    "\n",
    "# Data직접 입력 \n",
    "df = pd.DataFrame({'A': [6, 5, 5, 4, 6, 7, 6, 4, 5, 6, 4, 5, 5, 6, 4, 8, 6, 5, 6, 7], \n",
    "                   'B': [7, 6, 7, 8, 7, 8, 8, 5, 7, 6, 5, 5, 6, 6, 5, 7, 9, 7, 7, 8]})\n",
    "df.head()\n",
    "\n",
    "# Group별 boxplot\n",
    "df.boxplot(['A','B'])\n",
    "plt.show()\n",
    "\n",
    "# ‘A‘, ‘B’ 정규성 검정: Shapiro-Wilk Test\n",
    "statistic, p = stats.shapiro(df['A'])\n",
    "print(\"statistic={}, p-value={}\".format(statistic,p))\n",
    "\n",
    "statistic, p = stats.shapiro(df['B'])\n",
    "print(\"statistic={}, p-value={}\".format(statistic,p))\n",
    "\n",
    "# 등분산성 검정\n",
    "stats.bartlett(df['A'], df['B'])\n",
    "\n",
    "# 2-Sample t-test\n",
    "t_result = stats.ttest_ind(df['A'], df['B'])\n",
    "\n",
    "# 2-Sample t-test의 t값 p값 저장\n",
    "t, p = t_result.statistic.round(3), t_result.pvalue.round(3)\n",
    "\n",
    "# 2-Sample t-test의 t값 p값 출력\n",
    "print( \"2-Sample t-test \")\n",
    "print( \" t: {} \" .format(t)) # 두 그룹의 평균 차이가 표준오차에 비해 얼마나 큰지\n",
    "print( \" p: {} \" .format(p))"
   ]
  },
  {
   "cell_type": "code",
   "execution_count": 23,
   "id": "a916e577-3b1e-4e05-b198-6b85a2ca5210",
   "metadata": {},
   "outputs": [
    {
     "name": "stdout",
     "output_type": "stream",
     "text": [
      "Paired t-test \n",
      " t: [-5.324] \n",
      " p: [0.] \n"
     ]
    }
   ],
   "source": [
    "# paired t test\n",
    "\n",
    "# df1, df2를 직접 입력 \n",
    "df1 = pd.DataFrame({'before': [720, 589, 780, 648, 720, 589, 780, 648, 780, 648]})\n",
    "df2 = pd.DataFrame({'after': [810, 670, 790, 712, 810, 670, 790, 712, 790, 712]})\n",
    "\n",
    "# Paired t-test\n",
    "t_result = stats.ttest_rel(df1, df2)\n",
    "\n",
    "# Paired t-test의 t값 p값 저장\n",
    "t, p = t_result.statistic.round(3), t_result.pvalue.round(3)\n",
    "\n",
    "# Paired t-test의 t값 p값 출력\n",
    "print( \"Paired t-test \")\n",
    "print( \" t: {} \" .format(t))\n",
    "print( \" p: {} \" .format(p))"
   ]
  },
  {
   "cell_type": "markdown",
   "id": "1d3a5f41-424f-4054-a990-9c0b1438bb83",
   "metadata": {},
   "source": [
    "### 상관분석\n",
    "1️⃣ 가설 설정\n",
    "2️⃣ 정규성 검사\n",
    "3️⃣ 상관계수 선택\n",
    "4️⃣ 유의성 검정 (p-value)\n",
    "5️⃣ 결론 도출"
   ]
  },
  {
   "cell_type": "code",
   "execution_count": 16,
   "id": "5ae3aa56-5e11-4ce8-83e2-ebe8af5f1ec9",
   "metadata": {},
   "outputs": [],
   "source": [
    "# 상관계수가 높고 피밸류가 낮다면, 귀무가설이 기각되며 상관관계는 강하지만 통계적으로 유의미하지 않다는 것을 의미함\n",
    "# 상관계수가 낮고 피밸류가 높으면, 선형관계가 아닐 수 있거나 이상치가 많은것임"
   ]
  },
  {
   "cell_type": "code",
   "execution_count": 17,
   "id": "1ca6d530-d832-4813-a455-b96d6d927271",
   "metadata": {},
   "outputs": [
    {
     "name": "stdout",
     "output_type": "stream",
     "text": [
      "Correlation Analysis \n",
      " corr: 0.989\n",
      " p-value : 0.000\n"
     ]
    }
   ],
   "source": [
    "# df 생성  \n",
    "df1 = [1, 2, 3, 4, 4, 5, 6, 6, 7, 8]\n",
    "df2 = [23, 29, 49, 64, 74, 87, 96, 97, 109, 119]\n",
    "\n",
    "# Correlation Analysis 실행\n",
    "corr, pval = stats.pearsonr(df1, df2)\n",
    "\n",
    "# Correlation, p-value 결과 출력 \n",
    "print( \"Correlation Analysis \")\n",
    "print( ' corr: {0:0.3f}' .format(corr))\n",
    "print( ' p-value : {0:0.3f}'.format(pval))"
   ]
  },
  {
   "cell_type": "code",
   "execution_count": null,
   "id": "adc01840-4cc2-4a75-9f1e-40f9ef72dc4d",
   "metadata": {},
   "outputs": [],
   "source": []
  }
 ],
 "metadata": {
  "kernelspec": {
   "display_name": "Python 3 (ipykernel)",
   "language": "python",
   "name": "python3"
  },
  "language_info": {
   "codemirror_mode": {
    "name": "ipython",
    "version": 3
   },
   "file_extension": ".py",
   "mimetype": "text/x-python",
   "name": "python",
   "nbconvert_exporter": "python",
   "pygments_lexer": "ipython3",
   "version": "3.10.16"
  }
 },
 "nbformat": 4,
 "nbformat_minor": 5
}
